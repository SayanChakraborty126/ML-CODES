{
 "cells": [
  {
   "cell_type": "markdown",
   "metadata": {},
   "source": [
    "\n",
    "### Given, the following: \n",
    "\n",
    "The states are:\n",
    "\n",
    "$\\mathcal{S}$ = {good, bad}\n",
    "\n",
    "The actions corresponding to states are:\n",
    "\n",
    "$\\mathcal{A}$(good) = {stay, move}, <br>\n",
    "$\\mathcal{A}$(bad) = {stay, move}\n",
    "\n",
    "The corresponding rewards are:\n",
    "\n",
    "$r_{GSG}$ = 3,  (for staying in state Good) <br> \n",
    "$r_{GSB}$ = -1, (for going to state Bad by attempting to stay at state Good) <br> \n",
    "$r_{BSB}$ = -1, (for staying in state Bad) <br>\n",
    "$r_{GMB}$ = -1, (for moving to state Bad from state Good) <br>\n",
    "$r_{BMG}$ = 3,  (for moving to state Good from state Bad) <br>\n",
    "\n",
    "\n",
    "The probabilities are:\n",
    "\n",
    "$p(good | good, stay)$ = $\\alpha$ = 0.5, <br>\n",
    "$p(bad | good, stay)$ = 1- $\\alpha$ = 0.5, <br>\n",
    "$p(bad | bad, stay)$ = $\\beta$ = 1, <br>\n",
    "$p(good | bad, move)$ = $\\lambda$ = 1, <br>\n",
    "$p(bad | good, move)$ = $\\delta$ = 1, <br>\n",
    "\n",
    "\n",
    "Note: Other state transition probabilities are zero. The discount factor is $\\gamma$ = 0.5.\n",
    "\n",
    "\n",
    "### To do:\n",
    "-  Implenent the value iteration algorithm.\n",
    "-  Find a policy\n",
    "\n",
    "\n"
   ]
  },
  {
   "cell_type": "code",
   "execution_count": 13,
   "metadata": {},
   "outputs": [],
   "source": [
    "import numpy as np\n",
    "import matplotlib.pyplot as plt "
   ]
  },
  {
   "cell_type": "markdown",
   "metadata": {},
   "source": [
    "### Define the Bellman optimality equations as follows:"
   ]
  },
  {
   "cell_type": "code",
   "execution_count": 14,
   "metadata": {},
   "outputs": [],
   "source": [
    "class Bellman_eqns():\n",
    "\n",
    "    def __init__(self): # initialize and define the attributes\n",
    "        \n",
    "        # The rewards. The meaning of these rewards are stated above.\n",
    "        self.r_GSG = 3   \n",
    "        self.r_GSB = -1\n",
    "        self.r_BSB = -1\n",
    "        self.r_GMB = -1\n",
    "        self.r_BMG = 3\n",
    "        \n",
    "        # The state transition probabilities. The meaning of these probabilities are stated above.\n",
    "        self.alpha = 0.5\n",
    "        self.beta = 1\n",
    "        self.lam = 1\n",
    "        self.delta = 1\n",
    "        self.gamma = 0.5\n",
    "\n",
    "\n",
    "    def bellman_eq_good_state(self, v_opt_g, v_opt_b): # define the Bellman optimality equations for the good state\n",
    "        eq1 = self.alpha*(self.r_GSG + self.gamma*v_opt_g) + (1-self.alpha)*(self.r_GSB + self.gamma*v_opt_b) # for action stay\n",
    "        eq2 = self.lam*(self.r_GMB+self.gamma*v_opt_b) # for action move\n",
    "        v_opt_g = max(eq1, eq2)\n",
    "        return v_opt_g, np.argmax(np.array([eq1, eq2])) # return v*(s = Good) and the best action\n",
    "    \n",
    "    def bellman_eq_bad_state(self, v_opt_g, v_opt_b): # define the Bellman optimality equations for the bad state\n",
    "        eq1 = self.beta*(self.r_BSB + self.gamma*v_opt_b)    # for action stay\n",
    "        eq2 = self.delta*(self.r_BMG + self.gamma*v_opt_g)   # for action move\n",
    "        v_opt_b = max(eq1, eq2)\n",
    "        return v_opt_b, np.argmax(np.array([eq1, eq2])) # return v*(s = Bad) and the best action\n",
    "\n",
    "\n",
    "    "
   ]
  },
  {
   "cell_type": "markdown",
   "metadata": {},
   "source": [
    "### Implement the value iteration algorithm"
   ]
  },
  {
   "cell_type": "code",
   "execution_count": 15,
   "metadata": {},
   "outputs": [],
   "source": [
    "obj = Bellman_eqns()\n",
    "\n",
    "v_opt_g = 0\n",
    "v_opt_b = 0\n",
    "delta = 100;\n",
    "epsilon = 0.000000005\n",
    "v_opt_g1 = 0\n",
    "v_opt_b1 = 0\n",
    "iter = 0;\n",
    "while delta>=epsilon:\n",
    "    \n",
    "    v_opt_g, _ = obj.bellman_eq_good_state(v_opt_g1, v_opt_b1)\n",
    "    v_opt_b, _ = obj.bellman_eq_bad_state(v_opt_g1, v_opt_b1)\n",
    "    delta = max(abs(v_opt_g-v_opt_g1), abs(v_opt_b-v_opt_b1))\n",
    "    v_opt_g1 = v_opt_g\n",
    "    v_opt_b1 = v_opt_b\n",
    "    vec = np.array([v_opt_g, v_opt_b])\n",
    "    iter += 1"
   ]
  },
  {
   "cell_type": "markdown",
   "metadata": {},
   "source": [
    "### The value iteration algorithm converged to the following optimal values:"
   ]
  },
  {
   "cell_type": "code",
   "execution_count": 16,
   "metadata": {
    "scrolled": true
   },
   "outputs": [
    {
     "name": "stdout",
     "output_type": "stream",
     "text": [
      "Iterations needed =  30\n",
      "V*(s = Good) =  2.7999999968955915\n",
      "V*(s = Bad) =  4.399999996895591\n"
     ]
    }
   ],
   "source": [
    "print(\"Iterations needed = \", iter)\n",
    "print(\"V*(s = Good) = \" , vec[0])\n",
    "print(\"V*(s = Bad) = \" , vec[1])"
   ]
  },
  {
   "cell_type": "markdown",
   "metadata": {},
   "source": [
    "### Find a policy"
   ]
  },
  {
   "cell_type": "code",
   "execution_count": 17,
   "metadata": {},
   "outputs": [],
   "source": [
    "obj = Bellman_eqns()\n",
    "_, policy_good = obj.bellman_eq_good_state(vec[0],vec[1])\n",
    "_, policy_bad = obj.bellman_eq_bad_state(vec[0],vec[1])"
   ]
  },
  {
   "cell_type": "markdown",
   "metadata": {},
   "source": [
    "### The following policy decisions are obtained :"
   ]
  },
  {
   "cell_type": "code",
   "execution_count": 18,
   "metadata": {},
   "outputs": [
    {
     "name": "stdout",
     "output_type": "stream",
     "text": [
      "Policy: State = Good, Action = Stay\n",
      "Policy: State = Bad, Action = Move\n"
     ]
    }
   ],
   "source": [
    "if policy_good == 0:\n",
    "    print('Policy: State = Good, Action = Stay')\n",
    "else:\n",
    "    print('Policy: State = Good, Action = Move')\n",
    "\n",
    "if policy_bad == 0:\n",
    "    print('Policy: State = Bad, Action = Stay')\n",
    "else:\n",
    "    print('Policy: State = Bad, Action = Move')"
   ]
  }
 ],
 "metadata": {
  "kernelspec": {
   "display_name": "Python 3",
   "language": "python",
   "name": "python3"
  },
  "language_info": {
   "codemirror_mode": {
    "name": "ipython",
    "version": 3
   },
   "file_extension": ".py",
   "mimetype": "text/x-python",
   "name": "python",
   "nbconvert_exporter": "python",
   "pygments_lexer": "ipython3",
   "version": "3.7.1"
  }
 },
 "nbformat": 4,
 "nbformat_minor": 2
}
