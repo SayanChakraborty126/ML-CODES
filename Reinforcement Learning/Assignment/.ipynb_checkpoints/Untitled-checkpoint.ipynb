{
 "cells": [
  {
   "cell_type": "code",
   "execution_count": 12,
   "metadata": {},
   "outputs": [],
   "source": [
    "\n",
    "import pandas as pd\n",
    "import numpy as np\n",
    "import matplotlib.pyplot as plt\n",
    "\n",
    "## For inline and pop up plots. %matplotlib qt for pop up plots and %matplotlib inline for inline plots. Comment and uncomment them according to your need.\n",
    "# %matplotlib qt \n",
    "%matplotlib inline\n",
    "\n",
    "## Set display properties\n",
    "pd.set_option('display.max_rows', 10000)\n",
    "pd.set_option('display.max_columns', 100000)\n",
    "pd.set_option('display.width', 100000)\n",
    "np.set_printoptions(formatter={'float_kind':'{:f}'.format})\n"
   ]
  },
  {
   "cell_type": "code",
   "execution_count": 22,
   "metadata": {},
   "outputs": [
    {
     "name": "stdout",
     "output_type": "stream",
     "text": [
      "[[[24, 25, 26], [24, 25, 26], [24, 25, 26]], [[24, 25, 26], [24, 25, 26], [24, 25, 26]], [[24, 25, 26], [24, 25, 26], [24, 25, 26]]]\n"
     ]
    }
   ],
   "source": [
    "n = 3\n",
    "distance=[[[0]*n]*n]*n\n",
    "counter = 0\n",
    "for i in range(3):\n",
    "    for j in range(3):\n",
    "        for k in range(3):\n",
    "            distance[i][j][k] = counter\n",
    "            counter += 1\n",
    "            \n",
    "print(distance)"
   ]
  },
  {
   "cell_type": "code",
   "execution_count": 23,
   "metadata": {},
   "outputs": [
    {
     "name": "stdout",
     "output_type": "stream",
     "text": [
      "25\n"
     ]
    }
   ],
   "source": [
    "print(distance[2][0][1])"
   ]
  },
  {
   "cell_type": "code",
   "execution_count": null,
   "metadata": {},
   "outputs": [],
   "source": [
    "for i in range(N_tasks):\n",
    "    b1 = Bandit_prob_def()\n",
    "    r1, o1 = expt_steps(b1, N_steps, 0)\n",
    "    average_reward_epsi_0_00 += r1\n",
    "    average_optimal_action_0_00 += o1\n",
    "    \n",
    "    b2 = Bandit_prob_def()\n",
    "    r2, o2 = expt_steps(b2, N_steps, 0.01)\n",
    "    average_reward_epsi_0_01 += r2\n",
    "    average_optimal_action_0_01 += o2\n",
    "    \n",
    "    b3 = Bandit_prob_def()\n",
    "    r3, o3 = expt_steps(b3, N_steps, 0)\n",
    "    average_reward_epsi_0_1 += r3\n",
    "    average_optimal_action_0_1 += o3"
   ]
  },
  {
   "cell_type": "code",
   "execution_count": null,
   "metadata": {},
   "outputs": [],
   "source": [
    "def expt_steps(b, N_steps, epsilon): \n",
    "    reward = []\n",
    "    optimal_action = []\n",
    "        \n",
    "    for i in range(N_steps):\n",
    "        action = b.choose_action_value_method(epsilon) # choose a non-greedy action with epsilon probability\n",
    "        R = b.action_reward(action)                    # get a reward for the chosen action\n",
    "        opt_act = b.n_optimal_actions(action)          # check whether the action selected is optimal or not\n",
    "        b.est_arm_vals_update(R, action)               # update the arm value estimates\n",
    "        reward.append(R)                                  # append all reward\n",
    "        optimal_action.append(opt_act)                    # append all optimal action indicators\n",
    "        return np.array(reward), np.array(optimal_action) # return rewards and optimal action indicators"
   ]
  }
 ],
 "metadata": {
  "kernelspec": {
   "display_name": "Python 3",
   "language": "python",
   "name": "python3"
  },
  "language_info": {
   "codemirror_mode": {
    "name": "ipython",
    "version": 3
   },
   "file_extension": ".py",
   "mimetype": "text/x-python",
   "name": "python",
   "nbconvert_exporter": "python",
   "pygments_lexer": "ipython3",
   "version": "3.7.1"
  }
 },
 "nbformat": 4,
 "nbformat_minor": 2
}
