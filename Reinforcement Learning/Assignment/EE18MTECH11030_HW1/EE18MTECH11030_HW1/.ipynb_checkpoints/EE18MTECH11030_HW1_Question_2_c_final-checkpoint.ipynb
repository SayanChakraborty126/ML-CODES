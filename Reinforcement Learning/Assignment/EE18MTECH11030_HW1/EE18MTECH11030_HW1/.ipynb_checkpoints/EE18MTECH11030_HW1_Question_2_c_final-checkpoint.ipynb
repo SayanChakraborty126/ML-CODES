{
 "cells": [
  {
   "cell_type": "markdown",
   "metadata": {},
   "source": [
    "# Question 2 (c):\n",
    "# Submitted by: Sayan Chakraborty, EE18MTECH11030\n",
    "\n",
    "## Can collecting bot example\n",
    "### Given, the following: \n",
    "\n",
    "The states are:\n",
    "\n",
    "$\\mathcal{S}$ = {low, high}\n",
    "\n",
    "The actions corresponding to states are:\n",
    "\n",
    "$\\mathcal{A}$(low) = {search, wait, recharge}, <br>\n",
    "$\\mathcal{A}$(high) = {search, wait}\n",
    "\n",
    "The corresponding rewards are:\n",
    "\n",
    "$r_{search}$ = 2, <br>\n",
    "$r_{wait}$ = 1, <br>\n",
    "$r_{recharge1}$ = -3 (when charge after running out of battery), <br>\n",
    "$r_{recharge2}$ = 0 (during recharge)\n",
    "\n",
    "The probabilities are:\n",
    "\n",
    "$p(high | high, search)$ = $\\alpha$ = 0.3, <br>\n",
    "$p(low | high, search)$ = 1- $\\alpha$ = 0.7, <br>\n",
    "$p(high | high, wait)$ = 1, <br>\n",
    "$p(low | low, search)$ = $\\beta$ = 0.2, <br>\n",
    "$p(high | low, search)$ = 1-$\\beta$ = 0.8, <br>\n",
    "$p(low | low, wait)$ = 1, <br>\n",
    "$p(high | low, recharge)$ = 1, <br>\n",
    "\n",
    "Note: Other state transition probabilities are zero. The discount factor is $\\gamma$ = 0.5.\n",
    "\n",
    "\n",
    "### To do:\n",
    "-  Implenent the value iteration algorithm.\n",
    "-  Find a policy\n",
    "\n",
    "\n"
   ]
  },
  {
   "cell_type": "code",
   "execution_count": 13,
   "metadata": {},
   "outputs": [],
   "source": [
    "import numpy as np\n",
    "import matplotlib.pyplot as plt "
   ]
  },
  {
   "cell_type": "markdown",
   "metadata": {},
   "source": [
    "### Define the Bellman optimality equations as follows:"
   ]
  },
  {
   "cell_type": "code",
   "execution_count": 14,
   "metadata": {},
   "outputs": [],
   "source": [
    "class Bellman_eqns():\n",
    "\n",
    "    def __init__(self): # initialize and define the attributes\n",
    "\n",
    "        self.r_s = 2       # average reward during search \n",
    "        self.r_w = 1       # average reward during wait \n",
    "        self.r_r1 = -3     # average reward when charge after runing out og battery  \n",
    "        self.alpha = 0.3    \n",
    "        self.beta = 0.2\n",
    "        self.gamma = 0.5\n",
    "\n",
    "    def bellman_eq_high_state(self, v_opt_h, v_opt_l): # define the Bellman optimality equations for the high state\n",
    "        eq1 = self.r_s + self.gamma*(self.alpha*v_opt_h + (1-self.alpha)*v_opt_l) # for action search\n",
    "        eq2 = self.r_w + self.gamma*v_opt_h # for action wait\n",
    "        v_opt_h = max(eq1, eq2)             \n",
    "        return v_opt_h, np.argmax(np.array([eq1, eq2])) # return v*(s = High) and the best action\n",
    "    \n",
    "    def bellman_eq_low_state(self, v_opt_h, v_opt_l): # define the Bellman optimality equations for the low state\n",
    "        eq1 = self.beta*self.r_s + self.r_r1*(1-self.beta) + self.gamma*((1-self.beta)*v_opt_h + self.beta*v_opt_l) # for action search\n",
    "        eq2 = self.r_w + self.gamma*v_opt_l # for action wait\n",
    "        eq3 = self.gamma*v_opt_h            # for action recharge\n",
    "        v_opt_l = max(eq1, eq2, eq3)\n",
    "        return v_opt_l, np.argmax(np.array([eq1, eq2, eq3])) # return v*(s = Low) and the best action\n",
    "\n",
    "\n",
    "    "
   ]
  },
  {
   "cell_type": "markdown",
   "metadata": {},
   "source": [
    "### Implement the value iteration algorithm"
   ]
  },
  {
   "cell_type": "code",
   "execution_count": 15,
   "metadata": {},
   "outputs": [],
   "source": [
    "obj = Bellman_eqns()\n",
    "\n",
    "delta = 100;\n",
    "epsilon = 0.000000001\n",
    "v_opt_h1 = 0\n",
    "v_opt_l1 = 0\n",
    "iter = 0;\n",
    "while delta>=epsilon:\n",
    "    v_opt_h, _ = obj.bellman_eq_high_state(v_opt_h1, v_opt_l1)\n",
    "    v_opt_l, _ = obj.bellman_eq_low_state(v_opt_h1, v_opt_l1)\n",
    "    delta = max(abs(v_opt_h-v_opt_h1), abs(v_opt_l-v_opt_l1))\n",
    "    v_opt_h1 = v_opt_h\n",
    "    v_opt_l1 = v_opt_l\n",
    "    vec = np.array([v_opt_h, v_opt_l])\n",
    "    iter += 1\n"
   ]
  },
  {
   "cell_type": "markdown",
   "metadata": {},
   "source": [
    "### The value iteration algorithm converged to the following optimal values:"
   ]
  },
  {
   "cell_type": "code",
   "execution_count": 16,
   "metadata": {},
   "outputs": [
    {
     "name": "stdout",
     "output_type": "stream",
     "text": [
      "Iterations needed =  31\n",
      "V*(s = High) =  3.1764705873039714\n",
      "V*(s = Low) =  1.9999999990686774\n"
     ]
    }
   ],
   "source": [
    "print(\"Iterations needed = \", iter)\n",
    "print(\"V*(s = High) = \" , vec[0])\n",
    "print(\"V*(s = Low) = \" , vec[1])"
   ]
  },
  {
   "cell_type": "markdown",
   "metadata": {},
   "source": [
    "### Find a policy"
   ]
  },
  {
   "cell_type": "code",
   "execution_count": 17,
   "metadata": {},
   "outputs": [],
   "source": [
    "obj = Bellman_eqns()\n",
    "_, policy_high = obj.bellman_eq_high_state(vec[0],vec[1])\n",
    "_, policy_low = obj.bellman_eq_low_state(vec[0],vec[1])"
   ]
  },
  {
   "cell_type": "markdown",
   "metadata": {},
   "source": [
    "### The following policy decisions are obtained :"
   ]
  },
  {
   "cell_type": "code",
   "execution_count": 18,
   "metadata": {},
   "outputs": [
    {
     "name": "stdout",
     "output_type": "stream",
     "text": [
      "Policy: State = High, Action = Search\n",
      "Policy: State = Low, Action = Wait\n"
     ]
    }
   ],
   "source": [
    "if policy_high == 0:\n",
    "    print('Policy: State = High, Action = Search')\n",
    "else:\n",
    "    print('Policy: State = High, Action = Wait')\n",
    "\n",
    "if policy_low == 0:\n",
    "    print('Policy: State = Low, Action = Search')\n",
    "elif policy_low == 1:\n",
    "    print('Policy: State = Low, Action = Wait')\n",
    "else:\n",
    "    print('Policy: State = Low, Action = recharge')"
   ]
  }
 ],
 "metadata": {
  "kernelspec": {
   "display_name": "Python 3",
   "language": "python",
   "name": "python3"
  },
  "language_info": {
   "codemirror_mode": {
    "name": "ipython",
    "version": 3
   },
   "file_extension": ".py",
   "mimetype": "text/x-python",
   "name": "python",
   "nbconvert_exporter": "python",
   "pygments_lexer": "ipython3",
   "version": "3.7.1"
  }
 },
 "nbformat": 4,
 "nbformat_minor": 2
}
