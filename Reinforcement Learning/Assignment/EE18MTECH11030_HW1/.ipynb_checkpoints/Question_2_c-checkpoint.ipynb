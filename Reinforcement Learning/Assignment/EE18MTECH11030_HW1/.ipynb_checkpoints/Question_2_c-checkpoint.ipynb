{
 "cells": [
  {
   "cell_type": "markdown",
   "metadata": {},
   "source": [
    "# Question 2 (c):\n",
    "# Submitted by: Sayan Chakraborty, EE18MTECH11030\n",
    "\n",
    "## Can collecting bot example\n",
    "### Given, the following: \n",
    "\n",
    "The states are:\n",
    "\n",
    "$\\mathcal{S}$ = {low, high}\n",
    "\n",
    "The actions corresponding to states are:\n",
    "\n",
    "$\\mathcal{A}$(low) = {search, wait, recharge}, <br>\n",
    "$\\mathcal{A}$(high) = {search, wait}\n",
    "\n",
    "The corresponding rewards are:\n",
    "\n",
    "$r_{search}$ = 2, <br>\n",
    "$r_{wait}$ = 1, <br>\n",
    "$r_{recharge1}$ = -3 (recharge after running out of battery), <br>\n",
    "$r_{recharge2}$ = 0 (during recharge)\n",
    "\n",
    "The probabilities are:\n",
    "\n",
    "$p(high | high, search)$ = $\\alpha$ = 0.3, <br>\n",
    "$p(low | high, search)$ = 1- $\\alpha$ = 0.7, <br>\n",
    "$p(high | high, wait)$ = 1, <br>\n",
    "$p(low | low, search)$ = $\\beta$ = 0.2, <br>\n",
    "$p(high | low, search)$ = 1-$\\beta$ = 0.8, <br>\n",
    "$p(low | low, wait)$ = 1, <br>\n",
    "$p(high | low, recharge)$ = 1, <br>\n",
    "\n",
    "Note: Other state transition probabilities are zero. The discount factor is $\\gamma$ = 0.5.\n",
    "\n",
    "\n",
    "### To do:\n",
    "-  Implenent the value iteration algorithm.\n",
    "-  To find a policy\n",
    "\n",
    "\n"
   ]
  },
  {
   "cell_type": "code",
   "execution_count": 9,
   "metadata": {},
   "outputs": [],
   "source": [
    "import numpy as np\n",
    "import matplotlib.pyplot as plt "
   ]
  },
  {
   "cell_type": "markdown",
   "metadata": {},
   "source": [
    "### Define the Bellman optimality equations as follows:"
   ]
  },
  {
   "cell_type": "code",
   "execution_count": 10,
   "metadata": {},
   "outputs": [],
   "source": [
    "class Bellman_eqns(object):\n",
    "\n",
    "    def __init__(self, a, b): # initialize and define the attributes\n",
    "\n",
    "        self.r_s = 2\n",
    "        self.r_w = 1\n",
    "        self.r_r1 = -3\n",
    "        self.alpha = 0.3\n",
    "        self.beta = 0.2\n",
    "        self.gamma = 0.5\n",
    "        self.v_opt_h = a\n",
    "        self.v_opt_l = b\n",
    "\n",
    "    def bellman_eq_high_state(self): \n",
    "#         eq1 = self.alpha*(self.r_s+self.gamma*self.v_opt_h) + (1-self.alpha)*(self.r_s+self.gamma*self.v_opt_h)\n",
    "#         eq2 = self.r_w + self.gamma*self.v_opt_h\n",
    "        eq1 = self.r_s + self.gamma*(self.alpha*self.v_opt_h + (1-self.alpha)*self.v_opt_l)\n",
    "        eq2 = self.r_w + self.gamma*self.v_opt_h\n",
    "        self.v_opt_h = max(eq1, eq2)\n",
    "        return self.v_opt_h, np.argmax(np.array([eq1, eq2]))\n",
    "    \n",
    "    def bellman_eq_low_state(self): \n",
    "#         eq1 = self.r_r1*(1-self.beta)+self.beta*self.r_s+self.gamma*((1-self.beta)*self.v_opt_h + self.v_opt_l)\n",
    "#         eq2 = self.r_w + self.gamma*self.v_opt_l\n",
    "        eq1 = self.beta*self.r_s - 3*(1-self.beta) + self.gamma*((1-self.beta)*self.v_opt_h + self.beta*self.v_opt_l)\n",
    "        eq2 = self.r_w + self.gamma*self.v_opt_l\n",
    "        eq3 = self.gamma*self.v_opt_h\n",
    "        self.v_opt_l = max(eq1, eq2, eq3)\n",
    "        return self.v_opt_l, np.argmax(np.array([eq1, eq2, eq3]))\n",
    "\n",
    "\n",
    "    "
   ]
  },
  {
   "cell_type": "markdown",
   "metadata": {},
   "source": [
    "### Perform iterations"
   ]
  },
  {
   "cell_type": "code",
   "execution_count": 11,
   "metadata": {},
   "outputs": [
    {
     "name": "stdout",
     "output_type": "stream",
     "text": [
      "[1. 1.]\n",
      "[1.5 1.5]\n",
      "[1.75 1.75]\n",
      "[1.875 1.875]\n",
      "[1.9375 1.9375]\n",
      "[1.96875 1.96875]\n",
      "[1.984375 1.984375]\n",
      "[1.9921875 1.9921875]\n",
      "[1.99609375 1.99609375]\n",
      "[1.99804688 1.99804688]\n",
      "[1.99902344 1.99902344]\n",
      "[1.99951172 1.99951172]\n",
      "[1.99975586 1.99975586]\n",
      "[1.99987793 1.99987793]\n",
      "[1.99993896 1.99993896]\n",
      "[1.99996948 1.99996948]\n",
      "[1.99998474 1.99998474]\n",
      "[1.99999237 1.99999237]\n",
      "[1.99999619 1.99999619]\n",
      "[1.99999809 1.99999809]\n",
      "[1.99999905 1.99999905]\n",
      "[1.99999952 1.99999952]\n",
      "[1.99999976 1.99999976]\n",
      "[1.99999988 1.99999988]\n",
      "[1.99999994 1.99999994]\n",
      "[1.99999997 1.99999997]\n",
      "[1.99999999 1.99999999]\n",
      "[1.99999999 1.99999999]\n",
      "[2. 2.]\n",
      "[2. 2.]\n",
      "[2. 2.]\n",
      "[2. 2.]\n",
      "31\n"
     ]
    }
   ],
   "source": [
    "obj = Bellman_eqns(0,0)\n",
    "\n",
    "# for i in range(50):\n",
    "#     v_opt_h1, _ = obj.bellman_eq_high_state()\n",
    "#     v_opt_l1, _ = obj.bellman_eq_low_state()\n",
    "#     vec = np.array([v_opt_h1, v_opt_l1])\n",
    "#     print(vec)\n",
    "\n",
    "\n",
    "delta = 100;\n",
    "epsilon = 0.000000001\n",
    "v_opt_h1 = 0\n",
    "v_opt_l1 = 0\n",
    "iter = 0;\n",
    "while delta>=epsilon:\n",
    "    \n",
    "    v_opt_h, _ = obj.bellman_eq_high_state()\n",
    "    v_opt_l, _ = obj.bellman_eq_low_state()\n",
    "    delta = max(abs(v_opt_h-v_opt_h1), abs(v_opt_l-v_opt_l1))\n",
    "    v_opt_h1 = v_opt_h\n",
    "    v_opt_l1 = v_opt_l\n",
    "    vec = np.array([v_opt_h, v_opt_l])\n",
    "    iter += 1\n",
    "    print(vec)\n",
    "\n",
    "print(vec)\n",
    "print(iter)"
   ]
  },
  {
   "cell_type": "markdown",
   "metadata": {},
   "source": [
    "### Find the policy"
   ]
  },
  {
   "cell_type": "code",
   "execution_count": 12,
   "metadata": {},
   "outputs": [
    {
     "name": "stdout",
     "output_type": "stream",
     "text": [
      "1\n",
      "1\n"
     ]
    }
   ],
   "source": [
    "obj = Bellman_eqns(vec[0],vec[1])\n",
    "_, policy_high = obj.bellman_eq_high_state()\n",
    "_, policy_low = obj.bellman_eq_low_state()\n",
    "\n",
    "print(policy_high)\n",
    "print(policy_low)"
   ]
  },
  {
   "cell_type": "code",
   "execution_count": 13,
   "metadata": {},
   "outputs": [
    {
     "name": "stdout",
     "output_type": "stream",
     "text": [
      "-2\n"
     ]
    }
   ],
   "source": [
    "print(1-3)"
   ]
  },
  {
   "cell_type": "code",
   "execution_count": null,
   "metadata": {},
   "outputs": [],
   "source": []
  },
  {
   "cell_type": "code",
   "execution_count": null,
   "metadata": {},
   "outputs": [],
   "source": []
  }
 ],
 "metadata": {
  "kernelspec": {
   "display_name": "Python 3",
   "language": "python",
   "name": "python3"
  },
  "language_info": {
   "codemirror_mode": {
    "name": "ipython",
    "version": 3
   },
   "file_extension": ".py",
   "mimetype": "text/x-python",
   "name": "python",
   "nbconvert_exporter": "python",
   "pygments_lexer": "ipython3",
   "version": "3.7.1"
  }
 },
 "nbformat": 4,
 "nbformat_minor": 2
}
