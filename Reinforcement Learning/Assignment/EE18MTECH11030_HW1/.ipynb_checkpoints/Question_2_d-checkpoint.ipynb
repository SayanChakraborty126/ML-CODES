{
 "cells": [
  {
   "cell_type": "markdown",
   "metadata": {},
   "source": [
    "# Question 5:\n",
    "# Submitted by: Sayan Chakraborty, EE18MTECH11030\n",
    "\n",
    "## Second example\n",
    "### Given, the following: \n",
    "\n",
    "The states are:\n",
    "\n",
    "$\\mathcal{S}$ = {good, bad}\n",
    "\n",
    "The actions corresponding to states are:\n",
    "\n",
    "$\\mathcal{A}$(good) = {stay, move}, <br>\n",
    "$\\mathcal{A}$(bad) = {stay, move}\n",
    "\n",
    "The corresponding rewards are:\n",
    "\n",
    "$r_{GSG}$ = 3, <br>\n",
    "$r_{GSB}$ = -1, <br>\n",
    "$r_{BSB}$ = -1, <br>\n",
    "$r_{GMB}$ = -1, <br>\n",
    "$r_{BMG}$ = 3, <br>\n",
    "\n",
    "\n",
    "The probabilities are:\n",
    "\n",
    "$p(good | good, stay)$ = $\\alpha$ = 0.5, <br>\n",
    "$p(bad | good, stay)$ = 1- $\\alpha$ = 0.5, <br>\n",
    "$p(bad | bad, stay)$ = $\\beta$ = 1, <br>\n",
    "$p(good | bad, move)$ = $\\lambda$ = 1, <br>\n",
    "$p(bad | good, move)$ = $\\delta$ = 1, <br>\n",
    "\n",
    "\n",
    "Note: Other state transition probabilities are zero. The discount factor is $\\gamma$ = 0.5.\n",
    "\n",
    "\n",
    "### To do:\n",
    "-  Implenent the value iteration algorithm.\n",
    "-  To find a policy\n",
    "\n",
    "\n"
   ]
  },
  {
   "cell_type": "code",
   "execution_count": 5,
   "metadata": {},
   "outputs": [],
   "source": [
    "import numpy as np\n",
    "import matplotlib.pyplot as plt "
   ]
  },
  {
   "cell_type": "markdown",
   "metadata": {},
   "source": [
    "### Define the Bellman optimality equations as follows:"
   ]
  },
  {
   "cell_type": "code",
   "execution_count": 6,
   "metadata": {},
   "outputs": [],
   "source": [
    "class Bellman_eqns(object):\n",
    "\n",
    "    def __init__(self, a, b): # initialize and define the attributes\n",
    "\n",
    "        self.r_GSG = 3\n",
    "        self.r_GSB = -1\n",
    "        self.r_BSB = -1\n",
    "        self.r_GMB = -1\n",
    "        self.r_BMG = 3\n",
    "        \n",
    "        self.alpha = 0.5\n",
    "        self.beta = 1\n",
    "        self.lam = 1\n",
    "        self.delta = 1\n",
    "        self.gamma = 0.5\n",
    "        \n",
    "        self.v_opt_g = a\n",
    "        self.v_opt_b = b\n",
    "\n",
    "    def bellman_eq_good_state(self): \n",
    "        eq1 = self.alpha*(self.r_GSG + self.gamma*self.v_opt_g) + (1-self.alpha)*(self.r_GSB + self.gamma*self.v_opt_b)\n",
    "        eq2 = self.lam*(self.r_GMB+self.gamma*self.v_opt_b)\n",
    "        self.v_opt_g = max(eq1, eq2)\n",
    "        return self.v_opt_g, np.argmax(np.array([eq1, eq2]))\n",
    "    \n",
    "    def bellman_eq_bad_state(self): \n",
    "        print(self.v_opt_g)\n",
    "        eq1 = self.beta*(self.r_BSB + self.gamma*self.v_opt_b)\n",
    "        eq2 = self.delta*(self.r_BMG + self.gamma*self.v_opt_g)\n",
    "        self.v_opt_b = max(eq1, eq2)\n",
    "        return self.v_opt_b, np.argmax(np.array([eq1, eq2]))\n",
    "\n",
    "\n",
    "    "
   ]
  },
  {
   "cell_type": "markdown",
   "metadata": {},
   "source": [
    "### Perform iterations to find the optimal values"
   ]
  },
  {
   "cell_type": "code",
   "execution_count": 7,
   "metadata": {},
   "outputs": [
    {
     "name": "stdout",
     "output_type": "stream",
     "text": [
      "[1.  3.5]\n",
      "[2.125  4.0625]\n",
      "[2.546875  4.2734375]\n",
      "[2.70507812 4.35253906]\n",
      "[2.7644043  4.38220215]\n",
      "[2.78665161 4.39332581]\n",
      "[2.79499435 4.39749718]\n",
      "[2.79812288 4.39906144]\n",
      "[2.79929608 4.39964804]\n",
      "[2.79973603 4.39986802]\n",
      "[2.79990101 4.39995051]\n",
      "[2.79996288 4.39998144]\n",
      "[2.79998608 4.39999304]\n",
      "[2.79999478 4.39999739]\n",
      "[2.79999804 4.39999902]\n",
      "[2.79999927 4.39999963]\n",
      "[2.79999972 4.39999986]\n",
      "[2.7999999  4.39999995]\n",
      "[2.79999996 4.39999998]\n",
      "[2.79999999 4.39999999]\n",
      "[2.79999999 4.4       ]\n",
      "[2.8 4.4]\n",
      "[2.8 4.4]\n",
      "22\n"
     ]
    }
   ],
   "source": [
    "obj = Bellman_eqns(0,0)\n",
    "\n",
    "# for i in range(50):\n",
    "#     v_opt_g1, _ = obj.bellman_eq_good_state()\n",
    "#     v_opt_b1, _ = obj.bellman_eq_bad_state()\n",
    "#     vec = np.array([v_opt_g1, v_opt_b1])\n",
    "\n",
    "delta = 100;\n",
    "epsilon = 0.000000005\n",
    "v_opt_g1 = 0\n",
    "v_opt_b1 = 0\n",
    "iter = 0;\n",
    "while delta>=epsilon:\n",
    "    \n",
    "    v_opt_g, _ = obj.bellman_eq_good_state()\n",
    "    v_opt_b, _ = obj.bellman_eq_bad_state()\n",
    "    delta = max(abs(v_opt_g-v_opt_g1), abs(v_opt_b-v_opt_b1))\n",
    "    v_opt_g1 = v_opt_g\n",
    "    v_opt_b1 = v_opt_b\n",
    "    vec = np.array([v_opt_g, v_opt_b])\n",
    "    print(vec)\n",
    "    iter += 1\n",
    "\n",
    "print(vec)\n",
    "print(iter)"
   ]
  },
  {
   "cell_type": "markdown",
   "metadata": {},
   "source": [
    "### Find the policy"
   ]
  },
  {
   "cell_type": "code",
   "execution_count": 8,
   "metadata": {},
   "outputs": [
    {
     "name": "stdout",
     "output_type": "stream",
     "text": [
      "0\n",
      "1\n"
     ]
    }
   ],
   "source": [
    "obj = Bellman_eqns(vec[0],vec[1])\n",
    "_, policy_good = obj.bellman_eq_good_state()\n",
    "_, policy_bad = obj.bellman_eq_bad_state()\n",
    "\n",
    "print(policy_good)\n",
    "print(policy_bad)"
   ]
  },
  {
   "cell_type": "code",
   "execution_count": null,
   "metadata": {},
   "outputs": [],
   "source": []
  },
  {
   "cell_type": "code",
   "execution_count": null,
   "metadata": {},
   "outputs": [],
   "source": []
  },
  {
   "cell_type": "code",
   "execution_count": null,
   "metadata": {},
   "outputs": [],
   "source": []
  }
 ],
 "metadata": {
  "kernelspec": {
   "display_name": "Python 3",
   "language": "python",
   "name": "python3"
  },
  "language_info": {
   "codemirror_mode": {
    "name": "ipython",
    "version": 3
   },
   "file_extension": ".py",
   "mimetype": "text/x-python",
   "name": "python",
   "nbconvert_exporter": "python",
   "pygments_lexer": "ipython3",
   "version": "3.7.1"
  }
 },
 "nbformat": 4,
 "nbformat_minor": 2
}
