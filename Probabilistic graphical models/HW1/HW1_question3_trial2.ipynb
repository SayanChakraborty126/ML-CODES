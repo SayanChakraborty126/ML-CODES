{
 "cells": [
  {
   "cell_type": "code",
   "execution_count": 1,
   "metadata": {},
   "outputs": [],
   "source": [
    "import numpy as np\n",
    "import python_speech_features as speech\n",
    "import scipy.io.wavfile as wav\n",
    "import os\n",
    "import glob\n",
    "from scipy.stats import multivariate_normal as mult_gauss\n",
    "from sklearn.cluster import KMeans\n",
    "from numpy import linalg as LA"
   ]
  },
  {
   "cell_type": "code",
   "execution_count": 2,
   "metadata": {},
   "outputs": [],
   "source": [
    "class HMM_EM(object):\n",
    "    def __init__(self, X, K, tol):\n",
    "        self.X = X                                      # X_data has dimension in the rows and observations in the coloumns\n",
    "        self.K = K                                      # Model size\n",
    "        self.N, self.d = self.X.shape                   # find the shape of the data\n",
    "        self.alpha = np.zeros((self.N,self.K))          # initialize all alpha as zero\n",
    "        self.beta = np.zeros((self.N,self.K))           # initialize all beta as zero\n",
    "        self.gamma = np.zeros((self.N,self.K))          # initialize all gamma as zero\n",
    "        self.zeta = np.zeros([self.N,self.K,self.K])\n",
    "        \n",
    "        kmeans = KMeans(n_clusters=self.K, random_state=1).fit(self.X)\n",
    "        lables = kmeans.labels_\n",
    "        unique, counts = np.unique(lables, return_counts=True)\n",
    "\n",
    "        self.pi = np.array(counts)/self.N                 # initialize the pi\n",
    "        self.mu = np.array(kmeans.cluster_centers_).T   # initialize the means\n",
    "        self.sigma =  np.array([np.eye(self.d)]*self.K)   # initialize the covariances\n",
    "        self.A = self.normalize(np.random.rand(self.K,self.K))  # initialize transition probabilities               \n",
    "        self.tol = tol\n",
    "        \n",
    "    ## E-step \n",
    "    def get_alpha(self):\n",
    "        \n",
    "        dum = 0\n",
    "        for n in range(self.N):\n",
    "            if n == 0:\n",
    "                for k in range(self.K):\n",
    "                    self.alpha[n,k] = self.pi[k]*mult_gauss.pdf(self.X[0,:], self.mu[:,k], self.sigma[k,:,:])\n",
    "            else:\n",
    "                for k in range(self.K):\n",
    "                    self.alpha[n,k] = mult_gauss.pdf(self.X[n,:], self.mu[:,k], self.sigma[k,:,:])*\\\n",
    "                    np.dot(self.alpha[n-1,:],self.A[k,:])     \n",
    "        return self.alpha\n",
    "    \n",
    "    \n",
    "    \n",
    "    def get_beta(self):\n",
    "        \n",
    "        dum_sum = 0\n",
    "        for n in range(self.N, -1, -1):\n",
    "            if n == self.N:\n",
    "                    self.beta[n-1,:] = np.ones(self.K)\n",
    "            else:\n",
    "                for k in range(self.K):\n",
    "                    for i in range(self.K):\n",
    "                        dum_sum += self.beta[n,i]*self.A[i,k]*mult_gauss.pdf(self.X[n,:], self.mu[:,i], self.sigma[i,:,:])\n",
    "                    self.beta[n,k] = dum_sum       \n",
    "        return self.beta\n",
    "        \n",
    "    def get_gamma(self):\n",
    "        self.alpha = self.get_alpha()\n",
    "        self.beta = self.get_beta()\n",
    "        self.gamma = self.alpha*self.beta\n",
    "        return self.gamma\n",
    "    \n",
    "    def get_zeta(self):\n",
    "        self.alpha = self.get_alpha()\n",
    "        self.beta = self.get_beta()\n",
    "        for n in range(1,self.N):\n",
    "            for j in range(self.K):\n",
    "                for k in range(self.K):\n",
    "#                     print(n,j,k)\n",
    "                    self.zeta[n,j,k] = self.alpha[n-1,j]*mult_gauss.pdf(self.X[n,:], self.mu[:,k], self.sigma[k,:,:])*self.A[j,k]*self.beta[n,k]\n",
    "        return self.zeta\n",
    "    \n",
    "    \n",
    "    ## M-step\n",
    "    def M_step(self):\n",
    "        self.gamma = self.get_gamma()\n",
    "        self.zeta = self.get_zeta()\n",
    "        N_k = np.sum(self.gamma, axis = 0)\n",
    "        self.pi = self.gamma[0,:]/np.sum(self.gamma[0,:])    \n",
    "\n",
    "        self.mu = np.dot(self.gamma.T, self.X)\n",
    "        self.mu = self.mu.T/N_k\n",
    "        \n",
    "        dum_sum = 0\n",
    "        X_Data = self.X.T\n",
    "        for k in range(self.K):                    # compute sigma\n",
    "            for n in range(self.N):\n",
    "                dum_sum += np.reshape((X_Data[:,n]-self.mu[:,k]), (self.d,1))*np.reshape((X_Data[:,n]-self.mu[:,k]), (self.d,1)).T\n",
    "            self.sigma[k,:,:] = dum_sum\n",
    "#         for k in range(self.K):                    # compute sigma\n",
    "#             dum = self.X.T - np.reshape(self.mu[:,k], (self.d,1))\n",
    "#             dum = dum.T\n",
    "#             self.sigma[k,:,:] = ((np.reshape(self.gamma[:,k],(self.N,1,1))*(np.reshape(dum,(self.N,self.d,1))\\\n",
    "#                                                                             *np.reshape(dum,(self.N,1,self.d)))).sum(0))/N_k[k]\n",
    "        \n",
    "        for j in range(self.K):\n",
    "            for k in range(self.K):\n",
    "                num = np.sum(self.zeta[:,j,k])\n",
    "                den = np.sum(np.sum(self.zeta[:,j,:], axis = 0))\n",
    "                self.A[j,k] = num/den\n",
    "        \n",
    "        return self.pi, self.mu, self.sigma, self.A\n",
    "        \n",
    "\n",
    "    def normalize(self, x):\n",
    "        X = np.reshape(x, [x.shape[0],1,x.shape[1]])\n",
    "        X = X/np.reshape(np.sum(X, axis=2),[x.shape[0],1,1])\n",
    "        X = np.reshape(X,[x.shape[0],x.shape[1]])\n",
    "        return X\n",
    "    \n",
    "    def hmm_em(self):\n",
    "        a = 0\n",
    "        b = 0\n",
    "        c = 0\n",
    "        d = 0\n",
    "        error = 100\n",
    "        while(error>self.tol):\n",
    "            self.pi, self.mu, self.sigma, self.A = self.M_step()\n",
    "            error = LA.norm(self.pi-a)+LA.norm(self.mu-b)+LA.norm(self.sigma-c)+LA.norm(self.A-d)\n",
    "            print('error = ', error, '\\n')\n",
    "            a = self.pi\n",
    "            b = self.mu\n",
    "            c = self.sigma\n",
    "            d = self.A \n",
    "        return self.pi, self.mu, self.sigma, self.A\n",
    "#         for i in range(10):\n",
    "#             self.pi, self.mu, self.sigma, self.A = self.M_step()\n",
    "#             error = LA.norm(self.pi-a)+LA.norm(self.mu-b)+LA.norm(self.sigma-c)+LA.norm(self.A-d)\n",
    "#             print('error = ', error, '\\n')\n",
    "#             a = self.pi\n",
    "#             b = self.mu\n",
    "#             c = self.sigma\n",
    "#             d = self.A \n",
    "#         return self.pi, self.mu, self.sigma, self.A\n",
    "\n",
    "def scale(X, x_min, x_max):\n",
    "    nom = (X-X.min(axis=0))*(x_max-x_min)\n",
    "    denom = X.max(axis=0) - X.min(axis=0)\n",
    "    denom[denom==0] = 1\n",
    "    return x_min + nom/denom "
   ]
  },
  {
   "cell_type": "code",
   "execution_count": 3,
   "metadata": {
    "scrolled": false
   },
   "outputs": [
    {
     "name": "stdout",
     "output_type": "stream",
     "text": [
      "error =  9289.003963813577 \n",
      "\n",
      "error =  0.6802072775790631 \n",
      "\n",
      "error =  0.00511902088230785 \n",
      "\n",
      "error =  5.1051771677671175e-05 \n",
      "\n"
     ]
    }
   ],
   "source": [
    "(rate,sig) = wav.read(\"training_bhe.wav\")\n",
    "X_Data = speech.mfcc(sig,rate)\n",
    "K = 3\n",
    "tol = 0.0001\n",
    "X_Data = scale(X_Data, -1, 1)\n",
    "obj = HMM_EM(X_Data, K, tol)\n",
    "pi1, mu1, sigma1, A1 = obj.hmm_em()\n",
    "# pi, mu, sigma, A = obj.M_step()"
   ]
  },
  {
   "cell_type": "code",
   "execution_count": 4,
   "metadata": {
    "scrolled": false
   },
   "outputs": [],
   "source": [
    "# print(pi)\n",
    "# print(mu)\n",
    "# print(sigma)\n",
    "# print(A)"
   ]
  },
  {
   "cell_type": "code",
   "execution_count": 5,
   "metadata": {},
   "outputs": [
    {
     "name": "stdout",
     "output_type": "stream",
     "text": [
      "error =  22332.94822827515 \n",
      "\n",
      "error =  0.34488290704956676 \n",
      "\n",
      "error =  0.003342126154202021 \n",
      "\n",
      "error =  3.589100627463414e-05 \n",
      "\n"
     ]
    }
   ],
   "source": [
    "(rate,sig) = wav.read(\"testing_bha.wav\")\n",
    "X_Data = speech.mfcc(sig,rate)\n",
    "K = 3\n",
    "tol = 0.0001\n",
    "X_Data = scale(X_Data, -1, 1)\n",
    "obj = HMM_EM(X_Data, K, tol)\n",
    "pi, mu, sigma, A = obj.hmm_em()\n",
    "# pi, mu, sigma, A = obj.M_step()"
   ]
  },
  {
   "cell_type": "code",
   "execution_count": 6,
   "metadata": {},
   "outputs": [],
   "source": [
    "# print(pi)\n",
    "# print(mu)\n",
    "# print(sigma)\n",
    "# print(A)"
   ]
  },
  {
   "cell_type": "code",
   "execution_count": 7,
   "metadata": {},
   "outputs": [
    {
     "name": "stdout",
     "output_type": "stream",
     "text": [
      "22356.98989882468\n"
     ]
    }
   ],
   "source": [
    "error = LA.norm(pi-pi1)+LA.norm(mu-mu1)+LA.norm(sigma-sigma1)+LA.norm(A-A1)\n",
    "print(error)"
   ]
  },
  {
   "cell_type": "code",
   "execution_count": null,
   "metadata": {},
   "outputs": [],
   "source": []
  }
 ],
 "metadata": {
  "kernelspec": {
   "display_name": "Python 3",
   "language": "python",
   "name": "python3"
  },
  "language_info": {
   "codemirror_mode": {
    "name": "ipython",
    "version": 3
   },
   "file_extension": ".py",
   "mimetype": "text/x-python",
   "name": "python",
   "nbconvert_exporter": "python",
   "pygments_lexer": "ipython3",
   "version": "3.7.1"
  }
 },
 "nbformat": 4,
 "nbformat_minor": 2
}
