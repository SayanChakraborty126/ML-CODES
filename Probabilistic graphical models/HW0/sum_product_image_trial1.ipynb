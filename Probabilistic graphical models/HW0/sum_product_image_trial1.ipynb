{
 "cells": [
  {
   "cell_type": "code",
   "execution_count": 4,
   "metadata": {},
   "outputs": [],
   "source": [
    "import numpy as np\n",
    "import pandas as pd\n",
    "import matplotlib.pyplot as plt\n",
    "from sklearn.datasets import make_blobs\n",
    "import random\n",
    "from random import randint\n",
    "from PIL import Image"
   ]
  },
  {
   "cell_type": "code",
   "execution_count": 5,
   "metadata": {},
   "outputs": [],
   "source": [
    "def psi_s(sigma, d_s, i_s, j_s, L_img, R_img):\n",
    "#     print(i_s, j_s, i_s+d_s)\n",
    "    return np.exp( (-0.5/sigma**2)*(L_img[i_s,j_s]-R_img[i_s + d_s,j_s])**2 )\n",
    "\n",
    "def psi_s_t(gamma, d_s, d_t, del0):\n",
    "    return np.exp((-0.5/gamma**2)*np.min( np.array( [(d_s-d_t)**2, del0**2] )))\n",
    "\n",
    "def M_ts(gamma, d_s, del0, sigma, i_s, j_s, L_img, R_img):\n",
    "    message = 0\n",
    "    for i in range(10):\n",
    "        message += psi_s_t(gamma, d_s, i, del0)*psi_s(sigma, i, i_s, j_s, L_img, R_img)\n",
    "    return message\n",
    "\n",
    "def marginal(sigma, i_s, j_s, L_img, R_img, gamma, del0):\n",
    "    Mu_s = np.zeros(10)\n",
    "    for i in range(10):\n",
    "        Mu_s[i] = psi_s(sigma, i, i_s, j_s, L_img, R_img)*(M_ts(gamma, i, del0, sigma, i_s, j_s, L_img, R_img))**4\n",
    "#     print('\\n','sum =', sum(Mu_s), 'Mu_s =', Mu_s )\n",
    "#     print('\\n','sum =', sum(Mu_s),  'Mu_s', Mu_s, 'psi_s =',psi_s(sigma, i, i_s, j_s, L_img, R_img), 'M_ts =', (M_ts(gamma, i, del0, sigma, i_s, j_s, L_img, R_img))**4)\n",
    "    Mu_s = Mu_s/sum(Mu_s)\n",
    "    return Mu_s"
   ]
  },
  {
   "cell_type": "code",
   "execution_count": 6,
   "metadata": {
    "scrolled": true
   },
   "outputs": [
    {
     "name": "stderr",
     "output_type": "stream",
     "text": [
      "C:\\Users\\Sayan\\Anaconda3\\lib\\site-packages\\ipykernel_launcher.py:20: RuntimeWarning: invalid value encountered in true_divide\n",
      "C:\\Users\\Sayan\\Anaconda3\\lib\\site-packages\\numpy\\core\\fromnumeric.py:83: RuntimeWarning: invalid value encountered in reduce\n",
      "  return ufunc.reduce(obj, axis, dtype, out, **passkwargs)\n",
      "C:\\Users\\Sayan\\Anaconda3\\lib\\site-packages\\ipykernel_launcher.py:3: RuntimeWarning: overflow encountered in ubyte_scalars\n",
      "  This is separate from the ipykernel package so we can avoid doing imports until\n"
     ]
    },
    {
     "name": "stdout",
     "output_type": "stream",
     "text": [
      "0\n",
      "1\n",
      "2\n",
      "3\n",
      "4\n",
      "5\n",
      "6\n",
      "7\n",
      "8\n",
      "9\n",
      "10\n",
      "11\n",
      "12\n",
      "13\n",
      "14\n",
      "15\n",
      "16\n",
      "17\n",
      "18\n",
      "19\n",
      "20\n",
      "21\n",
      "22\n",
      "23\n",
      "24\n",
      "25\n",
      "26\n",
      "27\n",
      "28\n",
      "29\n",
      "30\n",
      "31\n",
      "32\n",
      "33\n",
      "34\n",
      "35\n",
      "36\n",
      "37\n",
      "38\n",
      "39\n",
      "40\n",
      "41\n",
      "42\n",
      "43\n",
      "44\n",
      "45\n",
      "46\n",
      "47\n",
      "48\n",
      "49\n",
      "50\n",
      "51\n",
      "52\n",
      "53\n",
      "54\n",
      "55\n",
      "56\n",
      "57\n",
      "58\n",
      "59\n",
      "60\n",
      "61\n",
      "62\n",
      "63\n",
      "64\n",
      "65\n",
      "66\n",
      "67\n",
      "68\n",
      "69\n",
      "70\n",
      "71\n",
      "72\n",
      "73\n",
      "74\n",
      "75\n",
      "76\n",
      "77\n",
      "78\n",
      "79\n",
      "80\n",
      "81\n",
      "82\n",
      "83\n",
      "84\n",
      "85\n",
      "86\n",
      "87\n",
      "88\n",
      "89\n",
      "90\n",
      "91\n",
      "92\n",
      "93\n",
      "94\n",
      "95\n",
      "96\n",
      "97\n",
      "98\n",
      "99\n",
      "100\n",
      "101\n",
      "102\n",
      "103\n",
      "104\n",
      "105\n",
      "106\n",
      "107\n",
      "108\n",
      "109\n",
      "110\n",
      "111\n",
      "112\n",
      "113\n",
      "114\n",
      "115\n",
      "116\n",
      "117\n",
      "118\n",
      "119\n",
      "120\n",
      "121\n",
      "122\n",
      "123\n",
      "124\n",
      "125\n",
      "126\n",
      "127\n",
      "128\n",
      "129\n",
      "130\n",
      "131\n",
      "132\n",
      "133\n",
      "134\n",
      "135\n",
      "136\n",
      "137\n",
      "138\n",
      "139\n",
      "140\n",
      "141\n",
      "142\n",
      "143\n",
      "144\n",
      "145\n",
      "146\n",
      "147\n",
      "148\n",
      "149\n",
      "150\n",
      "151\n",
      "152\n",
      "153\n",
      "154\n",
      "155\n",
      "156\n",
      "157\n",
      "158\n",
      "159\n",
      "160\n",
      "161\n",
      "162\n",
      "163\n",
      "164\n",
      "165\n",
      "166\n",
      "167\n",
      "168\n",
      "169\n",
      "170\n",
      "171\n",
      "172\n",
      "173\n",
      "174\n",
      "175\n",
      "176\n",
      "177\n",
      "178\n",
      "179\n",
      "180\n",
      "181\n",
      "182\n",
      "183\n",
      "184\n",
      "185\n",
      "186\n",
      "187\n",
      "188\n",
      "189\n",
      "190\n",
      "191\n",
      "192\n",
      "193\n",
      "194\n",
      "195\n",
      "196\n",
      "197\n",
      "198\n",
      "199\n",
      "200\n",
      "201\n",
      "202\n",
      "203\n",
      "204\n",
      "205\n",
      "206\n",
      "207\n",
      "208\n",
      "209\n",
      "210\n",
      "211\n",
      "212\n",
      "213\n",
      "214\n",
      "215\n",
      "216\n",
      "217\n",
      "218\n",
      "219\n",
      "220\n",
      "221\n",
      "222\n",
      "223\n",
      "224\n",
      "225\n",
      "226\n",
      "227\n",
      "228\n",
      "229\n",
      "230\n",
      "231\n",
      "232\n",
      "233\n",
      "234\n",
      "235\n",
      "236\n",
      "237\n",
      "238\n",
      "239\n",
      "240\n"
     ]
    }
   ],
   "source": [
    "# L_img = Image.open('desp_bw_left.png')\n",
    "# R_img = Image.open('desp_bw_right.png')\n",
    "\n",
    "L_img = Image.open('gray_left.jpg')\n",
    "R_img = Image.open('gray_right.jpg')\n",
    "\n",
    "L_img = np.array(L_img)\n",
    "R_img = np.array(R_img)\n",
    "\n",
    "# L_img = np.array(L_img[:, 0:256-10])\n",
    "# R_img = np.array(R_img[:, 0:256-10])\n",
    "# 288, 384\n",
    "disparity = np.zeros([255-2-10-3+1, 255-2-3+1])\n",
    "# i_s = 1\n",
    "# j_s = 1\n",
    "for i_s in range(disparity.shape[0]):\n",
    "    for j_s in range(disparity.shape[1]):\n",
    "        disparity[i_s,j_s] = np.max(marginal(1, i_s+1, j_s+1, L_img, R_img, 1, 6))\n",
    "        disparity[i_s,j_s] = disparity[i_s,j_s]*255\n",
    "    print(i_s)\n",
    "        \n",
    "        \n"
   ]
  },
  {
   "cell_type": "code",
   "execution_count": 15,
   "metadata": {
    "scrolled": true
   },
   "outputs": [],
   "source": [
    "# disparity = disparity[:, 1:disparity.shape[1]-2]\n",
    "image = Image.fromarray(disparity.astype('uint8'))\n",
    "image.show()"
   ]
  },
  {
   "cell_type": "code",
   "execution_count": 8,
   "metadata": {},
   "outputs": [
    {
     "name": "stdout",
     "output_type": "stream",
     "text": [
      "[         nan 128.98142971 123.69063359 185.43576785 251.11368532\n",
      "          nan 154.11093591          nan          nan          nan\n",
      "          nan          nan          nan          nan          nan\n",
      "          nan          nan          nan 255.                  nan\n",
      "          nan          nan 255.         254.99999612 254.9990496\n",
      " 127.5        254.98592783 254.99987139          nan          nan\n",
      " 254.99904712 254.85271748 255.                  nan 127.58073892\n",
      "          nan          nan          nan          nan          nan\n",
      "          nan          nan          nan          nan          nan\n",
      "          nan  31.82520479  74.03560506 103.50873124  69.77387808\n",
      "  42.7773405   34.16115551  57.23101772 152.06305262 224.87822844\n",
      " 162.07043951 146.36577556 254.58626295 255.         255.\n",
      "          nan          nan          nan          nan          nan\n",
      "          nan          nan          nan          nan          nan\n",
      "          nan          nan          nan          nan          nan\n",
      "          nan 255.         255.         255.         255.\n",
      "          nan 255.         255.                  nan          nan\n",
      "          nan          nan          nan          nan          nan\n",
      "          nan          nan          nan          nan          nan\n",
      "          nan          nan          nan          nan          nan\n",
      "          nan          nan          nan          nan          nan\n",
      "  31.82520479  31.82520479          nan          nan          nan\n",
      "          nan  31.82520479  31.82520479  31.82520479  31.82520479\n",
      "  31.82520479  31.82520479  31.82520479  31.82520479  31.82520479\n",
      "  31.82520479  31.82520479  31.82520479  31.82520479  31.82520479\n",
      "  31.82520479  31.82520479 118.39476507 138.04336471 118.59792863\n",
      "          nan          nan          nan          nan 255.\n",
      " 254.99999994          nan          nan          nan          nan\n",
      "          nan          nan          nan          nan          nan\n",
      "          nan          nan          nan          nan 254.99978795\n",
      "          nan          nan          nan          nan 127.50000002\n",
      " 254.98087062          nan 255.         254.99754609 255.\n",
      " 255.         254.99997102 153.54300766          nan          nan\n",
      "          nan 255.                  nan          nan          nan\n",
      "          nan          nan          nan          nan 255.\n",
      " 255.         255.         127.50000033          nan          nan\n",
      "          nan          nan 255.                  nan          nan\n",
      "          nan          nan          nan          nan          nan\n",
      "          nan          nan          nan          nan 255.\n",
      "          nan          nan          nan 255.                  nan\n",
      "          nan 255.         255.         255.         255.\n",
      " 255.         254.98831046 255.         254.9999713  255.\n",
      " 255.                  nan          nan          nan          nan\n",
      "          nan          nan          nan          nan          nan\n",
      "          nan 255.         255.         255.         255.\n",
      "          nan          nan          nan          nan          nan\n",
      "          nan          nan 255.                  nan          nan\n",
      "          nan          nan          nan          nan 255.\n",
      " 255.         255.                  nan          nan          nan\n",
      "          nan          nan          nan          nan          nan\n",
      " 254.98087018]\n"
     ]
    }
   ],
   "source": [
    "print(disparity[0])"
   ]
  },
  {
   "cell_type": "code",
   "execution_count": 9,
   "metadata": {},
   "outputs": [
    {
     "name": "stdout",
     "output_type": "stream",
     "text": [
      "[[1 2 3]\n",
      " [4 5 6]\n",
      " [8 7 5]]\n",
      "[6 5]\n"
     ]
    }
   ],
   "source": [
    "A = np.array([[1,2,3], [4,5,6], [8,7,5]])\n",
    "print(A)\n",
    "print(A[(1,2),2])"
   ]
  },
  {
   "cell_type": "code",
   "execution_count": 10,
   "metadata": {},
   "outputs": [
    {
     "name": "stdout",
     "output_type": "stream",
     "text": [
      "[0. 0. 0. 0. 0. 0. 0. 0. 0. 0.]\n"
     ]
    }
   ],
   "source": [
    "print(np.zeros(10))"
   ]
  },
  {
   "cell_type": "code",
   "execution_count": 11,
   "metadata": {},
   "outputs": [
    {
     "name": "stdout",
     "output_type": "stream",
     "text": [
      "0.0\n"
     ]
    }
   ],
   "source": [
    "print(255*255*np.exp(-0.5*255*255))"
   ]
  },
  {
   "cell_type": "code",
   "execution_count": 12,
   "metadata": {},
   "outputs": [
    {
     "data": {
      "text/plain": [
       "255"
      ]
     },
     "execution_count": 12,
     "metadata": {},
     "output_type": "execute_result"
    }
   ],
   "source": [
    "np.max(R_img)"
   ]
  },
  {
   "cell_type": "code",
   "execution_count": 13,
   "metadata": {},
   "outputs": [
    {
     "name": "stdout",
     "output_type": "stream",
     "text": [
      "(288, 384)\n"
     ]
    }
   ],
   "source": [
    "L_img = Image.open('desp_bw_left.png')\n",
    "# R_img = Image.open('gray_right.jpg')\n",
    "\n",
    "L_img = np.array(L_img)\n",
    "# R_img = np.array(R_img)\n",
    "print(L_img.shape)"
   ]
  },
  {
   "cell_type": "code",
   "execution_count": 14,
   "metadata": {},
   "outputs": [
    {
     "name": "stdout",
     "output_type": "stream",
     "text": [
      "1.0\n"
     ]
    }
   ],
   "source": [
    "print(np.exp(0))"
   ]
  },
  {
   "cell_type": "code",
   "execution_count": null,
   "metadata": {},
   "outputs": [],
   "source": []
  }
 ],
 "metadata": {
  "kernelspec": {
   "display_name": "Python 3",
   "language": "python",
   "name": "python3"
  },
  "language_info": {
   "codemirror_mode": {
    "name": "ipython",
    "version": 3
   },
   "file_extension": ".py",
   "mimetype": "text/x-python",
   "name": "python",
   "nbconvert_exporter": "python",
   "pygments_lexer": "ipython3",
   "version": "3.7.1"
  }
 },
 "nbformat": 4,
 "nbformat_minor": 2
}
