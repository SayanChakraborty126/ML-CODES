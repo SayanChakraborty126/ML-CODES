{
 "cells": [
  {
   "cell_type": "code",
   "execution_count": 8,
   "metadata": {},
   "outputs": [],
   "source": [
    "import numpy as np\n",
    "import random\n",
    "import matplotlib.pyplot as plt\n",
    "import math\n",
    "# %matplotlib qt"
   ]
  },
  {
   "cell_type": "markdown",
   "metadata": {},
   "source": [
    "## The backpropagation algorithm is implemented as follows:"
   ]
  },
  {
   "cell_type": "code",
   "execution_count": 9,
   "metadata": {},
   "outputs": [],
   "source": [
    "\"\"\" \n",
    "The update equations are mentioned as follows:\n",
    "1) Weight update from hidden to output layer: W_jh = W_jh - eta * ( S(Z)^T . {(S(Y)-d) * Sd_Y} ) \n",
    "2) Weight update from input to hidden layer: W_hi = W_hi - eta * X^T . ({(S(Y)-d) * Sd_Y} . W_jh^T * Sd_Z) \n",
    "3) Bias updates for output layer: bo = bo - eta * sum({(S(Y)-d) * Sd_Y})\n",
    "4) Bias updates for hidden layer: bh = bh - eta * sum({(S(Y)-d) * Sd_Y} . W_jh^T * Sd_Z )\n",
    "\n",
    "where, * = elementwise product, . = dot product, ()^T = transpose operation,\n",
    "eta = learning rate, Z = hidden layer activation potential, S(Z) = hidden layer activation,\n",
    "Y = output layer activation potential, S(Y) = output layer activation, Sd_Z = derivative of S(Z), \n",
    "Sd_Y = derivative of S(Y)\n",
    "\"\"\"\n",
    "\n",
    "def forward_pass(X, W_hi, W_jh, b_h, b_o, num_in_node, num_hid_node, num_op_node):\n",
    "      \n",
    "    # hidden layer\n",
    "    Z = np.dot(X, W_hi) + b_h  # hidden layer activation potential\n",
    "    S_Z = sigmod_fun(Z)       # hidden layer output\n",
    "    \n",
    "    # Output layer\n",
    "    Y = np.dot(S_Z, W_jh) + b_o  # output layer activation potential\n",
    "    S_Y = sigmod_fun(Y)          # output layer output\n",
    "    \n",
    "    return Z, Y, S_Z, S_Y\n",
    "\n",
    "def back_propagation(X, d, W_hi, W_jh, Z, S_Z, Y, S_Y, b_h, b_o, eta, num_in_node, num_hid_node, num_op_node):\n",
    "    e = 2*(S_Y - d)\n",
    "    Sd_Y = sigmod_deriv_fun(Y) # Compute the derivative of the S(Y)\n",
    "    Sd_Z = sigmod_deriv_fun(Z) # Compute the derivative of the S(Z)\n",
    "    sc_error = e*Sd_Y          # Compute the scaled error   \n",
    "    \n",
    "    # output bias update\n",
    "    b_o = b_o - eta*np.sum(sc_error)\n",
    "    \n",
    "    # hidden bias update\n",
    "    b_h = b_h - eta*np.sum(np.dot(sc_error, W_jh.T)*Sd_Z)    \n",
    "    \n",
    "    # weight update input to hidden\n",
    "    W_hi = W_hi - eta*np.dot(X.T,(np.dot(sc_error, W_jh.T)*Sd_Z))\n",
    "    \n",
    "    # weight update hidden to output\n",
    "    W_jh = W_jh - eta * np.dot(S_Z.T,sc_error) \n",
    "\n",
    "    return W_jh, W_hi, b_o, b_h\n",
    "\n",
    "def sigmod_fun(X):\n",
    "    return 1/(1+np.exp(-X))\n",
    "\n",
    "def sigmod_deriv_fun(X):\n",
    "    X_sig = sigmod_fun(X)\n",
    "    Z = X_sig*(1-X_sig)\n",
    "    return Z\n"
   ]
  },
  {
   "cell_type": "markdown",
   "metadata": {},
   "source": [
    "## Helper functions:"
   ]
  },
  {
   "cell_type": "code",
   "execution_count": 10,
   "metadata": {},
   "outputs": [],
   "source": [
    "def add_noise(X, d, num_data = 50):\n",
    "    num_data = num_data - X.shape[0]\n",
    "    X_data = X\n",
    "    d_data = d\n",
    "    for i in range(num_data):\n",
    "        X_data = np.append(X_data,X+np.random.uniform(0,0.3, size=(4,1)),axis = 0)\n",
    "        d_data = np.append(d_data,d,axis = 0)\n",
    "    arr = np.linspace(start = 0, stop = len(d_data)-1, num = len(d_data), dtype = int)\n",
    "    np.random.shuffle(arr)\n",
    "    X_data = X_data[arr, :]\n",
    "    d_data = d_data[arr]\n",
    "    return X_data, d_data\n",
    "\n",
    "def compute_accuracy(S_Y, d_test):\n",
    "    S_Yt = np.zeros((S_Y.shape[0], S_Y.shape[1]))\n",
    "    \n",
    "    for i in range(S_Y.shape[0]):\n",
    "        if S_Y[i] < 0.5:\n",
    "            S_Yt[i] = 0\n",
    "        else:\n",
    "            S_Yt[i] = 1\n",
    "    \n",
    "    err = abs(S_Yt-d_test)\n",
    "    err = (np.sum(err)/len(d_test))*100\n",
    "    return err\n"
   ]
  },
  {
   "cell_type": "markdown",
   "metadata": {},
   "source": [
    "## Training:"
   ]
  },
  {
   "cell_type": "code",
   "execution_count": 11,
   "metadata": {
    "scrolled": true
   },
   "outputs": [
    {
     "name": "stdout",
     "output_type": "stream",
     "text": [
      "training in progress..............\n",
      "training completed ...............\n"
     ]
    }
   ],
   "source": [
    "##------------- OR -------------------\n",
    "X = np.array([[0,0],[0,1],[1,0],[1,1]])\n",
    "d = np.array([[0],[1],[1],[1]])\n",
    "\n",
    "\n",
    "X_data, d_data = add_noise(X, d)\n",
    "X = X_data[0:int(X_data.shape[0]/2),:]\n",
    "d = d_data[0:int(X_data.shape[0]/2)]\n",
    "\n",
    "X_test = X_data[int(X_data.shape[0]/2)+1:X_data.shape[0],:]\n",
    "d_test = d_data[int(X_data.shape[0]/2)+1:X_data.shape[0]]\n",
    "\n",
    "epochs = 10000\n",
    "eta = 0.1\n",
    "num_in_node, num_hid_node, num_op_node = 2,2,1\n",
    "\n",
    "# initialize weights and biases\n",
    "r = math.sqrt(6) / math.sqrt(num_in_node + num_hid_node + 1)\n",
    "W_hi = np.random.uniform(low = -r, high = r, size = (num_in_node,num_hid_node))\n",
    "W_jh = np.random.uniform(low = -r, high = r, size = (num_hid_node,num_op_node))\n",
    "b_h = np.random.uniform(size = (1,num_hid_node))\n",
    "b_o = np.random.uniform(size = (1,num_op_node))\n",
    "\n",
    "# Z, Y, S_Z, S_Y = forward_pass(X, W_hi, W_jh, b_h, b_o, num_in_node, num_hid_node, num_op_node)\n",
    "# back_propagation(X, d, W_hi, W_jh, Z, S_Z, Y, S_Y, b_h, b_o, eta, num_in_node, num_hid_node, num_op_node)\n",
    "\n",
    "\n",
    "error_epoch = np.zeros((epochs,1))\n",
    "print('training in progress..............')\n",
    "for i in range(epochs):\n",
    "    Z, Y, S_Z, S_Y = forward_pass(X, W_hi, W_jh, b_h, b_o, num_in_node, num_hid_node, num_op_node)\n",
    "    W_jh, W_hi, b_o, b_h = back_propagation(X, d, W_hi, W_jh, Z, S_Z, Y, S_Y, b_h, b_o, eta, num_in_node, num_hid_node, num_op_node)\n",
    "    error = (0.5*(S_Y - d)*(S_Y - d)).flatten()\n",
    "    error_epoch[i] = np.sum(error)/len(error)\n",
    "        \n",
    "print('training completed ...............')\n",
    "        \n"
   ]
  },
  {
   "cell_type": "markdown",
   "metadata": {},
   "source": [
    "## Testing:"
   ]
  },
  {
   "cell_type": "code",
   "execution_count": 12,
   "metadata": {
    "scrolled": false
   },
   "outputs": [
    {
     "name": "stdout",
     "output_type": "stream",
     "text": [
      "testing on data: \n",
      " [[0.10803131 1.10803131]\n",
      " [0.2266532  1.2266532 ]\n",
      " [0.01536343 0.01536343]\n",
      " [1.22206871 0.22206871]\n",
      " [1.22009987 0.22009987]\n",
      " [0.07656583 0.07656583]\n",
      " [0.27922502 1.27922502]\n",
      " [0.13987302 0.13987302]\n",
      " [0.26069    0.26069   ]\n",
      " [0.09789284 0.09789284]] \n",
      "\n",
      "Actual output: \n",
      " [[1]\n",
      " [1]\n",
      " [0]\n",
      " [1]\n",
      " [1]\n",
      " [0]\n",
      " [1]\n",
      " [0]\n",
      " [0]\n",
      " [0]] \n",
      "\n",
      "Predicted output: \n",
      " [[0.99823208]\n",
      " [0.99889065]\n",
      " [0.00223833]\n",
      " [0.9988825 ]\n",
      " [0.99887881]\n",
      " [0.00241479]\n",
      " [0.99895196]\n",
      " [0.00291799]\n",
      " [0.01085375]\n",
      " [0.00252895]] \n",
      "\n"
     ]
    },
    {
     "data": {
      "image/png": "[encoded data removed]",
      "text/plain": [
       "<Figure size 1440x720 with 1 Axes>"
      ]
     },
     "metadata": {
      "needs_background": "light"
     },
     "output_type": "display_data"
    }
   ],
   "source": [
    "plt.figure(figsize=(20, 10))\n",
    "plt.plot(error_epoch)\n",
    "i = 30\n",
    "j = 40\n",
    "print('testing on data: \\n', X_test[i:j, :], '\\n')\n",
    "print('Actual output: \\n', d_test[i:j], '\\n')\n",
    "Z, Y, S_Z, S_Y = forward_pass(X_test[i:j, :], W_hi, W_jh, b_h, b_o, num_in_node, num_hid_node, num_op_node)\n",
    "print('Predicted output: \\n',S_Y, '\\n')"
   ]
  },
  {
   "cell_type": "markdown",
   "metadata": {},
   "source": [
    "## Compute accuracy:"
   ]
  },
  {
   "cell_type": "code",
   "execution_count": 13,
   "metadata": {},
   "outputs": [
    {
     "name": "stdout",
     "output_type": "stream",
     "text": [
      "% error = 0.0\n",
      "% accuracy = 100.0\n"
     ]
    },
    {
     "data": {
      "text/plain": [
       "<matplotlib.legend.Legend at 0x1d7ede415c0>"
      ]
     },
     "execution_count": 13,
     "metadata": {},
     "output_type": "execute_result"
    },
    {
     "data": {
      "image/png": "[encoded data removed]",
      "text/plain": [
       "<Figure size 1440x720 with 1 Axes>"
      ]
     },
     "metadata": {
      "needs_background": "light"
     },
     "output_type": "display_data"
    }
   ],
   "source": [
    "Z, Y, S_Z, S_Y = forward_pass(X_test, W_hi, W_jh, b_h, b_o, num_in_node, num_hid_node, num_op_node)\n",
    "error = compute_accuracy(S_Y, d_test)\n",
    "print('% error =', error)\n",
    "print('% accuracy =', 100-error)\n",
    "\n",
    "plt.figure(figsize=(20, 10))\n",
    "plt.plot(d_test, 'b o' , markersize = 20, label = 'actual')\n",
    "plt.plot(S_Y, 'r.', markersize = 20, label = 'predicted')\n",
    "plt.legend(fontsize=20)"
   ]
  },
  {
   "cell_type": "markdown",
   "metadata": {},
   "source": [
    "## Conclusions:"
   ]
  },
  {
   "cell_type": "markdown",
   "metadata": {},
   "source": [
    "### MLP for OR is implemented and the results are satisfactory. However, if the accuracy is not as desired, please rerun the code"
   ]
  }
 ],
 "metadata": {
  "kernelspec": {
   "display_name": "Python 3",
   "language": "python",
   "name": "python3"
  },
  "language_info": {
   "codemirror_mode": {
    "name": "ipython",
    "version": 3
   },
   "file_extension": ".py",
   "mimetype": "text/x-python",
   "name": "python",
   "nbconvert_exporter": "python",
   "pygments_lexer": "ipython3",
   "version": "3.7.1"
  }
 },
 "nbformat": 4,
 "nbformat_minor": 2
}
