{
 "cells": [
  {
   "cell_type": "code",
   "execution_count": 1,
   "metadata": {},
   "outputs": [],
   "source": [
    "import numpy as np\n",
    "import pandas as pd\n",
    "import matplotlib.pyplot as plt\n",
    "from numpy import linalg as la\n",
    "from PIL import Image"
   ]
  },
  {
   "cell_type": "code",
   "execution_count": 8,
   "metadata": {},
   "outputs": [],
   "source": [
    "class PCA(object):\n",
    "    def __init__(self, X_data):\n",
    "        self.m, self.n = X_data.shape        # X_data is expected to have dinemsion in the row and observations in the columns\n",
    "        self.data_mean = np.mean(X_data, axis = 1).reshape(self.m, 1)\n",
    "        self.X_data = X_data-self.data_mean  # subtract the mean \n",
    "        self.eig_vals_sorted = np.zeros(self.m)\n",
    "        self.eig_vecs_sorted = np.zeros([self.m, self.m])\n",
    "        self.sorted_indeces = np.zeros(self.m)\n",
    "    \n",
    "    def cov_mat(self):\n",
    "        covariance_mat = (1/(self.n))*np.matmul(self.X_data, np.transpose(self.X_data))\n",
    "        return covariance_mat\n",
    "        \n",
    "    def eig_vals_vec(self):\n",
    "        self.eig_vals, self.eig_vec = la.eig(self.cov_mat())\n",
    "#         print(self.eig_vals)\n",
    "        return self.eig_vals, self.eig_vec\n",
    "    \n",
    "\n",
    "    def sort_eig_vals_vec(self):\n",
    "        dum_var, self.eig_vec = self.eig_vals_vec()\n",
    "        for i in range(self.m):\n",
    "            self.eig_vals_sorted[i] = max(dum_var)\n",
    "            self.sorted_indeces[i] = np.where(self.eig_vals_sorted[i] == self.eig_vals)[0][0]\n",
    "            dum_var = np.delete(dum_var, np.argmax(dum_var))\n",
    "        \n",
    "        for i in range(len(self.sorted_indeces)):\n",
    "            self.eig_vecs_sorted[:,i] = np.transpose(self.eig_vec[:, int(self.sorted_indeces[i]) ])\n",
    "            \n",
    "        return self.eig_vals_sorted, self.eig_vecs_sorted\n",
    "    \n",
    "    def PCA_transform(self):\n",
    "        _, self.eig_vecs_sorted = self.sort_eig_vals_vec()\n",
    "        Y_data = np.matmul(np.transpose(self.eig_vecs_sorted), self.X_data)\n",
    "#         Y_data = np.matmul((self.eig_vecs_sorted), self.X_data)\n",
    "        return Y_data"
   ]
  },
  {
   "cell_type": "code",
   "execution_count": 9,
   "metadata": {},
   "outputs": [],
   "source": [
    "def get_data():\n",
    "    im = Image.open(\"Shakira.jpg\")\n",
    "    im.show()\n",
    "    pix = np.array(im)\n",
    "    pix0_reshape = pix[:,:,0].reshape(( pix[:,:,0].shape[0]*pix[:,:,0].shape[1]) )\n",
    "    pix1_reshape = pix[:,:,1].reshape(( pix[:,:,1].shape[0]*pix[:,:,1].shape[1]) )\n",
    "    pix2_reshape = pix[:,:,2].reshape(( pix[:,:,2].shape[0]*pix[:,:,2].shape[1]) )\n",
    "    X_data = np.array([pix0_reshape, pix1_reshape, pix2_reshape])\n",
    "    X_data = X_data.astype(float)\n",
    "#     X_data = np.transpose(X_data)\n",
    "    return X_data\n",
    "    "
   ]
  },
  {
   "cell_type": "code",
   "execution_count": 10,
   "metadata": {},
   "outputs": [
    {
     "name": "stdout",
     "output_type": "stream",
     "text": [
      "(3, 102400)\n",
      "float64\n",
      "(102400, 3)\n"
     ]
    }
   ],
   "source": [
    "X_data = get_data()\n",
    "print(X_data.shape)\n",
    "print(X_data.dtype)\n",
    "obj = PCA(X_data)\n",
    "\n",
    "Y_data = obj.PCA_transform()\n",
    "Y_data = np.transpose(Y_data)\n",
    "print((Y_data.shape))\n",
    "\n",
    "# obj = PCA(Y_data)\n",
    "# y_cov_mat = obj.cov_mat()\n",
    "# print(pd.DataFrame(y_cov_mat))"
   ]
  },
  {
   "cell_type": "code",
   "execution_count": 11,
   "metadata": {},
   "outputs": [],
   "source": [
    "im_dat = Y_data.reshape(( 320, 320, 3) )"
   ]
  },
  {
   "cell_type": "code",
   "execution_count": 12,
   "metadata": {},
   "outputs": [],
   "source": [
    "image = Image.fromarray(im_dat.astype('uint8'), 'RGB')\n",
    "image.show()"
   ]
  },
  {
   "cell_type": "code",
   "execution_count": 7,
   "metadata": {},
   "outputs": [],
   "source": [
    "# basewidth = 100\n",
    "# img = Image.open('shakira.jpg')\n",
    "# wpercent = (basewidth/float(img.size[0]))\n",
    "# hsize = int((float(img.size[1])*float(wpercent)))\n",
    "# img = img.resize((basewidth,hsize), Image.ANTIALIAS)\n",
    "# img.save('shakira1.jpg') "
   ]
  },
  {
   "cell_type": "code",
   "execution_count": null,
   "metadata": {},
   "outputs": [],
   "source": []
  }
 ],
 "metadata": {
  "kernelspec": {
   "display_name": "Python 3",
   "language": "python",
   "name": "python3"
  },
  "language_info": {
   "codemirror_mode": {
    "name": "ipython",
    "version": 3
   },
   "file_extension": ".py",
   "mimetype": "text/x-python",
   "name": "python",
   "nbconvert_exporter": "python",
   "pygments_lexer": "ipython3",
   "version": "3.6.8"
  }
 },
 "nbformat": 4,
 "nbformat_minor": 2
}
