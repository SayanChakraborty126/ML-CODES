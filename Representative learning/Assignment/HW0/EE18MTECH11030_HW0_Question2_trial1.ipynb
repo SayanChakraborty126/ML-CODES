{
 "cells": [
  {
   "cell_type": "code",
   "execution_count": 1,
   "metadata": {},
   "outputs": [],
   "source": [
    "import numpy as np\n",
    "import pandas as pd\n",
    "import matplotlib.pyplot as plt\n",
    "from numpy import linalg as la"
   ]
  },
  {
   "cell_type": "code",
   "execution_count": 107,
   "metadata": {},
   "outputs": [],
   "source": [
    "class PCA(object):\n",
    "    def __init__(self, X_data):\n",
    "        self.m, self.n = X_data.shape        # X_data is expected to have dinemsion in the row and observations in the columns\n",
    "        self.data_mean = np.mean(X_data, axis = 1).reshape(self.m, 1)\n",
    "        self.X_data = X_data-self.data_mean  # subtract the mean \n",
    "        self.eig_vals_sorted = np.zeros(self.m)\n",
    "        self.eig_vecs_sorted = np.zeros([self.m, self.m])\n",
    "        self.sorted_indeces = np.zeros(self.m)\n",
    "    \n",
    "    def cov_mat(self):\n",
    "        covariance_mat = (1/(self.n))*np.matmul(self.X_data, np.transpose(self.X_data))\n",
    "        return covariance_mat\n",
    "        \n",
    "    def eig_vals_vec(self):\n",
    "        self.eig_vals, self.eig_vec = la.eig(self.cov_mat())\n",
    "#         print(self.eig_vals)\n",
    "        return self.eig_vals, self.eig_vec\n",
    "    \n",
    "\n",
    "    def sort_eig_vals_vec(self):\n",
    "        dum_var, self.eig_vec = self.eig_vals_vec()\n",
    "        for i in range(self.m):\n",
    "            self.eig_vals_sorted[i] = max(dum_var)\n",
    "            self.sorted_indeces[i] = np.where(self.eig_vals_sorted[i] == self.eig_vals)[0][0]\n",
    "            dum_var = np.delete(dum_var, np.argmax(dum_var))\n",
    "        \n",
    "        for i in range(len(self.sorted_indeces)):\n",
    "            self.eig_vecs_sorted[:,i] = np.transpose(self.eig_vec[:, int(self.sorted_indeces[i]) ])\n",
    "            \n",
    "        return self.eig_vals_sorted, self.eig_vecs_sorted\n",
    "    \n",
    "    def PCA_transform(self):\n",
    "        _, self.eig_vecs_sorted = self.sort_eig_vals_vec()\n",
    "        Y_data = np.matmul(np.transpose(self.eig_vecs_sorted), self.X_data)\n",
    "        return Y_data"
   ]
  },
  {
   "cell_type": "code",
   "execution_count": 110,
   "metadata": {},
   "outputs": [
    {
     "name": "stdout",
     "output_type": "stream",
     "text": [
      "   0  1  2  3  4\n",
      "0  1  2  3  4  5\n",
      "1  5  4  3  2  1\n",
      "              0             1    2             3             4\n",
      "0 -2.828427e+00 -1.414214e+00  0.0  1.414214e+00  2.828427e+00\n",
      "1  4.440892e-16  2.220446e-16  0.0 -2.220446e-16 -4.440892e-16\n"
     ]
    }
   ],
   "source": [
    "X_data = np.array([[1,2,3,4,5], [5,4,3,2,1]])\n",
    "print(pd.DataFrame(X_data))\n",
    "# X_data = np.array([[2,0,0], [0,5,0],[0,0,10]])\n",
    "obj = PCA(X_data)\n",
    "\n",
    "Y_data = obj.PCA_transform()\n",
    "print(pd.DataFrame(Y_data))\n",
    "\n",
    "# obj = PCA(Y_data)\n",
    "# y_cov_mat = obj.cov_mat()\n",
    "# print(pd.DataFrame(y_cov_mat))"
   ]
  },
  {
   "cell_type": "code",
   "execution_count": null,
   "metadata": {},
   "outputs": [],
   "source": []
  }
 ],
 "metadata": {
  "kernelspec": {
   "display_name": "Python 3",
   "language": "python",
   "name": "python3"
  },
  "language_info": {
   "codemirror_mode": {
    "name": "ipython",
    "version": 3
   },
   "file_extension": ".py",
   "mimetype": "text/x-python",
   "name": "python",
   "nbconvert_exporter": "python",
   "pygments_lexer": "ipython3",
   "version": "3.6.8"
  }
 },
 "nbformat": 4,
 "nbformat_minor": 2
}
