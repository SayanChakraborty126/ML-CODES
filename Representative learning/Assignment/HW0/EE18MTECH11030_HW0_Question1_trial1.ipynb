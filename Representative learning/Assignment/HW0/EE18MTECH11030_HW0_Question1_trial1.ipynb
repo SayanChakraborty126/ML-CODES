{
 "cells": [
  {
   "cell_type": "code",
   "execution_count": 20,
   "metadata": {},
   "outputs": [],
   "source": [
    "import numpy as np\n",
    "import pandas as pd\n",
    "import matplotlib.pyplot as plt\n",
    "from sklearn.datasets import make_blobs\n",
    "import random"
   ]
  },
  {
   "cell_type": "markdown",
   "metadata": {},
   "source": [
    "### The K-means algorithm is defined as follows:"
   ]
  },
  {
   "cell_type": "code",
   "execution_count": 21,
   "metadata": {},
   "outputs": [],
   "source": [
    "class K_means(object):\n",
    "    def __init__(self, K, X_data, epsilon, centroids):\n",
    "        self.K = K                                           # number of centroids\n",
    "        self.X_data = pd.DataFrame(X_data).transpose()       # X_data argument is expected to have dimension in rows and number of observation in coloumns\n",
    "        self.epsilon = epsilon                               # threshold\n",
    "        self.centroids = pd.DataFrame(centroids).transpose() # centroids argument is expected to have dimension in rows\n",
    "        self.centroids_new = pd.DataFrame(columns=list(self.centroids.columns))\n",
    "        N = self.X_data.shape[0]\n",
    "        self.X_data = self.X_data.assign(cluster = np.zeros(N)) \n",
    "#         print(self.X_data)\n",
    "    \n",
    "    def assign_cluster(self):\n",
    "        N = self.X_data.shape[0]\n",
    "        for i in range(N):\n",
    "            self.X_data.loc[i,'cluster'] = np.argmin(np.square(self.X_data.loc[i, :]-self.centroids).sum(axis=1))\n",
    "        return self.X_data\n",
    "    \n",
    "    def update_centroids(self):\n",
    "        for i in range(self.K):\n",
    "            dum = self.X_data[self.X_data['cluster'] == i]\n",
    "            dum = dum[dum.columns[0:self.X_data.shape[1]-1]]    \n",
    "            print(dum)\n",
    "            if dum.shape[0] != 0:\n",
    "                self.centroids_new.loc[i, :] = dum.sum(axis=0)/dum.shape[0]\n",
    "            else:\n",
    "                self.centroids_new.loc[i, :] = 0\n",
    "        return self.centroids_new"
   ]
  },
  {
   "cell_type": "markdown",
   "metadata": {},
   "source": [
    "### Generate Data"
   ]
  },
  {
   "cell_type": "code",
   "execution_count": 22,
   "metadata": {},
   "outputs": [],
   "source": [
    "def generate_data(k=3):\n",
    "    # Set three centers, the model should predict similar results\n",
    "    center_1 = np.array([1,1])\n",
    "    center_2 = np.array([5,5])\n",
    "    center_3 = np.array([8,1])\n",
    "\n",
    "    # Generate random data and center it to the three centers\n",
    "    data_1 = np.random.randn(10, 2) + center_1\n",
    "    data_2 = np.random.randn(10,2) + center_2\n",
    "    data_3 = np.random.randn(10,2) + center_3\n",
    "\n",
    "    data = np.concatenate((data_1, data_2, data_3), axis = 0)\n",
    "    return data"
   ]
  },
  {
   "cell_type": "code",
   "execution_count": 23,
   "metadata": {
    "scrolled": false
   },
   "outputs": [
    {
     "name": "stdout",
     "output_type": "stream",
     "text": [
      "[[ 1.   3.5  5. ]\n",
      " [ 1.  -5.   8. ]]\n"
     ]
    },
    {
     "ename": "NameError",
     "evalue": "name 'error' is not defined",
     "output_type": "error",
     "traceback": [
      "\u001b[1;31m---------------------------------------------------------------------------\u001b[0m",
      "\u001b[1;31mNameError\u001b[0m                                 Traceback (most recent call last)",
      "\u001b[1;32m<ipython-input-23-000bd3f1e8af>\u001b[0m in \u001b[0;36m<module>\u001b[1;34m\u001b[0m\n\u001b[0;32m     10\u001b[0m \u001b[1;33m\u001b[0m\u001b[0m\n\u001b[0;32m     11\u001b[0m \u001b[0miter\u001b[0m \u001b[1;33m=\u001b[0m \u001b[1;36m0\u001b[0m\u001b[1;33m\u001b[0m\u001b[1;33m\u001b[0m\u001b[0m\n\u001b[1;32m---> 12\u001b[1;33m \u001b[1;32mwhile\u001b[0m \u001b[0merror\u001b[0m \u001b[1;33m>\u001b[0m \u001b[0mself\u001b[0m\u001b[1;33m.\u001b[0m\u001b[0mepsilon\u001b[0m\u001b[1;33m:\u001b[0m\u001b[1;33m\u001b[0m\u001b[1;33m\u001b[0m\u001b[0m\n\u001b[0m\u001b[0;32m     13\u001b[0m     \u001b[0mself\u001b[0m\u001b[1;33m.\u001b[0m\u001b[0mX_data\u001b[0m \u001b[1;33m=\u001b[0m \u001b[0mself\u001b[0m\u001b[1;33m.\u001b[0m\u001b[0massign_cluster\u001b[0m\u001b[1;33m(\u001b[0m\u001b[1;33m)\u001b[0m\u001b[1;33m\u001b[0m\u001b[1;33m\u001b[0m\u001b[0m\n\u001b[0;32m     14\u001b[0m     \u001b[0mself\u001b[0m\u001b[1;33m.\u001b[0m\u001b[0mcentroids_new\u001b[0m \u001b[1;33m=\u001b[0m \u001b[0mself\u001b[0m\u001b[1;33m.\u001b[0m\u001b[0mupdate_centroids\u001b[0m\u001b[1;33m(\u001b[0m\u001b[1;33m)\u001b[0m\u001b[1;33m\u001b[0m\u001b[1;33m\u001b[0m\u001b[0m\n",
      "\u001b[1;31mNameError\u001b[0m: name 'error' is not defined"
     ]
    }
   ],
   "source": [
    "K = 3\n",
    "X_data = generate_data(K).transpose()\n",
    "epsilon = 0.00001\n",
    "centroids = np.array([[1,1],[3.5,-5],[5,8]])\n",
    "centroids = centroids.transpose()\n",
    "print(centroids)\n",
    "obj = K_means(K, X_data, epsilon, centroids)\n",
    "\n",
    "\n",
    "\n",
    "iter = 0\n",
    "while error > self.epsilon:\n",
    "    self.X_data = self.assign_cluster()\n",
    "    self.centroids_new = self.update_centroids()\n",
    "    error = np.square(self.centroids-self.centroids_new).sum(axis=1).sum()\n",
    "    self.centroids = self.centroids_new\n",
    "    iter += 1\n",
    "return self.centroids_new\n",
    "\n",
    "\n",
    "# new_centroids = obj.K_means_algo()\n",
    "# print(new_centroids)"
   ]
  },
  {
   "cell_type": "code",
   "execution_count": null,
   "metadata": {},
   "outputs": [],
   "source": []
  },
  {
   "cell_type": "code",
   "execution_count": null,
   "metadata": {},
   "outputs": [],
   "source": []
  },
  {
   "cell_type": "code",
   "execution_count": null,
   "metadata": {},
   "outputs": [],
   "source": []
  },
  {
   "cell_type": "code",
   "execution_count": null,
   "metadata": {},
   "outputs": [],
   "source": []
  },
  {
   "cell_type": "code",
   "execution_count": null,
   "metadata": {},
   "outputs": [],
   "source": []
  },
  {
   "cell_type": "code",
   "execution_count": null,
   "metadata": {},
   "outputs": [],
   "source": []
  },
  {
   "cell_type": "code",
   "execution_count": 24,
   "metadata": {},
   "outputs": [
    {
     "name": "stdout",
     "output_type": "stream",
     "text": [
      "[[1 2 3]\n",
      " [4 5 6]]\n",
      "2\n",
      "3\n"
     ]
    }
   ],
   "source": [
    "A = np.array([[1,2,3], [4,5,6]])\n",
    "B = np.array([[4,5], [5,3], [8,7]])\n",
    "print(A)\n",
    "m,n = A.shape\n",
    "print(A.shape[0])\n",
    "print(A.shape[1])"
   ]
  },
  {
   "cell_type": "code",
   "execution_count": 25,
   "metadata": {},
   "outputs": [
    {
     "name": "stdout",
     "output_type": "stream",
     "text": [
      "   0  1\n",
      "0  1  4\n",
      "1  2  5\n",
      "2  3  6\n",
      "   0  1  2\n",
      "0  1  2  3\n",
      "1  4  5  6\n",
      "(3, 2)\n",
      "   0  1  2\n",
      "0  4  5  8\n",
      "1  5  3  7\n",
      "   0  1\n",
      "0  4  5\n",
      "1  5  3\n",
      "2  8  7\n",
      "(2, 3)\n"
     ]
    }
   ],
   "source": [
    "Aa = pd.DataFrame(A)\n",
    "Aa = Aa.transpose()\n",
    "Bb = pd.DataFrame(B)\n",
    "Bb = Bb.transpose()\n",
    "\n",
    "print(Aa)\n",
    "print(Aa.transpose())\n",
    "print(Aa.shape)\n",
    "\n",
    "print(Bb)\n",
    "print(Bb.transpose())\n",
    "print(Bb.shape)"
   ]
  },
  {
   "cell_type": "code",
   "execution_count": 26,
   "metadata": {},
   "outputs": [
    {
     "name": "stdout",
     "output_type": "stream",
     "text": [
      "0    4.123106\n",
      "1    5.385165\n",
      "2    6.708204\n",
      "dtype: float64\n",
      "2\n"
     ]
    },
    {
     "name": "stderr",
     "output_type": "stream",
     "text": [
      "C:\\Users\\admin\\Anaconda3\\lib\\site-packages\\numpy\\core\\fromnumeric.py:56: FutureWarning: \n",
      "The current behaviour of 'Series.argmax' is deprecated, use 'idxmax'\n",
      "instead.\n",
      "The behavior of 'argmax' will be corrected to return the positional\n",
      "maximum in the future. For now, use 'series.values.argmax' or\n",
      "'np.argmax(np.array(values))' to get the position of the maximum\n",
      "row.\n",
      "  return getattr(obj, method)(*args, **kwds)\n"
     ]
    }
   ],
   "source": [
    "print(np.sqrt(np.square(Aa).sum(axis=1)))\n",
    "print(np.argmax(np.sqrt(np.square(Aa).sum(axis=1))))"
   ]
  },
  {
   "cell_type": "code",
   "execution_count": 27,
   "metadata": {},
   "outputs": [
    {
     "name": "stdout",
     "output_type": "stream",
     "text": [
      "0    3.162278\n",
      "1    2.000000\n",
      "2    1.414214\n",
      "dtype: float64\n",
      "0\n"
     ]
    }
   ],
   "source": [
    "print(np.sqrt(np.square(Aa-Bb.loc[:,0]).sum(axis=1)))\n",
    "print(np.argmax(np.sqrt(np.square(Aa-Bb.loc[:,0]).sum(axis=1))))"
   ]
  },
  {
   "cell_type": "code",
   "execution_count": 33,
   "metadata": {},
   "outputs": [
    {
     "name": "stdout",
     "output_type": "stream",
     "text": [
      "   0  1  cluster\n",
      "0  1  4      0.0\n",
      "1  2  5      0.0\n",
      "2  3  6      0.0\n"
     ]
    }
   ],
   "source": [
    "Aa = Aa.assign(cluster = np.zeros(Aa.shape[0]).tolist() ) \n",
    "print(Aa)"
   ]
  },
  {
   "cell_type": "code",
   "execution_count": 34,
   "metadata": {},
   "outputs": [
    {
     "name": "stdout",
     "output_type": "stream",
     "text": [
      "   0  1  cluster\n",
      "0  1  4      0.0\n",
      "1  2  5      0.0\n",
      "2  3  6      2.0\n"
     ]
    }
   ],
   "source": [
    "Aa.loc[2,'cluster'] = 2\n",
    "print(Aa)"
   ]
  },
  {
   "cell_type": "code",
   "execution_count": 35,
   "metadata": {},
   "outputs": [
    {
     "name": "stdout",
     "output_type": "stream",
     "text": [
      "   0  1\n",
      "0  1  4\n",
      "1  2  5\n",
      "2  3  6\n"
     ]
    }
   ],
   "source": [
    "Aa = Aa.drop(labels='cluster', axis=1)\n",
    "print(Aa)"
   ]
  },
  {
   "cell_type": "code",
   "execution_count": null,
   "metadata": {},
   "outputs": [],
   "source": [
    "print(np.array(Aa.loc[0, :]))"
   ]
  },
  {
   "cell_type": "code",
   "execution_count": null,
   "metadata": {},
   "outputs": [],
   "source": [
    "print(Aa[Aa['cluster'] == 1])\n",
    "\n",
    "Aaa = Aa[Aa['cluster'] == 1]\n",
    "Aaa = Aaa[Aaa.columns[0:2]]\n",
    "print(Aaa)"
   ]
  },
  {
   "cell_type": "code",
   "execution_count": null,
   "metadata": {},
   "outputs": [],
   "source": [
    "print(Aaa.sum(axis=0))\n",
    "print(Aaa.sum(axis=0).shape[0])"
   ]
  },
  {
   "cell_type": "code",
   "execution_count": null,
   "metadata": {},
   "outputs": [],
   "source": [
    "dum = np.array([[0,1], [2,3], [7,8]])\n",
    "print(dum)"
   ]
  },
  {
   "cell_type": "code",
   "execution_count": null,
   "metadata": {},
   "outputs": [],
   "source": [
    "print(dum.sum(axis=0))"
   ]
  },
  {
   "cell_type": "code",
   "execution_count": null,
   "metadata": {},
   "outputs": [],
   "source": [
    "print(Aa)"
   ]
  },
  {
   "cell_type": "code",
   "execution_count": null,
   "metadata": {},
   "outputs": [],
   "source": [
    "print(pd.DataFrame(Aa))"
   ]
  },
  {
   "cell_type": "code",
   "execution_count": null,
   "metadata": {},
   "outputs": [],
   "source": [
    "print(list(Aa.columns))"
   ]
  },
  {
   "cell_type": "code",
   "execution_count": null,
   "metadata": {},
   "outputs": [],
   "source": [
    "dum = pd.DataFrame(np.array([[1,2], [3,4], [5,6]]))\n",
    "dum1 = pd.DataFrame(np.array([[1,2], [3,4]]))\n",
    "print(dum)\n",
    "print(dum1)"
   ]
  },
  {
   "cell_type": "code",
   "execution_count": null,
   "metadata": {},
   "outputs": [],
   "source": [
    "print(dum1.loc[0,:] - dum)"
   ]
  },
  {
   "cell_type": "code",
   "execution_count": null,
   "metadata": {},
   "outputs": [],
   "source": [
    "print(np.square(dum1.loc[0,:] - dum))"
   ]
  },
  {
   "cell_type": "code",
   "execution_count": null,
   "metadata": {},
   "outputs": [],
   "source": [
    "print(np.square(dum1.loc[0,:] - dum).sum(axis=0))"
   ]
  },
  {
   "cell_type": "code",
   "execution_count": null,
   "metadata": {},
   "outputs": [],
   "source": [
    "for i in range(3):\n",
    "    print(i)"
   ]
  },
  {
   "cell_type": "code",
   "execution_count": null,
   "metadata": {},
   "outputs": [],
   "source": []
  }
 ],
 "metadata": {
  "kernelspec": {
   "display_name": "Python 3",
   "language": "python",
   "name": "python3"
  },
  "language_info": {
   "codemirror_mode": {
    "name": "ipython",
    "version": 3
   },
   "file_extension": ".py",
   "mimetype": "text/x-python",
   "name": "python",
   "nbconvert_exporter": "python",
   "pygments_lexer": "ipython3",
   "version": "3.6.8"
  }
 },
 "nbformat": 4,
 "nbformat_minor": 2
}
