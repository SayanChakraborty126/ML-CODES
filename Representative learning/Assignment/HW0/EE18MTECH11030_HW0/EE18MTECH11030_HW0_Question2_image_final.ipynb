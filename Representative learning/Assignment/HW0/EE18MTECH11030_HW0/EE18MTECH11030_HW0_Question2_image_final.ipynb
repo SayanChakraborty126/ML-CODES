{
 "cells": [
  {
   "cell_type": "markdown",
   "metadata": {},
   "source": [
    "## Question 2:\n",
    "## Submitted by: Sayan Chakraborty, EE18MTECH11030"
   ]
  },
  {
   "cell_type": "code",
   "execution_count": 1,
   "metadata": {},
   "outputs": [],
   "source": [
    "import numpy as np\n",
    "import pandas as pd\n",
    "import matplotlib.pyplot as plt\n",
    "from numpy import linalg as la\n",
    "from PIL import Image"
   ]
  },
  {
   "cell_type": "markdown",
   "metadata": {},
   "source": [
    "### The PCA  algorithm is given as follows:"
   ]
  },
  {
   "cell_type": "code",
   "execution_count": 2,
   "metadata": {},
   "outputs": [],
   "source": [
    "class PCA(object):\n",
    "    def __init__(self, X_data):\n",
    "        self.m, self.n = X_data.shape        # X_data is expected to have dinemsion in the row and observations in the columns\n",
    "        self.data_mean = np.mean(X_data, axis = 1).reshape(self.m, 1)\n",
    "        self.X_data = X_data-self.data_mean  # subtract the mean \n",
    "        self.eig_vals_sorted = np.zeros(self.m)\n",
    "        self.eig_vecs_sorted = np.zeros([self.m, self.m])\n",
    "        self.sorted_indeces = np.zeros(self.m)\n",
    "    \n",
    "    def cov_mat(self):\n",
    "        covariance_mat = (1/(self.n))*np.matmul(self.X_data, np.transpose(self.X_data))\n",
    "        return covariance_mat\n",
    "        \n",
    "    def eig_vals_vec(self):\n",
    "        self.eig_vals, self.eig_vec = la.eig(self.cov_mat())\n",
    "#         print(self.eig_vals)\n",
    "        return self.eig_vals, self.eig_vec\n",
    "    \n",
    "\n",
    "    def sort_eig_vals_vec(self):\n",
    "        dum_var, self.eig_vec = self.eig_vals_vec()\n",
    "        for i in range(self.m):\n",
    "            self.eig_vals_sorted[i] = max(dum_var)\n",
    "            self.sorted_indeces[i] = np.where(self.eig_vals_sorted[i] == self.eig_vals)[0][0]\n",
    "            dum_var = np.delete(dum_var, np.argmax(dum_var))\n",
    "        \n",
    "        for i in range(len(self.sorted_indeces)):\n",
    "            self.eig_vecs_sorted[:,i] = np.transpose(self.eig_vec[:, int(self.sorted_indeces[i]) ])\n",
    "            \n",
    "        return self.eig_vals_sorted, self.eig_vecs_sorted\n",
    "    \n",
    "    def PCA_transform(self):\n",
    "        _, self.eig_vecs_sorted = self.sort_eig_vals_vec()\n",
    "#         Y_data = np.matmul(np.transpose(self.eig_vecs_sorted), self.X_data)\n",
    "        Y_data = np.matmul((self.eig_vecs_sorted), self.X_data)\n",
    "        return Y_data"
   ]
  },
  {
   "cell_type": "markdown",
   "metadata": {},
   "source": [
    "### Generate data:"
   ]
  },
  {
   "cell_type": "code",
   "execution_count": 3,
   "metadata": {},
   "outputs": [],
   "source": [
    "def get_data():\n",
    "    im = Image.open(\"shakira.jpg\")\n",
    "    im.show()\n",
    "    pix = np.array(im)\n",
    "\n",
    "    N, M, K = pix.shape\n",
    "    X_data = np.zeros([K, N*M])\n",
    "    for i in range(K):\n",
    "        X_data[i,:] = (pix[:,:,i].reshape(( pix[:,:,i].shape[0]*pix[:,:,i].shape[1]) ))\n",
    "\n",
    "    X_data = X_data.astype(float)\n",
    "    return X_data, [N, M, K]\n",
    "    "
   ]
  },
  {
   "cell_type": "markdown",
   "metadata": {},
   "source": [
    "### Perform PCA on the generated data:"
   ]
  },
  {
   "cell_type": "code",
   "execution_count": 4,
   "metadata": {},
   "outputs": [
    {
     "name": "stdout",
     "output_type": "stream",
     "text": [
      "(3, 102400)\n",
      "(102400, 3)\n"
     ]
    }
   ],
   "source": [
    "X_data, org_img_size = get_data()\n",
    "print(X_data.shape)\n",
    "M,N = X_data.shape\n",
    "obj = PCA(X_data)\n",
    "Y_data = obj.PCA_transform()\n",
    "Y_data = np.transpose(Y_data)\n",
    "print(Y_data.shape)"
   ]
  },
  {
   "cell_type": "markdown",
   "metadata": {},
   "source": [
    "### View the result:"
   ]
  },
  {
   "cell_type": "code",
   "execution_count": 5,
   "metadata": {},
   "outputs": [],
   "source": [
    "im_dat = Y_data.reshape(( org_img_size[0], org_img_size[1], org_img_size[2] ) )\n",
    "image = Image.fromarray(im_dat.astype('uint8'), 'RGB')\n",
    "image.show()\n",
    "image.save('shakira_uncorrelated.jpg')"
   ]
  },
  {
   "cell_type": "markdown",
   "metadata": {},
   "source": [
    "### Result: the data is now uncorrelated and the redundancies are removed."
   ]
  }
 ],
 "metadata": {
  "kernelspec": {
   "display_name": "Python 3",
   "language": "python",
   "name": "python3"
  },
  "language_info": {
   "codemirror_mode": {
    "name": "ipython",
    "version": 3
   },
   "file_extension": ".py",
   "mimetype": "text/x-python",
   "name": "python",
   "nbconvert_exporter": "python",
   "pygments_lexer": "ipython3",
   "version": "3.7.1"
  }
 },
 "nbformat": 4,
 "nbformat_minor": 2
}
