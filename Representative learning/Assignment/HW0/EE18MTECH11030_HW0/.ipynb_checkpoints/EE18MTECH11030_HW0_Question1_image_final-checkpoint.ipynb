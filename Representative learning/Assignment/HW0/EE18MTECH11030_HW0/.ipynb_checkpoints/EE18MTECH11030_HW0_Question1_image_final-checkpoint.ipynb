{
 "cells": [
  {
   "cell_type": "markdown",
   "metadata": {},
   "source": [
    "## Question 1:\n",
    "## Submitted by: Sayan Chakraborty, EE18MTECH11030"
   ]
  },
  {
   "cell_type": "code",
   "execution_count": 5,
   "metadata": {},
   "outputs": [],
   "source": [
    "import numpy as np\n",
    "import pandas as pd\n",
    "import matplotlib.pyplot as plt\n",
    "from sklearn.datasets import make_blobs\n",
    "import random\n",
    "from random import randint\n",
    "from PIL import Image"
   ]
  },
  {
   "cell_type": "markdown",
   "metadata": {},
   "source": [
    "### The K-means algorithm is defined as follows:"
   ]
  },
  {
   "cell_type": "code",
   "execution_count": 6,
   "metadata": {},
   "outputs": [],
   "source": [
    "# class K_means():\n",
    "def initialize(X_data, centroids):\n",
    "    X_data = np.transpose(np.array(X_data))         # X_data argument is expected to have dimension in rows and number of observation in coloumns\n",
    "    centroids = np.transpose(np.array(centroids))   # centroids argument is expected to have dimension in rows\n",
    "    N = X_data.shape[0]    \n",
    "    X_data = np.append(X_data, np.transpose(np.zeros((1,N))), axis=1)\n",
    "    return X_data, centroids\n",
    "\n",
    "def assign_cluster(X_data, centroids):\n",
    "    X_data = X_data.copy() # to avoid mutability \n",
    "    N, M = X_data.shape    # N = num. of observations, M = dimension of data\n",
    "    Nc, Mc = centroids.shape # Nc = num. of centroids, Mc = dimension of data\n",
    "    dum_var = np.zeros(Nc)\n",
    "    \n",
    "    for i in range(N):\n",
    "        dum_var = np.zeros(Nc)\n",
    "#         print(X_data[0, 0:M-1])\n",
    "        for j in range(Nc):\n",
    "            dum_var[j] = (np.linalg.norm(X_data[i, 0:M-1] - centroids[j,:]))\n",
    "        X_data[i,M-1] = np.argmin(dum_var)\n",
    "                      \n",
    "    return X_data\n",
    "\n",
    "def update_centroids(X_data, centroids):\n",
    "    centroids = centroids.copy() # to avoid mutability \n",
    "    X_data = X_data.copy()       # to avoid mutability \n",
    "    \n",
    "    X_data = pd.DataFrame(X_data)\n",
    "    centroids = pd.DataFrame(centroids) \n",
    "    N, M = X_data.shape    # N = num. of observations, M = dimension of data\n",
    "    Nc, Mc = centroids.shape # Nc = num. of centroids, Mc = dimension of data\n",
    "    X_data = X_data.rename(columns = {M-1:'cluster'})\n",
    "#     print(X_data)\n",
    "     \n",
    "    \n",
    "    for i in range(Nc):\n",
    "        dum = X_data[X_data['cluster'] == i]\n",
    "        dum = dum[dum.columns[0:X_data.shape[1]-1]]    \n",
    "#         print(dum)\n",
    "        if dum.shape[0] != 0:\n",
    "            centroids.loc[i, :] = dum.sum(axis=0)/dum.shape[0]\n",
    "        else:\n",
    "            centroids.loc[i, :] = 0\n",
    "            \n",
    "#     print(centroids)\n",
    "    return np.array(centroids)"
   ]
  },
  {
   "cell_type": "markdown",
   "metadata": {},
   "source": [
    "### Generate Data:"
   ]
  },
  {
   "cell_type": "code",
   "execution_count": 7,
   "metadata": {},
   "outputs": [],
   "source": [
    "def generate_data():\n",
    "    im = Image.open(\"nature1.jpg\")\n",
    "    im.show()\n",
    "    pix = np.array(im)\n",
    "\n",
    "    N, M, K = pix.shape\n",
    "    X_data = np.zeros([K, N*M])\n",
    "    for i in range(K):\n",
    "        X_data[i,:] = (pix[:,:,i].reshape(( pix[:,:,i].shape[0]*pix[:,:,i].shape[1]) ))\n",
    "\n",
    "    X_data = X_data.astype(float)\n",
    "    return X_data, [N, M, K]\n"
   ]
  },
  {
   "cell_type": "markdown",
   "metadata": {},
   "source": [
    "### Implement the K-means algorithm:"
   ]
  },
  {
   "cell_type": "code",
   "execution_count": 8,
   "metadata": {
    "scrolled": false
   },
   "outputs": [
    {
     "name": "stdout",
     "output_type": "stream",
     "text": [
      "iteration 0 , error = 154.7219709703407\n",
      "iteration 1 , error = 55.864168950644384\n",
      "iteration 2 , error = 49.05344999998062\n",
      "iteration 3 , error = 44.729280489810776\n",
      "iteration 4 , error = 41.707505340012034\n",
      "iteration 5 , error = 38.61951528397076\n",
      "iteration 6 , error = 35.011777962365244\n",
      "iteration 7 , error = 30.554879594092682\n",
      "iteration 8 , error = 26.141893537914314\n",
      "iteration 9 , error = 22.627160849784854\n",
      "iteration 10 , error = 19.985925719935565\n",
      "iteration 11 , error = 19.009403062459853\n",
      "iteration 12 , error = 18.514535588215196\n",
      "iteration 13 , error = 18.6821011846117\n",
      "iteration 14 , error = 19.1305192340504\n",
      "iteration 15 , error = 19.693664813257737\n",
      "iteration 16 , error = 20.84008405659898\n",
      "iteration 17 , error = 23.031569108072745\n",
      "iteration 18 , error = 24.448461833714557\n",
      "iteration 19 , error = 19.151846483823608\n",
      "iteration 20 , error = 13.34297139697176\n",
      "iteration 21 , error = 9.183037662175487\n",
      "iteration 22 , error = 6.973157059907055\n",
      "iteration 23 , error = 5.640762893827532\n",
      "iteration 24 , error = 4.472435495061362\n",
      "iteration 25 , error = 3.7224180211821762\n",
      "iteration 26 , error = 3.2093148710647386\n",
      "iteration 27 , error = 2.714126544567633\n",
      "iteration 28 , error = 2.389708147408842\n",
      "iteration 29 , error = 2.0612301910892485\n",
      "iteration 30 , error = 1.876509913156737\n",
      "iteration 31 , error = 1.8858192696506364\n",
      "iteration 32 , error = 1.9133811178101665\n",
      "iteration 33 , error = 1.7505297572061802\n",
      "iteration 34 , error = 1.7633263718013796\n",
      "iteration 35 , error = 1.6177500981105932\n",
      "iteration 36 , error = 1.8384125781795413\n",
      "iteration 37 , error = 1.851856099130555\n",
      "iteration 38 , error = 1.975121538286864\n",
      "iteration 39 , error = 2.157665561992806\n",
      "iteration 40 , error = 2.4316225541988343\n",
      "iteration 41 , error = 2.459512734113324\n",
      "iteration 42 , error = 2.685192691220799\n",
      "iteration 43 , error = 2.630119576267765\n",
      "iteration 44 , error = 2.786527690581332\n",
      "iteration 45 , error = 2.77775022743661\n",
      "iteration 46 , error = 2.461056515997724\n",
      "iteration 47 , error = 2.507399812055577\n",
      "iteration 48 , error = 2.3912871892706447\n",
      "iteration 49 , error = 2.20787671238424\n",
      "iteration 50 , error = 1.9854730701487797\n",
      "iteration 51 , error = 1.8978702758295498\n",
      "iteration 52 , error = 1.8128454180588223\n",
      "iteration 53 , error = 1.6477080208701427\n",
      "iteration 54 , error = 1.5367364153868528\n",
      "iteration 55 , error = 1.5360911129468922\n",
      "iteration 56 , error = 1.5156848757100123\n",
      "iteration 57 , error = 1.260826480191742\n",
      "iteration 58 , error = 1.1141417400638538\n",
      "iteration 59 , error = 0.9173003634097037\n",
      "iteration 60 , error = 0.8858952857769534\n",
      "iteration 61 , error = 0.9219184002857818\n",
      "iteration 62 , error = 0.9191205731818323\n",
      "iteration 63 , error = 0.8003468686189967\n",
      "iteration 64 , error = 0.7263471607433116\n",
      "iteration 65 , error = 0.6557321788744219\n",
      "iteration 66 , error = 0.5432243059353548\n",
      "iteration 67 , error = 0.6241541415854595\n",
      "iteration 68 , error = 0.5068838089414904\n",
      "iteration 69 , error = 0.46926632045578714\n",
      "iteration 70 , error = 0.3938984531683677\n",
      "iteration 71 , error = 0.3962870727396862\n",
      "iteration 72 , error = 0.3263086636732095\n",
      "iteration 73 , error = 0.2769852610114937\n",
      "iteration 74 , error = 0.26565322010834724\n",
      "iteration 75 , error = 0.3136389098705633\n",
      "iteration 76 , error = 0.16850202574026993\n",
      "iteration 77 , error = 0.10514785485414471\n",
      "iteration 78 , error = 0.040068525664165903\n",
      "iteration 79 , error = 0.04371077824152033\n",
      "iteration 80 , error = 0.022445160524403145\n",
      "iteration 81 , error = 0.025191365904510855\n",
      "iteration 82 , error = 0.023259504112626787\n",
      "iteration 83 , error = 0.010931197453615586\n",
      "iteration 84 , error = 0.003767095462812616\n",
      "iteration 85 , error = 0.0\n",
      "[[ 42.99401896  30.68541228  11.11954559]\n",
      " [ 97.86834932  69.45118627  15.22382635]\n",
      " [ 81.31420713  74.46727997  67.43541351]\n",
      " [153.2969527  114.83278082  41.97494581]\n",
      " [199.55401054 168.54698478 108.26331967]]\n"
     ]
    }
   ],
   "source": [
    "X_data, img_shape = generate_data()\n",
    "K = 5\n",
    "# X_data = X_data.transpose()\n",
    "epsilon = 0.00001\n",
    "\n",
    "centroids = np.array([ [1,2,3], [3,4,5], [5,6,7], [7,8,9], [9,10,11]])\n",
    "# centroids = np.random.random()*np.array([[0,0],[-12,2],[1,10], [2,-2], [-10,-1]])\n",
    "centroids = centroids.transpose()\n",
    "error = 10\n",
    "iter = 0\n",
    "X_data, centroids = initialize(X_data, centroids)\n",
    "N, M = X_data.shape    # N = num. of observations, M = dimension of data\n",
    "while error > epsilon:\n",
    "    \n",
    "    X_data1 = assign_cluster(X_data, centroids)\n",
    "    \n",
    "    centroids_new = update_centroids(X_data1, centroids)\n",
    "\n",
    "    error = np.sqrt(np.square(centroids-centroids_new).sum(axis=1)).sum()\n",
    "    \n",
    "    centroids = centroids_new\n",
    "    \n",
    "    print('iteration',iter, ', error =', error)\n",
    "    iter += 1   \n",
    "print('Centroids = ')\n",
    "print(centroids)"
   ]
  },
  {
   "cell_type": "code",
   "execution_count": 13,
   "metadata": {
    "scrolled": false
   },
   "outputs": [
    {
     "name": "stdout",
     "output_type": "stream",
     "text": [
      "(225, 400, 3)\n"
     ]
    }
   ],
   "source": [
    "color = [\"#\"+''.join([random.choice('0123456789ABCDEF') for j in range(6)])\n",
    "             for i in range(K)]\n",
    "def hex_to_rgb(hex):\n",
    "     hex = hex.lstrip('#')\n",
    "     hlen = len(hex)\n",
    "     return tuple(int(hex[i:i+hlen//3], 16) for i in range(0, hlen, hlen//3))\n",
    "    \n",
    "    \n",
    "RGB_color = hex_to_rgb(color[1])\n",
    "X_data1 = pd.DataFrame(X_data1)\n",
    "X_data1 = X_data1.rename(columns = {M-1:'cluster'})\n",
    "X_mod_data = pd.DataFrame(index=[0], columns= [0,1,2])\n",
    "for i in range(K):\n",
    "    RGB_color = hex_to_rgb(color[i])\n",
    "    dum = X_data1[X_data1['cluster'] == i].loc[:,[0,1,2]]\n",
    "    dum.loc[:, :] = [RGB_color[0], RGB_color[1], RGB_color[2]]\n",
    "    X_mod_data = pd.concat([X_mod_data, dum], ignore_index=False)\n",
    "\n",
    "X_mod_data = X_mod_data.dropna()\n",
    "X_mod_data = X_mod_data.sort_index(ascending=True)\n",
    "# print(X_mod_data)\n",
    "# SC = X_mod_data.sort_index(ascending=True)\n",
    "# print(SC)\n",
    "X_mod_data = np.array(X_mod_data)\n",
    "X_mod_data = X_mod_data.reshape((img_shape[0], img_shape[1], img_shape[2] ) )\n",
    "print(X_mod_data.shape)"
   ]
  },
  {
   "cell_type": "markdown",
   "metadata": {},
   "source": [
    "### View results:\n",
    "\n",
    "#### The clusters are not explicitly displsyed here to maintain neatness. However, the clusters with their corresponding centroids are plotted for visualizations as follows:"
   ]
  },
  {
   "cell_type": "code",
   "execution_count": 15,
   "metadata": {},
   "outputs": [],
   "source": [
    "image = Image.fromarray(X_mod_data.astype('uint8'), 'RGB')\n",
    "image.show()\n",
    "image.save('nature_k_means.jpg')"
   ]
  },
  {
   "cell_type": "code",
   "execution_count": null,
   "metadata": {},
   "outputs": [],
   "source": []
  }
 ],
 "metadata": {
  "kernelspec": {
   "display_name": "Python 3",
   "language": "python",
   "name": "python3"
  },
  "language_info": {
   "codemirror_mode": {
    "name": "ipython",
    "version": 3
   },
   "file_extension": ".py",
   "mimetype": "text/x-python",
   "name": "python",
   "nbconvert_exporter": "python",
   "pygments_lexer": "ipython3",
   "version": "3.6.8"
  }
 },
 "nbformat": 4,
 "nbformat_minor": 2
}
