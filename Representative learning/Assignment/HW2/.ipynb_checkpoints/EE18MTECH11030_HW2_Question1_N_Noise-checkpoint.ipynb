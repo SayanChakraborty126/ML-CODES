{
 "cells": [
  {
   "cell_type": "code",
   "execution_count": 1,
   "metadata": {},
   "outputs": [],
   "source": [
    "import numpy as np\n",
    "import random\n",
    "from numpy import linalg as LA\n",
    "import matplotlib.pyplot as plt\n",
    "import pandas as pd\n",
    "# %matplotlib qt"
   ]
  },
  {
   "cell_type": "markdown",
   "metadata": {},
   "source": [
    "### The backpropagation algorithm is implemented as follows:"
   ]
  },
  {
   "cell_type": "code",
   "execution_count": 2,
   "metadata": {},
   "outputs": [],
   "source": [
    "def forward_pass(X, W_hi, W_jh, b_h, b_o, num_in_node, num_hid_node, num_op_node):\n",
    "      \n",
    "    # hidden layer\n",
    "    Zh = np.dot(X, W_hi) + b_h  # hidden layer activation potential\n",
    "    S_Zh = sigmod_fun(Zh)       # hidden layer output\n",
    "    \n",
    "    # Output layer\n",
    "    Yj = np.dot(S_Zh, W_jh) + b_o  # output layer activation potential\n",
    "    S_Yj = sigmod_fun(Yj)          # output layer output\n",
    "    \n",
    "    return Zh, Yj, S_Zh, S_Yj\n",
    "\n",
    "def back_propagation(X, d, W_hi, W_jh, Zh, S_Zh, Yj, S_Yj, b_h, b_o, eta, num_in_node, num_hid_node, num_op_node):\n",
    "    e = (S_Yj - d)\n",
    "    Sd_Yj = sigmod_deriv_fun(Yj)\n",
    "    Sd_Zh = sigmod_deriv_fun(Zh)\n",
    "    \n",
    "    # output bias update\n",
    "    b_o = b_o - eta*e*np.reshape(Sd_Yj,(1,num_op_node))\n",
    "    \n",
    "    # hidden bias update\n",
    "    a = np.dot(W_jh, e*Sd_Yj)\n",
    "    b_h = b_h - eta*np.reshape(a, (1, num_hid_node))*Sd_Zh \n",
    "    \n",
    "    # weight update input to hidden\n",
    "    gam = np.sum(e*Sd_Yj*np.reshape(W_jh, (num_hid_node,1,num_op_node)), axis=2)    \n",
    "    a = np.ones((num_in_node, num_hid_node))*np.reshape(gam, (1,num_hid_node))\n",
    "    b = np.ones((num_in_node, num_hid_node))*np.reshape(Sd_Zh, (1,num_hid_node))\n",
    "    c = np.ones((num_in_node, num_hid_node))*np.reshape(X, (1,num_in_node))\n",
    "    W_hi = W_hi - eta*np.reshape(a*b*c, (num_in_node,num_hid_node))\n",
    "    \n",
    "    # weight update hidden to output\n",
    "    a = np.ones((num_op_node, num_hid_node))*np.reshape(e, (1, num_op_node))\n",
    "    b = np.ones((num_op_node, num_hid_node))*np.reshape(Sd_Yj, (1, num_op_node))\n",
    "    c = np.ones((num_op_node, num_hid_node))*np.reshape(S_Zh, (1, num_hid_node))\n",
    "    W_jh = W_jh - eta*np.reshape(a*b*c, (num_hid_node,num_op_node))\n",
    "\n",
    "    \n",
    "   \n",
    "    \n",
    "\n",
    "  \n",
    "    return W_jh, W_hi, b_o, b_h\n",
    "\n",
    "def sigmod_fun(X):\n",
    "    return 1/(1+np.exp(-X))\n",
    "\n",
    "def sigmod_deriv_fun(X):\n",
    "    X_sig = sigmod_fun(X)\n",
    "    Z = X_sig*(1-X_sig)\n",
    "    return Z\n"
   ]
  },
  {
   "cell_type": "code",
   "execution_count": 3,
   "metadata": {
    "scrolled": false
   },
   "outputs": [],
   "source": [
    "##------------- OR -------------------\n",
    "X = np.array([[0,0],[0,1],[1,0],[1,1]])\n",
    "d = np.array([[0],[1],[1],[1]])\n",
    "\n",
    "# ##------------- AND -------------------\n",
    "# X = np.array([[0,0],[0,1],[1,0],[1,1]])\n",
    "# d = np.array([[0],[0],[0],[1]])\n",
    "\n",
    "# ##------------- XOR -------------------\n",
    "# X = np.array([[0,0],[0,1],[1,0],[1,1]])\n",
    "# d = np.array([[0],[1],[1],[0]])\n",
    "\n",
    "epochs = 10000\n",
    "eta = 0.1\n",
    "num_in_node, num_hid_node, num_op_node = 2,2,1\n",
    "\n",
    "# initialize weights and biases\n",
    "W_hi = np.random.uniform(size = (num_in_node,num_hid_node))\n",
    "W_jh = np.random.uniform(size = (num_hid_node,num_op_node))\n",
    "b_h = np.random.uniform(size = (1,num_hid_node))\n",
    "b_o = np.random.uniform(size = (1,num_op_node))\n",
    "\n",
    "error_epoch = np.zeros((epochs,1))\n",
    "for i in range(epochs):\n",
    "    error = 0\n",
    "    for j in range(4):\n",
    "        Zh, Yj, S_Zh, S_Yj = forward_pass(X[j,:], W_hi, W_jh, b_h, b_o, num_in_node, num_hid_node, num_op_node)\n",
    "        W_jh, W_hi, b_o, b_h = back_propagation(X[j,:], d[j], W_hi, W_jh, Zh, S_Zh, Yj, S_Yj, b_h, b_o, eta, num_in_node, num_hid_node, num_op_node)\n",
    "        error += 0.5*(S_Yj - d[j])*(S_Yj - d[j])\n",
    "    error_epoch[i] = error\n",
    "        \n",
    "    \n",
    "        \n"
   ]
  },
  {
   "cell_type": "code",
   "execution_count": 4,
   "metadata": {},
   "outputs": [
    {
     "name": "stdout",
     "output_type": "stream",
     "text": [
      "[[0.04299871]\n",
      " [0.97159731]\n",
      " [0.98206126]\n",
      " [0.99552   ]]\n"
     ]
    },
    {
     "data": {
      "image/png": "[encoded data removed]",
      "text/plain": [
       "<Figure size 432x288 with 1 Axes>"
      ]
     },
     "metadata": {
      "needs_background": "light"
     },
     "output_type": "display_data"
    }
   ],
   "source": [
    "plt.plot(error_epoch)\n",
    "Zh, Yj, S_Zh, S_Yj = forward_pass(X, W_hi, W_jh, b_h, b_o, num_in_node, num_hid_node, num_op_node)\n",
    "print(S_Yj)"
   ]
  },
  {
   "cell_type": "code",
   "execution_count": 5,
   "metadata": {},
   "outputs": [
    {
     "name": "stdout",
     "output_type": "stream",
     "text": [
      "[[3.70573164 3.51996999]\n",
      " [3.5257389  2.90411935]]\n"
     ]
    }
   ],
   "source": [
    "print(W_hi-0.1*np.array([[0.00278902],[0.00278902]]))"
   ]
  }
 ],
 "metadata": {
  "kernelspec": {
   "display_name": "Python 3",
   "language": "python",
   "name": "python3"
  },
  "language_info": {
   "codemirror_mode": {
    "name": "ipython",
    "version": 3
   },
   "file_extension": ".py",
   "mimetype": "text/x-python",
   "name": "python",
   "nbconvert_exporter": "python",
   "pygments_lexer": "ipython3",
   "version": "3.7.1"
  }
 },
 "nbformat": 4,
 "nbformat_minor": 2
}
