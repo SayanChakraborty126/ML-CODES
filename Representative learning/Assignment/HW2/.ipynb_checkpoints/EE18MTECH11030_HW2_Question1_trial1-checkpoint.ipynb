{
 "cells": [
  {
   "cell_type": "code",
   "execution_count": 1,
   "metadata": {},
   "outputs": [],
   "source": [
    "import numpy as np\n",
    "import random\n",
    "from numpy import linalg as LA\n",
    "import matplotlib.pyplot as plt\n",
    "import pandas as pd\n",
    "# %matplotlib qt"
   ]
  },
  {
   "cell_type": "markdown",
   "metadata": {},
   "source": [
    "### The backpropagation algorithm is implemented as follows:"
   ]
  },
  {
   "cell_type": "code",
   "execution_count": 27,
   "metadata": {},
   "outputs": [],
   "source": [
    "def forward_pass(X, W_ih, W_hj, num_in_node, num_hid_node, num_op_node):\n",
    "      \n",
    "    # hidden layer\n",
    "    Zh = np.sum(W_ih.T*X, axis = 1) # Activation potential\n",
    "    S_Zh = sigmod_fun(Zh)                                        # Activation\n",
    "\n",
    "    # Output layer\n",
    "    Yj = np.sum( W_hj.T*S_Zh, axis = 0 ) # Activation potential\n",
    "    S_Yj = sigmod_fun(Yj)                                              # Activation\n",
    "    \n",
    "    return Zh, Yj, S_Zh, S_Yj\n",
    "\n",
    "def back_propagation(X, d, W_ih, W_hj, Zh, Yj, S_Zh, S_Yj, eta, num_in_node, num_hid_node, num_op_node):\n",
    "    error = 0.5*np.sum((S_Yj - d)*(S_Yj - d))\n",
    "    e = (S_Yj - d)\n",
    "    Sd_Yj = sigmod_deriv_fun(Yj)\n",
    "    Sd_Zh = sigmod_deriv_fun(Zh)\n",
    "    a = np.ones((num_hid_node, num_op_node))*np.reshape(e,(num_op_node,1))\n",
    "    b = np.ones((num_hid_node, num_op_node))*np.reshape(Sd_Yj, (num_op_node,1) )\n",
    "    c = np.ones((num_hid_node, num_op_node))*np.reshape(S_Zh, (num_hid_node,1))\n",
    "    \n",
    "    # weight update hidden to output\n",
    "    W_hj = np.reshape(W_hj, (num_hid_node,num_op_node)) - eta*(a*b*c)\n",
    "    \n",
    "    # weight update input to hidden\n",
    "    gam = np.sum(e*Sd_Yj*np.reshape(W_hj, (num_hid_node,1,num_op_node)), axis=2)\n",
    "    a = np.ones((num_hid_node, num_op_node))*np.reshape(gam, (1,num_hid_node))\n",
    "    b = np.ones((num_hid_node, num_op_node))*Sd_Zh\n",
    "    c = np.ones((num_hid_node, num_op_node))*X\n",
    "    W_ih = W_ih - eta*(a*b*c)\n",
    "    \n",
    "    return error, W_hj, W_ih\n",
    "\n",
    "def sigmod_fun(X):\n",
    "    return 1/(1+np.exp(X))\n",
    "\n",
    "def sigmod_deriv_fun(X):\n",
    "    X_sig = sigmod_fun(X)\n",
    "    Z = X_sig*(1-X_sig)\n",
    "    return Z\n"
   ]
  },
  {
   "cell_type": "code",
   "execution_count": 52,
   "metadata": {
    "scrolled": false
   },
   "outputs": [],
   "source": [
    "X = np.array([[0,0],[0,1],[1,0],[1,1]])\n",
    "d = np.array([[0],[1],[1],[0]])\n",
    "num_in_node = 2\n",
    "num_hid_node = 2\n",
    "num_op_node = 1\n",
    "num_ips = 4\n",
    "epochs = 10000\n",
    "W_ih = np.random.random((num_in_node, num_hid_node))\n",
    "W_hj = np.random.random((num_hid_node, num_op_node))\n",
    "W_hj = np.reshape(W_hj, (num_hid_node,))\n",
    "eta = 0.09\n",
    "\n",
    "for i in range(epochs):\n",
    "    for j in range(num_ips):\n",
    "        Zh, Yj, S_Zh, S_Yj =  forward_pass(X[j,:], W_ih, W_hj, num_in_node, num_hid_node, num_op_node)\n",
    "        error, W_hj, W_ih = back_propagation(X[j,:], d[j], W_ih, W_hj, Zh, Yj, S_Zh, S_Yj, eta, num_in_node, num_hid_node, num_op_node)\n",
    "        W_hj = np.reshape(W_hj, (num_hid_node,))\n",
    "        \n",
    "\n",
    "    "
   ]
  },
  {
   "cell_type": "code",
   "execution_count": 58,
   "metadata": {},
   "outputs": [
    {
     "name": "stdout",
     "output_type": "stream",
     "text": [
      "0.12499498190322991\n",
      "[1 1]\n",
      "0.00504273369666132\n"
     ]
    }
   ],
   "source": [
    "print(error)\n",
    "print(X[3,:])\n",
    "Zh, Yj, S_Zh, S_Yj =  forward_pass(X[0,], W_ih, W_hj, num_in_node, num_hid_node, num_op_node)\n",
    "print(S_Yj)"
   ]
  },
  {
   "cell_type": "code",
   "execution_count": 59,
   "metadata": {},
   "outputs": [
    {
     "name": "stdout",
     "output_type": "stream",
     "text": [
      "[[1 2]\n",
      " [1 4]\n",
      " [2 3]]\n",
      "[[[1 2]]\n",
      "\n",
      " [[1 4]]\n",
      "\n",
      " [[2 3]]]\n"
     ]
    }
   ],
   "source": [
    "0.4942880298380033\n",
    "A = np.array([1,2])\n",
    "B = np.array([7,3])\n",
    "C = np.array([[1,2], [1,4], [2,3]])\n",
    "D = np.reshape(C,(3,1,2))\n",
    "print(C)\n",
    "print(D)"
   ]
  },
  {
   "cell_type": "code",
   "execution_count": 60,
   "metadata": {},
   "outputs": [
    {
     "name": "stdout",
     "output_type": "stream",
     "text": [
      "[7 6]\n",
      "[[[ 7 12]]\n",
      "\n",
      " [[ 7 24]]\n",
      "\n",
      " [[14 18]]]\n"
     ]
    }
   ],
   "source": [
    "print(A*B)\n",
    "E = A*B*D\n",
    "print(E)"
   ]
  },
  {
   "cell_type": "code",
   "execution_count": 63,
   "metadata": {},
   "outputs": [
    {
     "name": "stdout",
     "output_type": "stream",
     "text": [
      "[[19]\n",
      " [31]\n",
      " [32]]\n"
     ]
    }
   ],
   "source": [
    "print(np.sum(E, axis = 2))"
   ]
  },
  {
   "cell_type": "code",
   "execution_count": null,
   "metadata": {},
   "outputs": [],
   "source": [
    "print(np.reshape(C, (2,)))"
   ]
  },
  {
   "cell_type": "code",
   "execution_count": 64,
   "metadata": {},
   "outputs": [
    {
     "name": "stdout",
     "output_type": "stream",
     "text": [
      "[[1. 2.]\n",
      " [1. 2.]]\n"
     ]
    }
   ],
   "source": [
    "AA = np.ones((2,2))\n",
    "BB = np.array([1,2])\n",
    "print(AA*BB)"
   ]
  },
  {
   "cell_type": "code",
   "execution_count": 14,
   "metadata": {},
   "outputs": [
    {
     "name": "stdout",
     "output_type": "stream",
     "text": [
      "[[ 4 10]\n",
      " [12 20]]\n"
     ]
    }
   ],
   "source": [
    "A = np.array([[1,2],[3,4]])\n",
    "B = np.array([4,5])\n",
    "print(A*B)\n"
   ]
  },
  {
   "cell_type": "code",
   "execution_count": 121,
   "metadata": {},
   "outputs": [
    {
     "name": "stdout",
     "output_type": "stream",
     "text": [
      "[[0.26894142]\n",
      " [0.11920292]\n",
      " [0.04742587]]\n"
     ]
    }
   ],
   "source": [
    "A = np.array([[1],[2],[3]])\n",
    "print(1/(1+np.exp(A)))"
   ]
  },
  {
   "cell_type": "code",
   "execution_count": 131,
   "metadata": {},
   "outputs": [
    {
     "name": "stdout",
     "output_type": "stream",
     "text": [
      "[[1 2 3]]\n"
     ]
    }
   ],
   "source": [
    "B = np.array([[4],[5],[6]])\n",
    "print(A.T)"
   ]
  },
  {
   "cell_type": "code",
   "execution_count": 69,
   "metadata": {},
   "outputs": [
    {
     "name": "stdout",
     "output_type": "stream",
     "text": [
      "[[1]]\n"
     ]
    }
   ],
   "source": [
    "print(np.reshape(1,(1,1)))"
   ]
  },
  {
   "cell_type": "code",
   "execution_count": 72,
   "metadata": {},
   "outputs": [
    {
     "name": "stdout",
     "output_type": "stream",
     "text": [
      "[[1]]\n"
     ]
    }
   ],
   "source": [
    "A = np.array(1)\n",
    "print(np.reshape(A,(1,1)))"
   ]
  },
  {
   "cell_type": "code",
   "execution_count": null,
   "metadata": {},
   "outputs": [],
   "source": []
  }
 ],
 "metadata": {
  "kernelspec": {
   "display_name": "Python 3",
   "language": "python",
   "name": "python3"
  },
  "language_info": {
   "codemirror_mode": {
    "name": "ipython",
    "version": 3
   },
   "file_extension": ".py",
   "mimetype": "text/x-python",
   "name": "python",
   "nbconvert_exporter": "python",
   "pygments_lexer": "ipython3",
   "version": "3.7.1"
  }
 },
 "nbformat": 4,
 "nbformat_minor": 2
}
