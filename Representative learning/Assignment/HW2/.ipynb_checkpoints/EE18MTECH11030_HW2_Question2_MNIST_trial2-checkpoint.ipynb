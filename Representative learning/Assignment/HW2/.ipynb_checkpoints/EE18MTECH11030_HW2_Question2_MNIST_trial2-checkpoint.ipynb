{
 "cells": [
  {
   "cell_type": "code",
   "execution_count": 5,
   "metadata": {},
   "outputs": [],
   "source": [
    "import numpy as np\n",
    "import random\n",
    "from numpy import linalg as LA\n",
    "import matplotlib.pyplot as plt\n",
    "import pandas as pd\n",
    "# %matplotlib qt"
   ]
  },
  {
   "cell_type": "markdown",
   "metadata": {},
   "source": [
    "### The backpropagation algorithm is implemented as follows:"
   ]
  },
  {
   "cell_type": "code",
   "execution_count": 6,
   "metadata": {},
   "outputs": [],
   "source": [
    "def forward_pass(X, W_hi, W_jh, b_h, b_o, num_in_node, num_hid_node, num_op_node):\n",
    "      \n",
    "    # hidden layer\n",
    "    Zh = np.dot(X, W_hi) + b_h  # hidden layer activation potential\n",
    "    S_Zh = sigmod_fun(Zh)       # hidden layer output\n",
    "    \n",
    "    # Output layer\n",
    "    Yj = np.dot(S_Zh, W_jh) + b_o  # output layer activation potential\n",
    "    S_Yj = sigmod_fun(Yj)          # output layer output\n",
    "    \n",
    "    return Zh, Yj, S_Zh, S_Yj\n",
    "\n",
    "def back_propagation(X, d, W_hi, W_jh, Zh, S_Zh, Yj, S_Yj, b_h, b_o, eta, num_in_node, num_hid_node, num_op_node):\n",
    "    e = 2*(S_Yj - d)\n",
    "    Sd_Yj = sigmod_deriv_fun(Yj)\n",
    "    Sd_Zh = sigmod_deriv_fun(Zh)\n",
    "    \n",
    "    # output bias update\n",
    "    b_o = b_o - eta*e*np.reshape(Sd_Yj,(1,num_op_node))\n",
    "    \n",
    "    # hidden bias update\n",
    "    a = np.dot(W_jh, e*Sd_Yj)\n",
    "    b_h = b_h - eta*np.reshape(a, (1, num_hid_node))*Sd_Zh \n",
    "    \n",
    "    # weight update input to hidden\n",
    "    gam = np.sum(e*Sd_Yj*np.reshape(W_jh, (num_hid_node,1,num_op_node)), axis=2)    \n",
    "    a = np.ones((num_in_node, num_hid_node))*np.reshape(gam, (1,num_hid_node))\n",
    "    b = np.ones((num_in_node, num_hid_node))*np.reshape(Sd_Zh, (1,num_hid_node))\n",
    "    c = np.ones((num_in_node, num_hid_node))*np.reshape(X, (1,num_in_node))\n",
    "    W_hi = W_hi - eta*np.reshape(a*b*c, (num_in_node,num_hid_node))\n",
    "    \n",
    "    # weight update hidden to output\n",
    "    a = np.ones((num_op_node, num_hid_node))*np.reshape(e, (1, num_op_node))\n",
    "    b = np.ones((num_op_node, num_hid_node))*np.reshape(Sd_Yj, (1, num_op_node))\n",
    "    c = np.ones((num_op_node, num_hid_node))*np.reshape(S_Zh, (1, num_hid_node))\n",
    "    W_jh = W_jh - eta*np.reshape(a*b*c, (num_hid_node,num_op_node))\n",
    "\n",
    "    \n",
    "   \n",
    "    \n",
    "\n",
    "  \n",
    "    return W_jh, W_hi, b_o, b_h\n",
    "\n",
    "def sigmod_fun(X):\n",
    "    return 1/(1+np.exp(-X))\n",
    "\n",
    "def sigmod_deriv_fun(X):\n",
    "    X_sig = sigmod_fun(X)\n",
    "    Z = X_sig*(1-X_sig)\n",
    "    return Z\n"
   ]
  },
  {
   "cell_type": "code",
   "execution_count": 7,
   "metadata": {},
   "outputs": [],
   "source": [
    "def add_noise(X, d, num_data = 50):\n",
    "    num_data = num_data - X.shape[0]\n",
    "    X_data = X\n",
    "    d_data = d\n",
    "    for i in range(num_data):\n",
    "#         X_data = np.append(X_data,X+random.uniform(0,0.5),axis = 0)\n",
    "        X_data = np.append(X_data,X+np.random.uniform(0,0.3, size=(4,1)),axis = 0)\n",
    "        d_data = np.append(d_data,d,axis = 0)\n",
    "    return X_data, d_data\n",
    "\n",
    "def compute_accuracy(S_Y, d_test):\n",
    "    S_Yt = np.zeros((S_Y.shape[0], S_Y.shape[1]))\n",
    "    \n",
    "    for i in range(S_Y.shape[0]):\n",
    "        if S_Y[i] < 0.5:\n",
    "            S_Yt[i] = 0\n",
    "        else:\n",
    "            S_Yt[i] = 1\n",
    "    \n",
    "    err = abs(S_Yt-d_test)\n",
    "    err = (np.sum(err)/len(d_test))*100\n",
    "    return err\n"
   ]
  },
  {
   "cell_type": "code",
   "execution_count": 8,
   "metadata": {
    "scrolled": true
   },
   "outputs": [
    {
     "name": "stdout",
     "output_type": "stream",
     "text": [
      "training in progress..............\n",
      "training completed ...............\n"
     ]
    }
   ],
   "source": [
    "\n",
    "\n",
    "epochs = 10000\n",
    "eta = 0.1\n",
    "num_in_node, num_hid_node, num_op_node = 2,2,1\n",
    "\n",
    "# initialize weights and biases\n",
    "W_hi = np.random.uniform(size = (num_in_node,num_hid_node))\n",
    "W_jh = np.random.uniform(size = (num_hid_node,num_op_node))\n",
    "b_h = np.random.uniform(size = (1,num_hid_node))\n",
    "b_o = np.random.uniform(size = (1,num_op_node))\n",
    "\n",
    "error_epoch = np.zeros((epochs,1))\n",
    "print('training in progress..............')\n",
    "for i in range(epochs):\n",
    "    error = 0\n",
    "    for j in range(X.shape[0]):\n",
    "        Zh, Yj, S_Zh, S_Yj = forward_pass(X[j,:], W_hi, W_jh, b_h, b_o, num_in_node, num_hid_node, num_op_node)\n",
    "        W_jh, W_hi, b_o, b_h = back_propagation(X[j,:], d[j], W_hi, W_jh, Zh, S_Zh, Yj, S_Yj, b_h, b_o, eta, num_in_node, num_hid_node, num_op_node)\n",
    "        error += 0.5*(S_Yj - d[j])*(S_Yj - d[j])\n",
    "    error_epoch[i] = error\n",
    "        \n",
    "print('training completed ...............')\n",
    "        \n"
   ]
  },
  {
   "cell_type": "code",
   "execution_count": 3,
   "metadata": {},
   "outputs": [],
   "source": [
    "# plt.figure(figsize=(20, 10))\n",
    "# plt.plot(error_epoch)\n",
    "# i = 10\n",
    "# j = 15\n",
    "# print('testing on data: \\n', X_test[i:j, :], '\\n')\n",
    "# print('Actual output: \\n', d_test[i:j], '\\n')\n",
    "# Zh, Yj, S_Zh, S_Yj = forward_pass(X_test[i:j, :], W_hi, W_jh, b_h, b_o, num_in_node, num_hid_node, num_op_node)\n",
    "# print('Predicted output: \\n',S_Yj, '\\n')"
   ]
  },
  {
   "cell_type": "code",
   "execution_count": 10,
   "metadata": {},
   "outputs": [
    {
     "data": {
      "text/plain": [
       "[<matplotlib.lines.Line2D at 0x2110d12ce48>]"
      ]
     },
     "execution_count": 10,
     "metadata": {},
     "output_type": "execute_result"
    },
    {
     "data": {
      "image/png": "[encoded data removed]",
      "text/plain": [
       "<Figure size 1440x720 with 1 Axes>"
      ]
     },
     "metadata": {
      "needs_background": "light"
     },
     "output_type": "display_data"
    }
   ],
   "source": [
    "Zh, Yj, S_Zh, S_Yj = forward_pass(X_test, W_hi, W_jh, b_h, b_o, num_in_node, num_hid_node, num_op_node)\n",
    "plt.figure(figsize=(20, 10))\n",
    "plt.plot(d_test, 'b o' , markersize = 20)\n",
    "plt.plot(S_Yj, 'r.', markersize = 20)"
   ]
  },
  {
   "cell_type": "code",
   "execution_count": 11,
   "metadata": {},
   "outputs": [
    {
     "name": "stdout",
     "output_type": "stream",
     "text": [
      "[[0]\n",
      " [1]\n",
      " [1]\n",
      " [1]]\n",
      "[[0]\n",
      " [1]\n",
      " [1]\n",
      " [1]\n",
      " [0]\n",
      " [1]\n",
      " [1]\n",
      " [1]]\n"
     ]
    }
   ],
   "source": [
    "a =  np.array([[0],[1],[1],[1]])\n",
    "print(a)\n",
    "a = np.append(a,a,axis = 0)\n",
    "print(a)"
   ]
  },
  {
   "cell_type": "code",
   "execution_count": 1,
   "metadata": {},
   "outputs": [
    {
     "ename": "NameError",
     "evalue": "name 'np' is not defined",
     "output_type": "error",
     "traceback": [
      "\u001b[1;31m---------------------------------------------------------------------------\u001b[0m",
      "\u001b[1;31mNameError\u001b[0m                                 Traceback (most recent call last)",
      "\u001b[1;32m<ipython-input-1-ff55ce85da0e>\u001b[0m in \u001b[0;36m<module>\u001b[1;34m\u001b[0m\n\u001b[1;32m----> 1\u001b[1;33m \u001b[0mprint\u001b[0m\u001b[1;33m(\u001b[0m \u001b[0mnp\u001b[0m\u001b[1;33m.\u001b[0m\u001b[0mrandom\u001b[0m\u001b[1;33m.\u001b[0m\u001b[0muniform\u001b[0m\u001b[1;33m(\u001b[0m\u001b[1;36m0\u001b[0m\u001b[1;33m,\u001b[0m\u001b[1;36m0.5\u001b[0m\u001b[1;33m,\u001b[0m \u001b[0msize\u001b[0m\u001b[1;33m=\u001b[0m\u001b[1;33m(\u001b[0m\u001b[1;36m4\u001b[0m\u001b[1;33m,\u001b[0m\u001b[1;36m1\u001b[0m\u001b[1;33m)\u001b[0m\u001b[1;33m)\u001b[0m\u001b[1;33m)\u001b[0m\u001b[1;33m\u001b[0m\u001b[1;33m\u001b[0m\u001b[0m\n\u001b[0m",
      "\u001b[1;31mNameError\u001b[0m: name 'np' is not defined"
     ]
    }
   ],
   "source": [
    "print( np.random.uniform(0,0.5, size=(4,1)))"
   ]
  },
  {
   "cell_type": "code",
   "execution_count": 13,
   "metadata": {
    "scrolled": false
   },
   "outputs": [
    {
     "name": "stdout",
     "output_type": "stream",
     "text": [
      "(188, 2)\n"
     ]
    }
   ],
   "source": [
    "print(X_data.shape)"
   ]
  },
  {
   "cell_type": "code",
   "execution_count": 14,
   "metadata": {},
   "outputs": [
    {
     "name": "stdout",
     "output_type": "stream",
     "text": [
      "94\n"
     ]
    }
   ],
   "source": [
    "print(X.shape[0])"
   ]
  },
  {
   "cell_type": "code",
   "execution_count": 15,
   "metadata": {},
   "outputs": [
    {
     "name": "stdout",
     "output_type": "stream",
     "text": [
      "25.806451612903224\n"
     ]
    }
   ],
   "source": [
    "err = compute_accuracy(S_Yj, d_test)\n",
    "print(err)"
   ]
  },
  {
   "cell_type": "code",
   "execution_count": null,
   "metadata": {},
   "outputs": [],
   "source": []
  }
 ],
 "metadata": {
  "kernelspec": {
   "display_name": "Python 3",
   "language": "python",
   "name": "python3"
  },
  "language_info": {
   "codemirror_mode": {
    "name": "ipython",
    "version": 3
   },
   "file_extension": ".py",
   "mimetype": "text/x-python",
   "name": "python",
   "nbconvert_exporter": "python",
   "pygments_lexer": "ipython3",
   "version": "3.6.8"
  }
 },
 "nbformat": 4,
 "nbformat_minor": 2
}
