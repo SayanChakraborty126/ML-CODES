{
 "cells": [
  {
   "cell_type": "code",
   "execution_count": 1,
   "metadata": {},
   "outputs": [],
   "source": [
    "import numpy as np\n",
    "import random\n",
    "from numpy import linalg as LA\n",
    "import matplotlib.pyplot as plt\n",
    "import pandas as pd\n",
    "# %matplotlib qt"
   ]
  },
  {
   "cell_type": "markdown",
   "metadata": {},
   "source": [
    "### The backpropagation algorithm is implemented as follows:"
   ]
  },
  {
   "cell_type": "code",
   "execution_count": 2,
   "metadata": {},
   "outputs": [],
   "source": [
    "\"\"\" \n",
    "This implementation is vectorised. The update equations are taken from https://peterroelants.github.io/posts/\n",
    "neural-network-implementation-part04/#Vectorization-of-the-backpropagation-algorithm.  The update equations in the \n",
    "link mentioned are with respect to softmax activation. For this implementation the equations are modified for sigmoid\n",
    "activation.\n",
    "\"\"\"\n",
    "\"\"\" \n",
    "The update equations are mentioned as follows:\n",
    "1) Weight update from hidden to output layer: W_jh = W_jh - eta * ( S(Z)^T . {(S(Y)-d) * Sd_Y} ) \n",
    "2) Weight update from input to hidden layer: W_hi = W_hi - eta * X^T . ({(S(Y)-d) * Sd_Y} . W_jh^T * Sd_Z) \n",
    "3) Bias updates for output layer: bo = bo - eta * sum({(S(Y)-d) * Sd_Y})\n",
    "4) Bias updates for hidden layer: bh = bh - eta * sum({(S(Y)-d) * Sd_Y} . W_jh^T * Sd_Z )\n",
    "\n",
    "where, * = elementwise product, . = dot product, ()^T = transpose operation,\n",
    "eta = learning rate, Z = hidden layer activation potential, S(Z) = hidden layer activation,\n",
    "Y = output layer activation potential, S(Y) = output layer activation, Sd_Z = derivative of S(Z), \n",
    "Sd_Y = derivative of S(Y)\n",
    "\"\"\"\n",
    "\n",
    "def forward_pass(X, W_hi, W_jh, b_h, b_o, num_in_node, num_hid_node, num_op_node):\n",
    "      \n",
    "    # hidden layer\n",
    "    Z = np.dot(X, W_hi) + b_h  # hidden layer activation potential\n",
    "    S_Z = relu_fun(Z)       # hidden layer output\n",
    "    \n",
    "    # Output layer\n",
    "    Y = np.dot(S_Z, W_jh) + b_o  # output layer activation potential\n",
    "    S_Y = sigmod_fun(Y)          # output layer output\n",
    "    return Z, Y, S_Z, S_Y\n",
    "\n",
    "def back_propagation(X, d, W_hi, W_jh, Z, S_Z, Y, S_Y, b_h, b_o, eta, num_in_node, num_hid_node, num_op_node):\n",
    "    e = 2*(S_Y - d)\n",
    "    Sd_Y = relu_deriv_fun(Y) # Compute the derivative of the S(Y)\n",
    "    Sd_Z = sigmod_deriv_fun(Z) # Compute the derivative of the S(Z)\n",
    "    sc_error = e*Sd_Y          # Compute the scaled error   \n",
    "    \n",
    "    # output bias update\n",
    "    b_o = b_o - eta*np.sum(sc_error)\n",
    "    \n",
    "    # hidden bias update\n",
    "    b_h = b_h - eta*np.sum(np.dot(sc_error, W_jh.T)*Sd_Z)    \n",
    "    \n",
    "    # weight update input to hidden\n",
    "    W_hi = W_hi - eta*np.dot(X.T,(np.dot(sc_error, W_jh.T)*Sd_Z))\n",
    "    \n",
    "    # weight update hidden to output\n",
    "    W_jh = W_jh - eta * np.dot(S_Z.T,sc_error) \n",
    "\n",
    "    return W_jh, W_hi, b_o, b_h\n",
    "\n",
    "def relu_fun(X):\n",
    "    return np.maximum(X, 0)\n",
    "\n",
    "def relu_deriv_fun(X):\n",
    "    X[X<=0] = 0\n",
    "    X[X>0] = 1\n",
    "    return X\n",
    "\n",
    "def sigmod_fun(X):\n",
    "    return 1/(1+np.exp(-X))\n",
    "\n",
    "def sigmod_deriv_fun(X):\n",
    "    X_sig = sigmod_fun(X)\n",
    "    Z = X_sig*(1-X_sig)\n",
    "    return Z\n"
   ]
  },
  {
   "cell_type": "markdown",
   "metadata": {},
   "source": [
    "### Helper functions:"
   ]
  },
  {
   "cell_type": "code",
   "execution_count": 3,
   "metadata": {},
   "outputs": [],
   "source": [
    "def add_noise(X, d, num_data = 50):\n",
    "    num_data = num_data - X.shape[0]\n",
    "    X_data = X\n",
    "    d_data = d\n",
    "    for i in range(num_data):\n",
    "#         X_data = np.append(X_data,X+random.uniform(0,0.5),axis = 0)\n",
    "        X_data = np.append(X_data,X+np.random.uniform(0,0.3, size=(4,1)),axis = 0)\n",
    "        d_data = np.append(d_data,d,axis = 0)\n",
    "    return X_data, d_data\n",
    "\n",
    "def compute_accuracy(S_Y, d_test):\n",
    "    S_Y = S_Y.flatten()\n",
    "    S_Yt = np.zeros(len(S_Y))\n",
    "    S_Yt = S_Yt.flatten()\n",
    "    for i in range(S_Yt.shape[0]):\n",
    "        if S_Y[i] < 0.5:\n",
    "            S_Yt[i] = 0\n",
    "        else:\n",
    "            S_Yt[i] = 1\n",
    "    \n",
    "    err = abs(S_Yt-d_test.flatten())\n",
    "    err = (np.sum(err)/len(d_test))*100\n",
    "    return err\n"
   ]
  },
  {
   "cell_type": "code",
   "execution_count": 4,
   "metadata": {
    "scrolled": true
   },
   "outputs": [
    {
     "name": "stdout",
     "output_type": "stream",
     "text": [
      "(500, 784)\n",
      "training in progress..............\n",
      "[0.11612211]\n",
      "[0.05381509]\n",
      "[0.05381509]\n",
      "[0.05381509]\n",
      "[0.05381509]\n",
      "[0.05381509]\n",
      "[0.05381509]\n",
      "[0.05381509]\n",
      "[0.05381509]\n",
      "[0.05381509]\n",
      "[0.05381509]\n",
      "[0.05381509]\n",
      "[0.05381509]\n",
      "[0.05381509]\n",
      "[0.05381509]\n",
      "[0.05381509]\n",
      "[0.05381509]\n",
      "[0.05381509]\n",
      "[0.05381509]\n",
      "[0.05381509]\n",
      "[0.05381509]\n",
      "[0.05381509]\n",
      "[0.05381509]\n",
      "[0.05381509]\n",
      "[0.05381509]\n",
      "[0.05381509]\n",
      "[0.05381509]\n",
      "[0.05381509]\n",
      "[0.05381509]\n",
      "[0.05381509]\n",
      "[0.05381509]\n",
      "[0.05381509]\n",
      "[0.05381509]\n",
      "[0.05381509]\n",
      "[0.05381509]\n",
      "[0.05381509]\n",
      "[0.05381509]\n",
      "[0.05381509]\n",
      "[0.05381509]\n",
      "[0.05381509]\n",
      "[0.05381509]\n",
      "[0.05381509]\n",
      "[0.05381509]\n",
      "[0.05381509]\n",
      "[0.05381509]\n",
      "[0.05381509]\n",
      "[0.05381509]\n",
      "[0.05381509]\n",
      "[0.05381509]\n",
      "[0.05381509]\n",
      "[0.05381509]\n",
      "[0.05381509]\n",
      "[0.05381509]\n",
      "[0.05381509]\n",
      "[0.05381509]\n",
      "[0.05381509]\n",
      "[0.05381509]\n",
      "[0.05381509]\n",
      "[0.05381509]\n",
      "[0.05381509]\n",
      "[0.05381509]\n",
      "[0.05381509]\n",
      "[0.05381509]\n",
      "[0.05381509]\n",
      "[0.05381509]\n",
      "[0.05381509]\n",
      "[0.05381509]\n",
      "[0.05381509]\n",
      "[0.05381509]\n",
      "[0.05381509]\n",
      "[0.05381509]\n",
      "[0.05381509]\n",
      "[0.05381509]\n",
      "[0.05381509]\n",
      "[0.05381509]\n",
      "[0.05381509]\n",
      "[0.05381509]\n",
      "[0.05381509]\n",
      "[0.05381509]\n",
      "[0.05381509]\n",
      "[0.05381509]\n",
      "[0.05381509]\n",
      "[0.05381509]\n",
      "[0.05381509]\n",
      "[0.05381509]\n",
      "[0.05381509]\n",
      "[0.05381509]\n",
      "[0.05381509]\n",
      "[0.05381509]\n",
      "[0.05381509]\n",
      "[0.05381509]\n",
      "[0.05381509]\n",
      "[0.05381509]\n",
      "[0.05381509]\n",
      "[0.05381509]\n",
      "[0.05381509]\n",
      "[0.05381509]\n",
      "[0.05381509]\n",
      "[0.05381509]\n",
      "[0.05381509]\n",
      "training completed ...............\n"
     ]
    }
   ],
   "source": [
    "c = np.load('mnist.npz') \n",
    "X_train = c['x_train']\n",
    "Y_train = c['y_train']\n",
    "X_Data = np.reshape(X_train, (60000, 28*28) )/255\n",
    "X = X_Data[0:500,:]\n",
    "d = X\n",
    "print(X.shape)\n",
    "X_test = X_Data[501:600,:]\n",
    "d_test = X_test\n",
    "\n",
    "epochs = 100\n",
    "eta = 0.1\n",
    "num_in_node, num_hid_node, num_op_node = 28*28,int(28*28/5),28*28\n",
    "\n",
    "# initialize weights and biases\n",
    "W_hi = 0.001*np.random.uniform(size = (num_in_node,num_hid_node))\n",
    "W_jh = 0.001*np.random.uniform(size = (num_hid_node,num_op_node))\n",
    "b_h = 0.001*np.random.uniform(size = (1,num_hid_node))\n",
    "b_o = 0.001*np.random.uniform(size = (1,num_op_node))\n",
    "\n",
    "# Z, Y, S_Z, S_Y = forward_pass(X[1,:], W_hi, W_jh, b_h, b_o, num_in_node, num_hid_node, num_op_node)\n",
    "# plt.figure(figsize=(20, 10))\n",
    "# plt.imshow(np.reshape(S_Y, (28,28)), cmap = \"gray\")\n",
    "# plt.show()# back_propagation(X, d, W_hi, W_jh, Z, S_Z, Y, S_Y, b_h, b_o, eta, num_in_node, num_hid_node, num_op_node)\n",
    "\n",
    "Wo = np.zeros((num_hid_node,num_op_node))\n",
    "error_epoch = np.zeros((epochs,1))\n",
    "print('training in progress..............')\n",
    "for i in range(epochs):\n",
    "    Z, Y, S_Z, S_Y = forward_pass(X, W_hi, W_jh, b_h, b_o, num_in_node, num_hid_node, num_op_node)\n",
    "    W_jh, W_hi, b_o, b_h = back_propagation(X, d, W_hi, W_jh, Z, S_Z, Y, S_Y, b_h, b_o, eta, num_in_node, num_hid_node, num_op_node)\n",
    "    error = (0.5*(S_Y - d)*(S_Y - d)).flatten()\n",
    "    error_epoch[i] = np.sum(error)/len(error)\n",
    "    print(error_epoch[i])\n",
    "#     W_hi = 0.001*W_hi\n",
    "#     W_jh = 0.001*W_jh\n",
    "#     b_h = 0.001*b_h\n",
    "#     b_o = 0.001*b_o\n",
    "        \n",
    "print('training completed ...............')\n",
    "        \n"
   ]
  },
  {
   "cell_type": "code",
   "execution_count": 5,
   "metadata": {
    "scrolled": false
   },
   "outputs": [
    {
     "name": "stdout",
     "output_type": "stream",
     "text": [
      "(500, 784)\n",
      "Actual output: \n",
      "\n"
     ]
    },
    {
     "data": {
      "image/png": "[encoded data removed]",
      "text/plain": [
       "<Figure size 1440x720 with 1 Axes>"
      ]
     },
     "metadata": {
      "needs_background": "light"
     },
     "output_type": "display_data"
    },
    {
     "data": {
      "image/png": "[encoded data removed]",
      "text/plain": [
       "<Figure size 1440x720 with 1 Axes>"
      ]
     },
     "metadata": {
      "needs_background": "light"
     },
     "output_type": "display_data"
    },
    {
     "name": "stdout",
     "output_type": "stream",
     "text": [
      "Predicted output: \n",
      "\n"
     ]
    },
    {
     "data": {
      "image/png": "[encoded data removed]",
      "text/plain": [
       "<Figure size 1440x720 with 1 Axes>"
      ]
     },
     "metadata": {
      "needs_background": "light"
     },
     "output_type": "display_data"
    }
   ],
   "source": [
    "plt.figure(figsize=(20, 10))\n",
    "plt.plot(error_epoch)\n",
    "j = 0\n",
    "print(X.shape)\n",
    "# print('testing on data: \\n', X_test[i:j, :], '\\n')\n",
    "print('Actual output: \\n')\n",
    "plt.figure(figsize=(20, 10))\n",
    "plt.imshow(np.reshape(X[j,:]*255, (28,28)), cmap = \"gray\")\n",
    "plt.show()\n",
    "\n",
    "Z, Y, S_Z, S_Y = forward_pass(X[j, :], W_hi, W_jh, b_h, b_o, num_in_node, num_hid_node, num_op_node)\n",
    "print('Predicted output: \\n')\n",
    "plt.figure(figsize=(20, 10))\n",
    "plt.imshow(np.reshape(S_Y*255, (28,28)), cmap = \"gray\")\n",
    "plt.show()\n"
   ]
  },
  {
   "cell_type": "code",
   "execution_count": 6,
   "metadata": {},
   "outputs": [],
   "source": [
    "# Z, Y, S_Z, S_Y = forward_pass(X_test, W_hi, W_jh, b_h, b_o, num_in_node, num_hid_node, num_op_node)\n",
    "# error = compute_accuracy(S_Y, d_test)\n",
    "# print('% error =', error)\n",
    "# print('% accuracy =', 100-error)\n",
    "\n",
    "# # plt.figure(figsize=(20, 10))\n",
    "# # plt.plot(d_test, 'b o' , markersize = 20)\n",
    "# # plt.plot(S_Y, 'r.', markersize = 20)"
   ]
  },
  {
   "cell_type": "code",
   "execution_count": 7,
   "metadata": {},
   "outputs": [],
   "source": [
    "# X = np.random.random((4,4))\n",
    "# print(X)\n",
    "# X[X<=0] = 0\n",
    "# X[X>0] = 1\n",
    "# print(X)"
   ]
  },
  {
   "cell_type": "code",
   "execution_count": 8,
   "metadata": {},
   "outputs": [],
   "source": [
    "# print(np.amax(X))"
   ]
  },
  {
   "cell_type": "code",
   "execution_count": 9,
   "metadata": {},
   "outputs": [
    {
     "name": "stdout",
     "output_type": "stream",
     "text": [
      "[[0. 0. 0. 0. 0. 0. 0. 0. 0. 0. 0. 0. 0. 0. 0. 0. 0. 0. 0. 0. 0. 0. 0. 0.\n",
      "  0. 0. 0. 0. 0. 0. 0. 0. 0. 0. 0. 0. 0. 0. 0. 0. 0. 0. 0. 0. 0. 0. 0. 0.\n",
      "  0. 0. 0. 0. 0. 0. 0. 0. 0. 0. 0. 0. 0. 0. 0. 0. 0. 0. 0. 0. 0. 0. 0. 0.\n",
      "  0. 0. 0. 0. 0. 0. 0. 0. 0. 0. 0. 0. 0. 0. 0. 0. 0. 0. 0. 0. 0. 0. 0. 0.\n",
      "  0. 0. 0. 0. 0. 0. 0. 0. 0. 0. 0. 0. 0. 0. 0. 0. 0. 0. 0. 0. 0. 0. 0. 0.\n",
      "  0. 0. 0. 0. 0. 0. 0. 0. 0. 0. 0. 0. 0. 0. 0. 0. 0. 0. 0. 0. 0. 0. 0. 0.\n",
      "  0. 0. 0. 0. 0. 0. 0. 0. 0. 0. 0. 0. 0. 0. 0. 0. 0. 0. 0. 0. 0. 0. 0. 0.\n",
      "  0. 0. 0. 0. 0. 0. 0. 0. 0. 0. 0. 0. 0. 0. 0. 0. 0. 0. 0. 0. 0. 0. 0. 0.\n",
      "  0. 0. 0. 0. 0. 0. 0. 0. 0. 0. 0. 0. 0. 0. 0. 0. 0. 0. 0. 0. 0. 0. 0. 0.\n",
      "  0. 0. 0. 0. 0. 0. 0. 0. 0. 0. 0. 0. 0. 0. 0. 0. 0. 0. 0. 0. 0. 0. 0. 0.\n",
      "  0. 0. 0. 0. 0. 0. 0. 0. 0. 0. 0. 0. 0. 0. 0. 0. 0. 0. 0. 0. 0. 0. 0. 0.\n",
      "  0. 0. 0. 0. 0. 0. 0. 0. 0. 0. 0. 0. 0. 0. 0. 0. 0. 0. 0. 0. 0. 0. 0. 0.\n",
      "  0. 0. 0. 0. 0. 0. 0. 0. 0. 0. 0. 0. 0. 0. 0. 0. 0. 0. 0. 0. 0. 0. 0. 0.\n",
      "  0. 0. 0. 0. 0. 0. 0. 0. 0. 0. 0. 0. 0. 0. 0. 0. 0. 0. 0. 0. 0. 0. 0. 0.\n",
      "  0. 0. 0. 0. 0. 0. 0. 0. 0. 0. 0. 0. 0. 0. 0. 0. 0. 0. 0. 0. 0. 0. 0. 0.\n",
      "  0. 0. 0. 0. 0. 0. 0. 0. 0. 0. 0. 0. 0. 0. 0. 0. 0. 0. 0. 0. 0. 0. 0. 0.\n",
      "  0. 0. 0. 0. 0. 0. 0. 0. 0. 0. 0. 0. 0. 0. 0. 0. 0. 0. 0. 0. 0. 0. 0. 0.\n",
      "  0. 0. 0. 0. 0. 0. 0. 0. 0. 0. 0. 0. 0. 0. 0. 0. 0. 0. 0. 0. 0. 0. 0. 0.\n",
      "  0. 0. 0. 0. 0. 0. 0. 0. 0. 0. 0. 0. 0. 0. 0. 0. 0. 0. 0. 0. 0. 0. 0. 0.\n",
      "  0. 0. 0. 0. 0. 0. 0. 0. 0. 0. 0. 0. 0. 0. 0. 0. 0. 0. 0. 0. 0. 0. 0. 0.\n",
      "  0. 0. 0. 0. 0. 0. 0. 0. 0. 0. 0. 0. 0. 0. 0. 0. 0. 0. 0. 0. 0. 0. 0. 0.\n",
      "  0. 0. 0. 0. 0. 0. 0. 0. 0. 0. 0. 0. 0. 0. 0. 0. 0. 0. 0. 0. 0. 0. 0. 0.\n",
      "  0. 0. 0. 0. 0. 0. 0. 0. 0. 0. 0. 0. 0. 0. 0. 0. 0. 0. 0. 0. 0. 0. 0. 0.\n",
      "  0. 0. 0. 0. 0. 0. 0. 0. 0. 0. 0. 0. 0. 0. 0. 0. 0. 0. 0. 0. 0. 0. 0. 0.\n",
      "  0. 0. 0. 0. 0. 0. 0. 0. 0. 0. 0. 0. 0. 0. 0. 0. 0. 0. 0. 0. 0. 0. 0. 0.\n",
      "  0. 0. 0. 0. 0. 0. 0. 0. 0. 0. 0. 0. 0. 0. 0. 0. 0. 0. 0. 0. 0. 0. 0. 0.\n",
      "  0. 0. 0. 0. 0. 0. 0. 0. 0. 0. 0. 0. 0. 0. 0. 0. 0. 0. 0. 0. 0. 0. 0. 0.\n",
      "  0. 0. 0. 0. 0. 0. 0. 0. 0. 0. 0. 0. 0. 0. 0. 0. 0. 0. 0. 0. 0. 0. 0. 0.\n",
      "  0. 0. 0. 0. 0. 0. 0. 0. 0. 0. 0. 0. 0. 0. 0. 0. 0. 0. 0. 0. 0. 0. 0. 0.\n",
      "  0. 0. 0. 0. 0. 0. 0. 0. 0. 0. 0. 0. 0. 0. 0. 0. 0. 0. 0. 0. 0. 0. 0. 0.\n",
      "  0. 0. 0. 0. 0. 0. 0. 0. 0. 0. 0. 0. 0. 0. 0. 0. 0. 0. 0. 0. 0. 0. 0. 0.\n",
      "  0. 0. 0. 0. 0. 0. 0. 0. 0. 0. 0. 0. 0. 0. 0. 0. 0. 0. 0. 0. 0. 0. 0. 0.\n",
      "  0. 0. 0. 0. 0. 0. 0. 0. 0. 0. 0. 0. 0. 0. 0. 0.]]\n"
     ]
    }
   ],
   "source": [
    "print(S_Y)"
   ]
  },
  {
   "cell_type": "code",
   "execution_count": 10,
   "metadata": {},
   "outputs": [
    {
     "name": "stdout",
     "output_type": "stream",
     "text": [
      "[[-2.32721663 -2.32745952 -2.3270743  ... -2.32606865 -2.32681582\n",
      "  -2.32718494]\n",
      " [-2.37114929 -2.37136128 -2.37054497 ... -2.36980174 -2.36992012\n",
      "  -2.37007096]\n",
      " [-2.48461245 -2.48462411 -2.48518563 ... -2.48431005 -2.4837694\n",
      "  -2.48439633]\n",
      " ...\n",
      " [-2.55311068 -2.55333022 -2.55242212 ... -2.55140881 -2.55216442\n",
      "  -2.55179087]\n",
      " [-2.67892114 -2.67976523 -2.67917568 ... -2.6784709  -2.67842104\n",
      "  -2.67864059]\n",
      " [-2.53673548 -2.53701606 -2.53652231 ... -2.53573895 -2.53632196\n",
      "  -2.53688883]]\n"
     ]
    }
   ],
   "source": [
    "print(W_jh)"
   ]
  },
  {
   "cell_type": "code",
   "execution_count": null,
   "metadata": {},
   "outputs": [],
   "source": []
  }
 ],
 "metadata": {
  "kernelspec": {
   "display_name": "Python 3",
   "language": "python",
   "name": "python3"
  },
  "language_info": {
   "codemirror_mode": {
    "name": "ipython",
    "version": 3
   },
   "file_extension": ".py",
   "mimetype": "text/x-python",
   "name": "python",
   "nbconvert_exporter": "python",
   "pygments_lexer": "ipython3",
   "version": "3.6.8"
  }
 },
 "nbformat": 4,
 "nbformat_minor": 2
}
