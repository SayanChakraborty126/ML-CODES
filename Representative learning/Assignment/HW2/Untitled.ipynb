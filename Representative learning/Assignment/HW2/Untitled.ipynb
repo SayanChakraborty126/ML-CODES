{
 "cells": [
  {
   "cell_type": "code",
   "execution_count": 1,
   "metadata": {},
   "outputs": [],
   "source": [
    "import time"
   ]
  },
  {
   "cell_type": "code",
   "execution_count": 26,
   "metadata": {},
   "outputs": [
    {
     "name": "stdout",
     "output_type": "stream",
     "text": [
      "training completed ...............\n",
      "iter =  99 , error =  [1.02156]\r"
     ]
    }
   ],
   "source": [
    "print('training completed ...............')\n",
    "for i in range (100):  \n",
    "    b = \"Loading\" + \".\" *x\n",
    "    print('iter = ', i, ', error = ', [1.02156], end = '\\r')\n",
    "    time.sleep(0.001)\n",
    "# print('training completed ...............')"
   ]
  },
  {
   "cell_type": "code",
   "execution_count": null,
   "metadata": {},
   "outputs": [],
   "source": [
    "# print('iter = ', i, 'error = ',error_epoch[i])"
   ]
  }
 ],
 "metadata": {
  "kernelspec": {
   "display_name": "Python 3",
   "language": "python",
   "name": "python3"
  },
  "language_info": {
   "codemirror_mode": {
    "name": "ipython",
    "version": 3
   },
   "file_extension": ".py",
   "mimetype": "text/x-python",
   "name": "python",
   "nbconvert_exporter": "python",
   "pygments_lexer": "ipython3",
   "version": "3.6.8"
  }
 },
 "nbformat": 4,
 "nbformat_minor": 2
}
