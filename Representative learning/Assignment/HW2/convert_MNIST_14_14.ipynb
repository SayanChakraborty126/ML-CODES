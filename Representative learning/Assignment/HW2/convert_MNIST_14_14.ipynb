{
 "cells": [
  {
   "cell_type": "code",
   "execution_count": 1,
   "metadata": {},
   "outputs": [],
   "source": [
    "import numpy as np\n",
    "import matplotlib.pyplot as plt\n",
    "from skimage.transform import resize"
   ]
  },
  {
   "cell_type": "code",
   "execution_count": 2,
   "metadata": {},
   "outputs": [],
   "source": [
    "# import time\n",
    "# for x in range (0,5):  \n",
    "#     b = \"Loading\" + \".\" * x\n",
    "#     print (b, end=\"\\r\")\n",
    "#     time.sleep(1)"
   ]
  },
  {
   "cell_type": "code",
   "execution_count": 3,
   "metadata": {},
   "outputs": [],
   "source": [
    "def image_resize(X, des_size):\n",
    "    X_new = np.zeros((X.shape[0],des_size[0],des_size[1]))\n",
    "    for i in range(X.shape[0]):\n",
    "        X_new[i,:,:] = resize(X[i,:,:], (des_size[1],des_size[1]))\n",
    "    return X_new      "
   ]
  },
  {
   "cell_type": "code",
   "execution_count": 4,
   "metadata": {},
   "outputs": [
    {
     "name": "stderr",
     "output_type": "stream",
     "text": [
      "C:\\Users\\admin\\Anaconda3\\lib\\site-packages\\skimage\\transform\\_warps.py:105: UserWarning: The default mode, 'constant', will be changed to 'reflect' in skimage 0.15.\n",
      "  warn(\"The default mode, 'constant', will be changed to 'reflect' in \"\n",
      "C:\\Users\\admin\\Anaconda3\\lib\\site-packages\\skimage\\transform\\_warps.py:110: UserWarning: Anti-aliasing will be enabled by default in skimage 0.15 to avoid aliasing artifacts when down-sampling images.\n",
      "  warn(\"Anti-aliasing will be enabled by default in skimage 0.15 to \"\n"
     ]
    }
   ],
   "source": [
    "c = np.load('mnist.npz')\n",
    "des_size = np.array([20,20])\n",
    "size = des_size[0]*des_size[1]\n",
    "X_train = c['x_train']\n",
    "X_train = image_resize(X_train, des_size)\n",
    "y_train = c['y_train']\n",
    "X_test = c['x_test']\n",
    "X_test = image_resize(X_test, des_size)\n",
    "y_test = c['y_test']\n",
    "\n",
    "# print(X_train.shape,'',Y_train.shape,'',X_test.shape,'',Y_test.shape)\n",
    "# X_train = np.reshape(X_train, (X_train.shape[0], 14*14) )\n",
    "# Y_train = np.reshape(Y_train, (Y_train.shape[0],) )\n",
    "# X_test = np.reshape(X_test, (X_test.shape[0], 14*14) )\n",
    "# Y_test = np.reshape(Y_test, (Y_test.shape[0],) )\n",
    "# print(X_train.shape,'',Y_train.shape,'',X_test.shape,'',Y_test.shape)"
   ]
  },
  {
   "cell_type": "code",
   "execution_count": 5,
   "metadata": {},
   "outputs": [
    {
     "name": "stdout",
     "output_type": "stream",
     "text": [
      "(499, 400)\n"
     ]
    }
   ],
   "source": [
    "X_train_0 = X_train[np.where(y_train == 0)[0],:][0:50]\n",
    "X_train_1 = X_train[np.where(y_train == 1)[0],:][0:50]\n",
    "X_train_2 = X_train[np.where(y_train == 2)[0],:][0:50]\n",
    "X_train_3 = X_train[np.where(y_train == 3)[0],:][0:50]\n",
    "X_train_4 = X_train[np.where(y_train == 4)[0],:][0:50]\n",
    "X_train_5 = X_train[np.where(y_train == 5)[0],:][0:50]\n",
    "X_train_6 = X_train[np.where(y_train == 6)[0],:][0:50]\n",
    "X_train_7 = X_train[np.where(y_train == 7)[0],:][0:50]\n",
    "X_train_8 = X_train[np.where(y_train == 8)[0],:][0:50]\n",
    "X_train_9 = X_train[np.where(y_train == 9)[0],:][0:50]\n",
    "\n",
    "\n",
    "x_train = np.stack([np.reshape(X_train_0, (50, size)), np.reshape(X_train_1, (50, size)), \\\n",
    "                       np.reshape(X_train_2, (50, size)), np.reshape(X_train_3, (50, size)), \\\n",
    "                       np.reshape(X_train_4, (50, size)), np.reshape(X_train_5, (50, size)),\\\n",
    "                       np.reshape(X_train_6, (50, size)), np.reshape(X_train_7, (50, size)),\\\n",
    "                       np.reshape(X_train_8, (50, size)), np.reshape(X_train_9, (50, size)),], axis=0)\n",
    "x_train = np.reshape(x_train, (500, size))\n",
    "arr = np.linspace(start = 0, stop = 499, num = 499, dtype = int)\n",
    "np.random.shuffle(arr)\n",
    "x_train = x_train[arr, :]\n",
    "y_train = y_train[arr]\n",
    "print(x_train.shape)\n",
    "# for i in range(500):\n",
    "#     plt.imshow(np.reshape(X_train_new[i,:], (14,14)), cmap = \"gray\")\n",
    "#     plt.show()  "
   ]
  },
  {
   "cell_type": "code",
   "execution_count": 6,
   "metadata": {},
   "outputs": [
    {
     "name": "stdout",
     "output_type": "stream",
     "text": [
      "(499, 400)\n"
     ]
    }
   ],
   "source": [
    "X_test_0 = X_test[np.where(y_test == 0)[0],:][0:50]\n",
    "X_test_1 = X_test[np.where(y_test == 1)[0],:][0:50]\n",
    "X_test_2 = X_test[np.where(y_test == 2)[0],:][0:50]\n",
    "X_test_3 = X_test[np.where(y_test == 3)[0],:][0:50]\n",
    "X_test_4 = X_test[np.where(y_test == 4)[0],:][0:50]\n",
    "X_test_5 = X_test[np.where(y_test == 5)[0],:][0:50]\n",
    "X_test_6 = X_test[np.where(y_test == 6)[0],:][0:50]\n",
    "X_test_7 = X_test[np.where(y_test == 7)[0],:][0:50]\n",
    "X_test_8 = X_test[np.where(y_test == 8)[0],:][0:50]\n",
    "X_test_9 = X_test[np.where(y_test == 9)[0],:][0:50]\n",
    "\n",
    "\n",
    "x_test = np.stack([np.reshape(X_test_0, (50, size)), np.reshape(X_test_1, (50, size)), \\\n",
    "                       np.reshape(X_test_2, (50, size)), np.reshape(X_test_3, (50, size)), \\\n",
    "                       np.reshape(X_test_4, (50, size)), np.reshape(X_test_5, (50, size)),\\\n",
    "                       np.reshape(X_test_6, (50, size)), np.reshape(X_test_7, (50, size)),\\\n",
    "                       np.reshape(X_test_8, (50, size)), np.reshape(X_test_9, (50, size)),], axis=0)\n",
    "x_test = np.reshape(x_test, (500, size))\n",
    "arr = np.linspace(start = 0, stop = 499, num = 499, dtype = int)\n",
    "np.random.shuffle(arr)\n",
    "x_test = x_test[arr, :]\n",
    "y_test = y_test[arr]\n",
    "print(x_test.shape)\n",
    "# for i in range(500):\n",
    "#     plt.imshow(np.reshape(X_train_new[i,:], (14,14)), cmap = \"gray\")\n",
    "#     plt.show()  "
   ]
  },
  {
   "cell_type": "code",
   "execution_count": 7,
   "metadata": {},
   "outputs": [],
   "source": [
    "np.savez('mnist_20_20.npz', x_train = x_train, y_train = y_train, x_test = x_test, y_test = y_test) "
   ]
  },
  {
   "cell_type": "code",
   "execution_count": 12,
   "metadata": {
    "scrolled": true
   },
   "outputs": [
    {
     "name": "stdout",
     "output_type": "stream",
     "text": [
      "[0.0000000e+00 0.0000000e+00 0.0000000e+00 0.0000000e+00 0.0000000e+00\n",
      " 0.0000000e+00 0.0000000e+00 0.0000000e+00 0.0000000e+00 0.0000000e+00\n",
      " 0.0000000e+00 0.0000000e+00 0.0000000e+00 0.0000000e+00 0.0000000e+00\n",
      " 0.0000000e+00 0.0000000e+00 0.0000000e+00 0.0000000e+00 0.0000000e+00\n",
      " 0.0000000e+00 0.0000000e+00 0.0000000e+00 0.0000000e+00 0.0000000e+00\n",
      " 0.0000000e+00 0.0000000e+00 0.0000000e+00 0.0000000e+00 0.0000000e+00\n",
      " 0.0000000e+00 1.3680000e+01 1.3320000e+02 8.1000000e+01 0.0000000e+00\n",
      " 0.0000000e+00 0.0000000e+00 0.0000000e+00 0.0000000e+00 0.0000000e+00\n",
      " 0.0000000e+00 0.0000000e+00 0.0000000e+00 0.0000000e+00 0.0000000e+00\n",
      " 0.0000000e+00 0.0000000e+00 0.0000000e+00 0.0000000e+00 0.0000000e+00\n",
      " 2.9400000e+01 1.9920000e+02 2.5200000e+02 1.0560000e+02 0.0000000e+00\n",
      " 0.0000000e+00 0.0000000e+00 0.0000000e+00 0.0000000e+00 0.0000000e+00\n",
      " 0.0000000e+00 0.0000000e+00 0.0000000e+00 0.0000000e+00 0.0000000e+00\n",
      " 0.0000000e+00 0.0000000e+00 0.0000000e+00 6.0800000e+00 7.1040000e+01\n",
      " 2.2580000e+02 2.2000000e+02 1.5080000e+02 6.8400000e+00 0.0000000e+00\n",
      " 0.0000000e+00 0.0000000e+00 0.0000000e+00 0.0000000e+00 0.0000000e+00\n",
      " 0.0000000e+00 0.0000000e+00 0.0000000e+00 0.0000000e+00 0.0000000e+00\n",
      " 0.0000000e+00 0.0000000e+00 0.0000000e+00 2.1280000e+01 2.0040000e+02\n",
      " 2.5220000e+02 1.5796000e+02 1.3000000e+01 0.0000000e+00 0.0000000e+00\n",
      " 0.0000000e+00 0.0000000e+00 0.0000000e+00 0.0000000e+00 0.0000000e+00\n",
      " 0.0000000e+00 0.0000000e+00 0.0000000e+00 0.0000000e+00 0.0000000e+00\n",
      " 0.0000000e+00 0.0000000e+00 0.0000000e+00 1.2516000e+02 2.3616000e+02\n",
      " 1.7888000e+02 2.5280000e+01 0.0000000e+00 0.0000000e+00 0.0000000e+00\n",
      " 0.0000000e+00 0.0000000e+00 0.0000000e+00 0.0000000e+00 0.0000000e+00\n",
      " 0.0000000e+00 0.0000000e+00 0.0000000e+00 0.0000000e+00 0.0000000e+00\n",
      " 0.0000000e+00 0.0000000e+00 1.1880000e+02 2.1312000e+02 1.2160000e+02\n",
      " 8.6400000e+00 0.0000000e+00 0.0000000e+00 0.0000000e+00 0.0000000e+00\n",
      " 0.0000000e+00 0.0000000e+00 0.0000000e+00 0.0000000e+00 0.0000000e+00\n",
      " 0.0000000e+00 0.0000000e+00 0.0000000e+00 0.0000000e+00 0.0000000e+00\n",
      " 0.0000000e+00 4.7400000e+01 2.5300000e+02 2.0520000e+02 4.9400000e+01\n",
      " 0.0000000e+00 0.0000000e+00 0.0000000e+00 0.0000000e+00 0.0000000e+00\n",
      " 0.0000000e+00 0.0000000e+00 0.0000000e+00 0.0000000e+00 0.0000000e+00\n",
      " 0.0000000e+00 0.0000000e+00 0.0000000e+00 0.0000000e+00 0.0000000e+00\n",
      " 2.9600000e+00 1.0216000e+02 2.5380000e+02 1.8872000e+02 1.8640000e+01\n",
      " 9.1200000e+00 4.5360000e+01 1.5540000e+02 1.8520000e+02 1.1864000e+02\n",
      " 8.6400000e+00 0.0000000e+00 0.0000000e+00 0.0000000e+00 0.0000000e+00\n",
      " 0.0000000e+00 0.0000000e+00 0.0000000e+00 0.0000000e+00 0.0000000e+00\n",
      " 1.2680000e+01 1.6924000e+02 2.5340000e+02 1.5372000e+02 8.1600000e+00\n",
      " 6.3120000e+01 1.9932000e+02 2.4600000e+02 2.3524000e+02 2.4708000e+02\n",
      " 1.3664000e+02 9.9200000e+00 0.0000000e+00 0.0000000e+00 0.0000000e+00\n",
      " 0.0000000e+00 0.0000000e+00 0.0000000e+00 0.0000000e+00 0.0000000e+00\n",
      " 4.7520000e+01 2.0624000e+02 2.0760000e+02 6.4240000e+01 5.3720000e+01\n",
      " 1.9600000e+02 2.2976000e+02 1.3260000e+02 6.6160000e+01 2.1900000e+02\n",
      " 1.6560000e+02 9.9200000e+00 0.0000000e+00 0.0000000e+00 0.0000000e+00\n",
      " 0.0000000e+00 0.0000000e+00 0.0000000e+00 0.0000000e+00 0.0000000e+00\n",
      " 1.3088000e+02 2.5200000e+02 5.0400000e+01 5.0960000e+01 2.0340000e+02\n",
      " 2.2836000e+02 8.9040000e+01 3.7000000e+01 1.9616000e+02 1.9144000e+02\n",
      " 4.7360000e+01 0.0000000e+00 0.0000000e+00 0.0000000e+00 0.0000000e+00\n",
      " 0.0000000e+00 0.0000000e+00 0.0000000e+00 0.0000000e+00 0.0000000e+00\n",
      " 1.5860000e+02 2.0560000e+02 3.0908609e-13 1.2040000e+02 2.4820000e+02\n",
      " 8.9600000e+01 2.2800000e+01 2.2200000e+02 1.9660000e+02 2.2400000e+01\n",
      " 0.0000000e+00 0.0000000e+00 0.0000000e+00 0.0000000e+00 0.0000000e+00\n",
      " 0.0000000e+00 0.0000000e+00 0.0000000e+00 0.0000000e+00 0.0000000e+00\n",
      " 1.3344000e+02 2.2356000e+02 2.2800000e+01 1.3512000e+02 2.4804000e+02\n",
      " 2.0384000e+02 2.3488000e+02 1.5020000e+02 1.2600000e+01 1.4400000e+00\n",
      " 0.0000000e+00 0.0000000e+00 0.0000000e+00 0.0000000e+00 0.0000000e+00\n",
      " 0.0000000e+00 0.0000000e+00 0.0000000e+00 0.0000000e+00 0.0000000e+00\n",
      " 9.0560000e+01 2.4880000e+02 2.1380000e+02 2.3328000e+02 2.5152000e+02\n",
      " 2.5012000e+02 1.9604000e+02 1.4800000e+01 0.0000000e+00 0.0000000e+00\n",
      " 0.0000000e+00 0.0000000e+00 0.0000000e+00 0.0000000e+00 0.0000000e+00\n",
      " 0.0000000e+00 0.0000000e+00 0.0000000e+00 0.0000000e+00 0.0000000e+00\n",
      " 1.2000000e+01 1.1472000e+02 2.0240000e+02 2.0160000e+02 1.4080000e+02\n",
      " 8.1760000e+01 2.0160000e+01 0.0000000e+00 0.0000000e+00 0.0000000e+00\n",
      " 0.0000000e+00 0.0000000e+00 0.0000000e+00 0.0000000e+00 0.0000000e+00\n",
      " 0.0000000e+00 0.0000000e+00 0.0000000e+00 0.0000000e+00 0.0000000e+00\n",
      " 0.0000000e+00 0.0000000e+00 0.0000000e+00 0.0000000e+00 0.0000000e+00\n",
      " 0.0000000e+00 0.0000000e+00 0.0000000e+00 0.0000000e+00 0.0000000e+00\n",
      " 0.0000000e+00 0.0000000e+00 0.0000000e+00 0.0000000e+00 0.0000000e+00\n",
      " 0.0000000e+00 0.0000000e+00 0.0000000e+00 0.0000000e+00 0.0000000e+00\n",
      " 0.0000000e+00 0.0000000e+00 0.0000000e+00 0.0000000e+00 0.0000000e+00\n",
      " 0.0000000e+00 0.0000000e+00 0.0000000e+00 0.0000000e+00 0.0000000e+00\n",
      " 0.0000000e+00 0.0000000e+00 0.0000000e+00 0.0000000e+00 0.0000000e+00\n",
      " 0.0000000e+00 0.0000000e+00 0.0000000e+00 0.0000000e+00 0.0000000e+00\n",
      " 0.0000000e+00 0.0000000e+00 0.0000000e+00 0.0000000e+00 0.0000000e+00\n",
      " 0.0000000e+00 0.0000000e+00 0.0000000e+00 0.0000000e+00 0.0000000e+00\n",
      " 0.0000000e+00 0.0000000e+00 0.0000000e+00 0.0000000e+00 0.0000000e+00\n",
      " 0.0000000e+00 0.0000000e+00 0.0000000e+00 0.0000000e+00 0.0000000e+00\n",
      " 0.0000000e+00 0.0000000e+00 0.0000000e+00 0.0000000e+00 0.0000000e+00\n",
      " 0.0000000e+00 0.0000000e+00 0.0000000e+00 0.0000000e+00 0.0000000e+00\n",
      " 0.0000000e+00 0.0000000e+00 0.0000000e+00 0.0000000e+00 0.0000000e+00]\n"
     ]
    }
   ],
   "source": [
    "c = np.load('mnist_20_20.npz')\n",
    "print(c['x_train'][0])"
   ]
  },
  {
   "cell_type": "code",
   "execution_count": null,
   "metadata": {},
   "outputs": [],
   "source": []
  }
 ],
 "metadata": {
  "kernelspec": {
   "display_name": "Python 3",
   "language": "python",
   "name": "python3"
  },
  "language_info": {
   "codemirror_mode": {
    "name": "ipython",
    "version": 3
   },
   "file_extension": ".py",
   "mimetype": "text/x-python",
   "name": "python",
   "nbconvert_exporter": "python",
   "pygments_lexer": "ipython3",
   "version": "3.7.1"
  }
 },
 "nbformat": 4,
 "nbformat_minor": 2
}
