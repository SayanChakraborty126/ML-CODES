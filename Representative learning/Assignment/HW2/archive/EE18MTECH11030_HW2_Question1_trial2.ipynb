{
 "cells": [
  {
   "cell_type": "code",
   "execution_count": 1,
   "metadata": {},
   "outputs": [],
   "source": [
    "import numpy as np\n",
    "import random\n",
    "from numpy import linalg as LA\n",
    "import matplotlib.pyplot as plt\n",
    "import pandas as pd\n",
    "# %matplotlib qt"
   ]
  },
  {
   "cell_type": "markdown",
   "metadata": {},
   "source": [
    "### The backpropagation algorithm is implemented as follows:"
   ]
  },
  {
   "cell_type": "code",
   "execution_count": 2,
   "metadata": {},
   "outputs": [],
   "source": [
    "def forward_pass(X, W_ih, W_hj, num_in_node, num_hid_node, num_op_node):\n",
    "      \n",
    "    # hidden layer\n",
    "    Zh = np.sum(W_ih*X, axis = 1) + 1# Activation potential\n",
    "#     print(Zh)\n",
    "    S_Zh = sigmod_fun(Zh)                                        # Activation\n",
    "\n",
    "    # Output layer\n",
    "    Yj = np.sum( W_hj*S_Zh, axis = 0 ) + 1 # Activation potential\n",
    "    S_Yj = sigmod_fun(Yj)                                              # Activation\n",
    "    \n",
    "    return Zh, Yj, S_Zh, S_Yj\n",
    "\n",
    "def back_propagation(X, d, W_ih, W_hj, Zh, Yj, S_Zh, S_Yj, eta, num_in_node, num_hid_node, num_op_node, e):\n",
    "#     error = 0.5*np.sum((S_Yj - d)*(S_Yj - d))r\n",
    "#     e = (S_Yj - d)\n",
    "    Sd_Yj = sigmod_deriv_fun(Yj)\n",
    "    Sd_Zh = sigmod_deriv_fun(Zh)\n",
    "    a = np.ones((num_hid_node, num_op_node))*np.reshape(e,(num_op_node,1))\n",
    "    b = np.ones((num_hid_node, num_op_node))*np.reshape(Sd_Yj, (num_op_node,1) )\n",
    "    c = np.ones((num_hid_node, num_op_node))*np.reshape(S_Zh, (num_hid_node,1))\n",
    "    \n",
    "    # weight update hidden to output\n",
    "    W_hj = np.reshape(W_hj, (num_hid_node,num_op_node)) + eta*(a*b*c)\n",
    "    \n",
    "    # weight update input to hidden\n",
    "    gam = np.sum(e*Sd_Yj*np.reshape(W_hj, (num_hid_node,1,num_op_node)), axis=2)\n",
    "    a = np.ones((num_hid_node, num_op_node))*np.reshape(gam, (1,num_hid_node))\n",
    "    b = np.ones((num_hid_node, num_op_node))*Sd_Zh\n",
    "    c = np.ones((num_hid_node, num_op_node))*X\n",
    "    W_ih = W_ih + eta*(a*b*c)\n",
    "    \n",
    "    return W_hj, W_ih\n",
    "\n",
    "def sigmod_fun(X):\n",
    "    return 1/(1+np.exp(-X))\n",
    "\n",
    "def sigmod_deriv_fun(X):\n",
    "    X_sig = sigmod_fun(X)\n",
    "    Z = X_sig*(1-X_sig)\n",
    "    return Z\n"
   ]
  },
  {
   "cell_type": "code",
   "execution_count": 4,
   "metadata": {
    "scrolled": false
   },
   "outputs": [],
   "source": [
    "X = np.array([[0,0],[0,1],[1,0],[1,1]])\n",
    "d = np.array([[0],[1],[1],[0]])\n",
    "num_in_node = 2\n",
    "num_hid_node = 2\n",
    "num_op_node = 1\n",
    "num_ips = 4\n",
    "epochs = 10000\n",
    "W_ih = np.random.random((num_in_node, num_hid_node))\n",
    "W_hj = np.random.random((num_hid_node, num_op_node))\n",
    "W_hj = np.reshape(W_hj, (num_hid_node,))\n",
    "eta = 0.1\n",
    "error = 0\n",
    "for i in range(epochs):\n",
    "    for j in range(num_ips):\n",
    "        Zh, Yj, S_Zh, S_Yj =  forward_pass(X[j,:], W_ih, W_hj, num_in_node, num_hid_node, num_op_node)\n",
    "        error += (S_Yj - d[j])\n",
    "        \n",
    "        \n",
    "    W_hj, W_ih = back_propagation(X[j,:], d[j], W_ih, W_hj, Zh, Yj, S_Zh, S_Yj, eta, num_in_node, num_hid_node, num_op_node, error)\n",
    "    W_hj = np.reshape(W_hj, (num_hid_node,))\n",
    "     \n",
    "        \n",
    "\n",
    "    "
   ]
  },
  {
   "cell_type": "code",
   "execution_count": 7,
   "metadata": {},
   "outputs": [
    {
     "name": "stdout",
     "output_type": "stream",
     "text": [
      "[11820.82889956]\n",
      "0.9999999972501292\n"
     ]
    }
   ],
   "source": [
    "print(error)\n",
    "Zh, Yj, S_Zh, S_Yj =  forward_pass(X[0,:], W_ih, W_hj, num_in_node, num_hid_node, num_op_node)\n",
    "print(S_Yj)"
   ]
  },
  {
   "cell_type": "code",
   "execution_count": 5,
   "metadata": {},
   "outputs": [
    {
     "name": "stdout",
     "output_type": "stream",
     "text": [
      "[[0 0]\n",
      " [2 4]\n",
      " [1 3]\n",
      " [3 7]]\n"
     ]
    }
   ],
   "source": [
    "A = np.array([[1,2], [3,4]])\n",
    "B = np.array([[0,0],[0,1],[1,0],[1,1]])\n",
    "C = np.dot(B,A.T)\n",
    "print(C)"
   ]
  },
  {
   "cell_type": "code",
   "execution_count": null,
   "metadata": {},
   "outputs": [],
   "source": []
  }
 ],
 "metadata": {
  "kernelspec": {
   "display_name": "Python 3",
   "language": "python",
   "name": "python3"
  },
  "language_info": {
   "codemirror_mode": {
    "name": "ipython",
    "version": 3
   },
   "file_extension": ".py",
   "mimetype": "text/x-python",
   "name": "python",
   "nbconvert_exporter": "python",
   "pygments_lexer": "ipython3",
   "version": "3.7.1"
  }
 },
 "nbformat": 4,
 "nbformat_minor": 2
}
