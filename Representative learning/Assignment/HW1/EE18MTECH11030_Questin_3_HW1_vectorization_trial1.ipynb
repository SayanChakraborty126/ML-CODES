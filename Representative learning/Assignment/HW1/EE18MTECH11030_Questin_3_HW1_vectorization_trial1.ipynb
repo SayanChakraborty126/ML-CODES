{
 "cells": [
  {
   "cell_type": "markdown",
   "metadata": {},
   "source": [
    "## Question 3, HW1 :\n",
    "## Submitted by: Sayan Chakraborty, EE18MTECH11030"
   ]
  },
  {
   "cell_type": "code",
   "execution_count": 10,
   "metadata": {},
   "outputs": [],
   "source": [
    "from scipy.stats import multivariate_normal as mult_gauss\n",
    "import numpy as np\n",
    "import random\n",
    "from numpy import linalg as LA\n",
    "import sklearn as sklearn\n",
    "import matplotlib.pyplot as plt\n",
    "from mpl_toolkits import mplot3d\n",
    "from pylab import *\n",
    "from sklearn.cluster import KMeans\n",
    "# %matplotlib qt"
   ]
  },
  {
   "cell_type": "markdown",
   "metadata": {},
   "source": [
    "## The Expectation Maximization algorithm for a Gaussian mixture model is implemented as follows:"
   ]
  },
  {
   "cell_type": "code",
   "execution_count": 11,
   "metadata": {},
   "outputs": [],
   "source": [
    "class EM_Gaussian_Misture(object):\n",
    "    \n",
    "    def __init__(self, X_data, K, tol):\n",
    "        self.X_Data = X_data                       # X_data has dimension in the rows and observations in the coloumns\n",
    "        self.K = K                                 # Mixture size\n",
    "        self.d, self.N = self.X_Data.shape              # find the shape of the data\n",
    "        self.gam = np.zeros((self.N,self.K))            # initialize all gammas as zero\n",
    "        \n",
    "        kmeans = KMeans(n_clusters=self.K, random_state=1).fit(self.X_Data.T)\n",
    "        lables = kmeans.labels_\n",
    "        unique, counts = np.unique(lables, return_counts=True)\n",
    "        \n",
    "#         self.pi = np.random.uniform(0,1,self.K)         # initialize the contributions\n",
    "#         self.mu = np.random.random((self.d,self.K))     # initialize the means\n",
    "\n",
    "        self.pi = np.array(counts)/self.N                 # initialize the contributions\n",
    "        self.mu = np.array(kmeans.cluster_centers_).T     # initialize the means\n",
    "        self.sigma =  np.array([np.eye(self.d)]*self.K) # initialize the covariances\n",
    "        self.tol = tol\n",
    "        \n",
    "\n",
    "    def E_step(self):  # compute the posteriori probabilities\n",
    "        \n",
    "        \n",
    "        self.gam = [(self.pi[j]*mult_gauss.pdf(self.X_Data.T, self.mu[:,j], self.sigma[j,:,:]))\n",
    "            for j in range(K)]\n",
    "        self.gam = np.array(self.gam)\n",
    "        \n",
    "        sumd = self.gam.sum(0)     # to find the denominatior sum over all k's for a n in N\n",
    "        self.gam = self.gam/sumd   # find the posterior probabilities  \n",
    "        \n",
    "        return self.gam.T \n",
    "    \n",
    "\n",
    "    def M_step(self):\n",
    "        self.gam = self.E_step()  # get the gammas \n",
    "        N_k = self.gam.sum(0)    # compute Nk by summing all the rows of gamma\n",
    "        \n",
    "        self.pi = N_k/self.N     # compute pi\n",
    "        \n",
    "        self.mu = np.dot(self.gam.T, self.X_Data.T)\n",
    "        self.mu = self.mu.T/N_k  # compute mu       \n",
    "        \n",
    "        for j in range(self.K):                    # compute sigma\n",
    "            dum = self.X_Data - np.reshape(self.mu[:,j], (self.d,1))\n",
    "            dum = dum.T\n",
    "            self.sigma[j,:,:] = ((np.reshape(self.gam[:,j],(self.N,1,1))*(reshape(dum,(self.N,self.d,1))*reshape(dum,(self.N,1,self.d)))).sum(0))/N_k[j]\n",
    "      \n",
    "        \n",
    "        return self.pi, self.gam, self.mu, self.sigma\n",
    "    \n",
    "\n",
    "    def EM_Gauss(self):  # to compute log-likelihood and check convergence\n",
    "        error = 10\n",
    "        l_old = 0\n",
    "        iter = 0\n",
    "        while error>self.tol:\n",
    "                        \n",
    "            self.pi, self.gam, self.mu, self.sigma = self.M_step()\n",
    "            l_new = 0\n",
    "            \n",
    "            dum = [(self.pi[j]*mult_gauss.pdf(self.X_Data.T, self.mu[:,j], self.sigma[j,:,:]))\n",
    "               for j in range(K)]\n",
    "            dum = np.array(dum)\n",
    "            l_new = np.log(dum.sum(0)).sum()\n",
    "\n",
    "            error = abs(l_new-l_old)\n",
    "            l_old = l_new        \n",
    "#             print('iter =', iter, ', error = ', error)\n",
    "#             iter += 1\n",
    "        return np.array(self.pi), np.array(self.mu), np.array(self.sigma)"
   ]
  },
  {
   "cell_type": "markdown",
   "metadata": {},
   "source": [
    "## Generate data"
   ]
  },
  {
   "cell_type": "code",
   "execution_count": 12,
   "metadata": {},
   "outputs": [],
   "source": [
    "# def generate_data(generators, N, pi):\n",
    "def generate_data():\n",
    "    \n",
    "    print('\\n ----------------- Input the following for Data generation only -------------------- \\n')\n",
    "    print('Input number of observations (N)')\n",
    "    N = int(input())\n",
    "    print('Input the mixture size (K)')\n",
    "    K = int(input())\n",
    "    print('Input data dimension (d)')\n",
    "    d = int(input())\n",
    "\n",
    "    pi_org = np.random.uniform(0,1,K) \n",
    "    pi_org = pi_org/pi_org.sum()\n",
    "    mu_org = 40*np.random.random((K, d, 1))\n",
    "    dum = np.reshape([np.random.randint(1,15) for i in range(K)], (K,1,1))\n",
    "    sigma_org = dum*np.array([np.eye(d)]*K)\n",
    "\n",
    "    print('\\n ----------------- The original parametrs are ----------------- \\n')\n",
    "    print('pi_org = \\n', pi_org, '\\n')\n",
    "    print('mu_org = \\n', mu_org, '\\n')\n",
    "    print('sigma_org = \\n', sigma_org, '\\n')\n",
    "\n",
    "    generators = [mult_gauss( np.reshape(mu_org[i], (d,)), np.reshape(sigma_org[i],(d,d))) for i in range(K)]\n",
    "#     Data, mixture_info =  generate_data(generators, N, np.array(pi_org))\n",
    "    \n",
    "    draw = np.random.choice([i for i in range(len(generators))], N, p=np.array(pi_org).tolist())\n",
    "    unique, counts = np.unique(draw, return_counts=True)\n",
    "    \n",
    "    mixture_info = (dict(zip(unique, counts)))\n",
    "    \n",
    "    X_Data = [np.array(generators[i].rvs()) for i in draw]\n",
    "    X_Data = np.array(X_Data)\n",
    "    return X_Data.T, mixture_info, pi_org, mu_org, sigma_org\n",
    "\n",
    "def ploting(X_Data):\n",
    "\n",
    "    if X_Data.shape[1] == 2:\n",
    "        plt.figure(figsize=(20, 10))\n",
    "        fig, ax = plt.subplots(num=1, clear=True)\n",
    "        handle = ax.plot(X_Data[:,0], X_Data[:,1], '.')\n",
    "        plt.axis('equal')\n",
    "#         plt.show()\n",
    "        \n",
    "    elif X_Data.shape[1] == 3:\n",
    "        plt.figure(figsize=(20, 10))\n",
    "        fig = plt.figure()\n",
    "        ax = plt.axes(projection='3d')\n",
    "        ax.plot3D(X_Data[:,0], X_Data[:,1], X_Data[:,2], '.')\n",
    "        \n",
    "    else:\n",
    "        print(\"Can't plot dimension > 3 !!!\")\n",
    "\n",
    "    return None"
   ]
  },
  {
   "cell_type": "markdown",
   "metadata": {},
   "source": [
    "## Estimate the parametrs"
   ]
  },
  {
   "cell_type": "code",
   "execution_count": 13,
   "metadata": {
    "scrolled": false
   },
   "outputs": [
    {
     "name": "stdout",
     "output_type": "stream",
     "text": [
      "\n",
      " ----------------- Input the following for Data generation only -------------------- \n",
      "\n",
      "Input number of observations (N)\n",
      "10000\n",
      "Input the mixture size (K)\n",
      "3\n",
      "Input data dimension (d)\n",
      "3\n",
      "\n",
      " ----------------- The original parametrs are ----------------- \n",
      "\n",
      "pi_org = \n",
      " [0.19517505 0.66186183 0.14296312] \n",
      "\n",
      "mu_org = \n",
      " [[[38.58972004]\n",
      "  [ 2.5364772 ]\n",
      "  [ 8.6376528 ]]\n",
      "\n",
      " [[32.48846351]\n",
      "  [17.14945246]\n",
      "  [13.68281754]]\n",
      "\n",
      " [[37.13091613]\n",
      "  [27.77172779]\n",
      "  [ 1.94505122]]] \n",
      "\n",
      "sigma_org = \n",
      " [[[ 3.  0.  0.]\n",
      "  [ 0.  3.  0.]\n",
      "  [ 0.  0.  3.]]\n",
      "\n",
      " [[13.  0.  0.]\n",
      "  [ 0. 13.  0.]\n",
      "  [ 0.  0. 13.]]\n",
      "\n",
      " [[ 2.  0.  0.]\n",
      "  [ 0.  2.  0.]\n",
      "  [ 0.  0.  2.]]] \n",
      "\n",
      "\n",
      " ----------------- Input the following for estmation ----------------- \n",
      "\n",
      "Input the mixture size (K)\n",
      "3\n",
      "\n",
      " ----------------- The converged parametrs are ----------------- \n",
      "\n",
      "pi_hat = \n",
      " [0.65787085 0.19903315 0.143096  ] \n",
      "\n",
      "mu_hat = \n",
      " [[32.44042052 38.6479356  37.11258034]\n",
      " [17.19813808  2.58238851 27.71011121]\n",
      " [13.73191155  8.6080349   1.94479744]] \n",
      "\n",
      "Sigma_hat = \n",
      " [[[ 1.27985657e+01 -1.44965580e-01  2.95031551e-01]\n",
      "  [-1.44965580e-01  1.30873445e+01 -1.17719087e-01]\n",
      "  [ 2.95031551e-01 -1.17719087e-01  1.31097480e+01]]\n",
      "\n",
      " [[ 2.96969478e+00 -1.23096959e-01  1.55012542e-02]\n",
      "  [-1.23096959e-01  3.20615629e+00 -5.08583181e-02]\n",
      "  [ 1.55012542e-02 -5.08583181e-02  2.97342171e+00]]\n",
      "\n",
      " [[ 1.91577196e+00 -1.57122135e-01 -1.07904232e-02]\n",
      "  [-1.57122135e-01  2.11626554e+00 -3.68442489e-02]\n",
      "  [-1.07904232e-02 -3.68442489e-02  1.98307239e+00]]] \n",
      "\n"
     ]
    }
   ],
   "source": [
    "Data, mixture_info, pi_org, mu_org, sigma_org = generate_data()\n",
    "\n",
    "print('Input the mixture size (K)')\n",
    "K = int(input())\n",
    "\n",
    "X_Data = Data\n",
    "d, N = X_Data.shape\n",
    "print('\\n ----------------- Input the following for estmation ----------------- \\n')\n",
    "\n",
    "\n",
    "tol = 0.000001\n",
    "obj = EM_Gaussian_Misture(X_Data, K, tol)\n",
    "pi_hat, mu_hat, sigma_hat = obj.EM_Gauss()\n",
    "\n",
    "print('\\n ----------------- The converged parametrs are ----------------- \\n')\n",
    "print('pi_hat = \\n', pi_hat, '\\n')\n",
    "print('mu_hat = \\n', mu_hat, '\\n')\n",
    "print('Sigma_hat = \\n', sigma_hat, '\\n')"
   ]
  },
  {
   "cell_type": "markdown",
   "metadata": {},
   "source": [
    "## Validate, visualize, and compare with the original data:\n"
   ]
  },
  {
   "cell_type": "code",
   "execution_count": 14,
   "metadata": {},
   "outputs": [],
   "source": [
    "generators_hat = [ mult_gauss(mu_hat[:,i], sigma_hat[i,:,:]) for i in range(K) ]\n",
    "# X_Data_hat, mixture_info_hat =  generate_data(generators_hat, N, pi_hat)\n",
    "draw_hat = np.random.choice([i for i in range(len(generators_hat))], N, p=np.array(pi_hat).tolist())\n",
    "unique_hat, counts_hat = np.unique(draw_hat, return_counts=True)\n",
    "mixture_info_hat = (dict(zip(unique_hat, counts_hat)))\n",
    "X_Data_hat = [np.array(generators_hat[i].rvs()) for i in draw_hat]\n",
    "X_Data_hat = np.array(X_Data_hat)\n"
   ]
  },
  {
   "cell_type": "markdown",
   "metadata": {},
   "source": [
    "### 1. Check if the Covarinaces are symmetric and positive definite:"
   ]
  },
  {
   "cell_type": "code",
   "execution_count": 15,
   "metadata": {},
   "outputs": [
    {
     "name": "stdout",
     "output_type": "stream",
     "text": [
      "(3, 3, 3)\n",
      "Sigma_hat_0 = \n",
      " [[12.79856571 -0.14496558  0.29503155]\n",
      " [-0.14496558 13.08734451 -0.11771909]\n",
      " [ 0.29503155 -0.11771909 13.10974797]]  \n",
      " Eignevalues of Sigma_hat_0 = [12.61129324 13.39108086 12.99328409] \n",
      "\n",
      "Sigma_hat_1 = \n",
      " [[ 2.96969478 -0.12309696  0.01550125]\n",
      " [-0.12309696  3.20615629 -0.05085832]\n",
      " [ 0.01550125 -0.05085832  2.97342171]]  \n",
      " Eignevalues of Sigma_hat_1 = [3.26809166 2.91658472 2.9645964 ] \n",
      "\n",
      "Sigma_hat_2 = \n",
      " [[ 1.91577196 -0.15712213 -0.01079042]\n",
      " [-0.15712213  2.11626554 -0.03684425]\n",
      " [-0.01079042 -0.03684425  1.98307239]]  \n",
      " Eignevalues of Sigma_hat_2 = [2.20572981 1.82491396 1.98446612] \n",
      "\n"
     ]
    }
   ],
   "source": [
    "print(sigma_hat.shape)\n",
    "for i in range(sigma_hat.shape[0]):\n",
    "    ev, evec = LA.eig(sigma_hat[i,:,:])\n",
    "    print('Sigma_hat_' + str(i),'= \\n',sigma_hat[i,:,:],' \\n Eignevalues of Sigma_hat_'+str(i),'=',ev, '\\n')"
   ]
  },
  {
   "cell_type": "markdown",
   "metadata": {},
   "source": [
    "### 2. Check if the mixture size of the original data and the data generated by the estimated parameters are close:"
   ]
  },
  {
   "cell_type": "code",
   "execution_count": 16,
   "metadata": {},
   "outputs": [
    {
     "name": "stdout",
     "output_type": "stream",
     "text": [
      "mixture info of the original data: \n",
      " pi= [0.19517505 0.66186183 0.14296312] \n",
      " mixture_info =  {0: 1989, 1: 6579, 2: 1432} \n",
      "\n",
      "mixture info of the estimated data: \n",
      " pi_hat= [0.65787085 0.19903315 0.143096  ] \n",
      " mixture_info =  {0: 6624, 1: 1954, 2: 1422} \n",
      "\n"
     ]
    }
   ],
   "source": [
    "print('mixture info of the original data: \\n', 'pi=', pi_org,'\\n','mixture_info = ', mixture_info, '\\n')\n",
    "print('mixture info of the estimated data: \\n', 'pi_hat=', pi_hat,'\\n','mixture_info = ', mixture_info_hat, '\\n')\n"
   ]
  },
  {
   "cell_type": "markdown",
   "metadata": {},
   "source": [
    "### 3. Plot the original data and the data generated by the estimated parameters:"
   ]
  },
  {
   "cell_type": "markdown",
   "metadata": {},
   "source": [
    "#### Original Data:"
   ]
  },
  {
   "cell_type": "code",
   "execution_count": 17,
   "metadata": {},
   "outputs": [
    {
     "name": "stdout",
     "output_type": "stream",
     "text": [
      "[37.13091613]\n"
     ]
    },
    {
     "data": {
      "text/plain": [
       "<Figure size 1440x720 with 0 Axes>"
      ]
     },
     "metadata": {},
     "output_type": "display_data"
    },
    {
     "data": {
      "image/png": "[encoded data removed]",
      "text/plain": [
       "<Figure size 432x288 with 1 Axes>"
      ]
     },
     "metadata": {
      "needs_background": "light"
     },
     "output_type": "display_data"
    }
   ],
   "source": [
    "ploting(X_Data.T)\n",
    "print(mu_org[i][0])\n",
    "if d == 2:\n",
    "    [plt.plot(mu_org[i][0],mu_org[i][1], '.', c='r', markersize = 20) for i in range(K)]\n",
    "if d == 3:\n",
    "    [plt.plot(mu_org[i][0],mu_org[i][1],mu_org[i][2], '.', c='r', markersize = 20) for i in range(K)]\n",
    "    \n"
   ]
  },
  {
   "cell_type": "markdown",
   "metadata": {},
   "source": [
    "#### Estimated Data:"
   ]
  },
  {
   "cell_type": "code",
   "execution_count": 18,
   "metadata": {},
   "outputs": [
    {
     "data": {
      "text/plain": [
       "<Figure size 1440x720 with 0 Axes>"
      ]
     },
     "metadata": {},
     "output_type": "display_data"
    },
    {
     "data": {
      "image/png": "[encoded data removed]",
      "text/plain": [
       "<Figure size 432x288 with 1 Axes>"
      ]
     },
     "metadata": {
      "needs_background": "light"
     },
     "output_type": "display_data"
    }
   ],
   "source": [
    "ploting(X_Data_hat)\n",
    "if d == 2:\n",
    "    [plt.plot([mu_hat[0,i]],[mu_hat[1,i]], '.', c='r', markersize = 20) for i in range(K)]\n",
    "if d == 3:\n",
    "    [plt.plot([mu_hat[0,i]],[mu_hat[1,i]],[mu_hat[2,i]], '.', c='r', markersize = 20) for i in range(K)]"
   ]
  },
  {
   "cell_type": "code",
   "execution_count": null,
   "metadata": {},
   "outputs": [],
   "source": []
  }
 ],
 "metadata": {
  "kernelspec": {
   "display_name": "Python 3",
   "language": "python",
   "name": "python3"
  },
  "language_info": {
   "codemirror_mode": {
    "name": "ipython",
    "version": 3
   },
   "file_extension": ".py",
   "mimetype": "text/x-python",
   "name": "python",
   "nbconvert_exporter": "python",
   "pygments_lexer": "ipython3",
   "version": "3.6.8"
  }
 },
 "nbformat": 4,
 "nbformat_minor": 2
}
