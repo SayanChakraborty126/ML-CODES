{
 "cells": [
  {
   "cell_type": "code",
   "execution_count": 1,
   "metadata": {},
   "outputs": [],
   "source": [
    "from scipy.stats import multivariate_normal as mult_gauss\n",
    "import numpy as np\n",
    "import random\n",
    "from numpy import linalg as LA\n",
    "import sklearn as sklearn\n",
    "import matplotlib.pyplot as plt\n",
    "from mpl_toolkits import mplot3d\n",
    "from pylab import *\n",
    "from sklearn.cluster import KMeans\n",
    "# %matplotlib qt"
   ]
  },
  {
   "cell_type": "markdown",
   "metadata": {},
   "source": [
    "## The Expectation Maximization algorithm for a Gaussian mixture model is implemented as follows:"
   ]
  },
  {
   "cell_type": "code",
   "execution_count": 2,
   "metadata": {},
   "outputs": [],
   "source": [
    "class EM_Gaussian_Misture(object):\n",
    "    \n",
    "    def __init__(self, X_data, K, tol):\n",
    "        self.X_Data = X_data                       # X_data has dimension in the rows and observations in the coloumns\n",
    "        self.K = K                                 # Mixture size\n",
    "        self.d, self.N = self.X_Data.shape              # find the shape of the data\n",
    "        self.gam = np.zeros((self.N,self.K))            # initialize all gammas as zero\n",
    "        \n",
    "        kmeans = KMeans(n_clusters=self.K, random_state=1).fit(self.X_Data.T)\n",
    "        lables = kmeans.labels_\n",
    "        unique, counts = np.unique(lables, return_counts=True)\n",
    "        \n",
    "#         self.pi = np.random.uniform(0,1,self.K)         # initialize the contributions\n",
    "        self.pi = np.array(counts)/self.N\n",
    "#         self.mu = np.random.random((self.d,self.K))     # initialize the means\n",
    "        self.mu = np.array(kmeans.cluster_centers_).T\n",
    "        self.sigma =  np.array([np.eye(self.d)]*self.K) # initialize the covariances\n",
    "        self.tol = tol\n",
    "        \n",
    "\n",
    "    def E_step(self):  # compute the posteriori probabilities\n",
    "        for i in range(self.N):\n",
    "            for j in range(self.K):\n",
    "                self.gam[i,j] = self.pi[j]*mult_gauss(self.mu[:,j], self.sigma[j,:,:]).pdf(self.X_Data[:,i]) # first find the numerator for all n's in N and k's in K\n",
    "        sumd = self.gam.sum(1)     # to find the denominatior sum over all k's for a n in N\n",
    "        self.gam = self.gam.T/sumd # find the posterior probabilities  \n",
    "        return self.gam.T \n",
    "    \n",
    "    def M_step(self):\n",
    "        self.gam = self.E_step()  # get the gammas \n",
    "        N_k = self.gam.sum(0)    # compute Nk by summing all the rows of gamma\n",
    "        \n",
    "        self.pi = N_k/self.N     # compute pi\n",
    "        \n",
    "        self.mu = np.dot(self.gam.T, self.X_Data.T)\n",
    "        self.mu = self.mu.T/N_k  # compute mu       \n",
    "        \n",
    "        for i in range(self.K):                    # compute sigma\n",
    "            for j in range(self.N):\n",
    "                dum = np.reshape((self.X_Data[:,j] -  self.mu[:,i]), (self.d,1)) # compute (X_n-mu_n)\n",
    "                self.sigma[i,:,:] += self.gam[j,i]*np.dot(dum, dum.T)           # compute (X_n-mu_n)(X_n-mu_n)^T\n",
    "            self.sigma[i,:,:] = self.sigma[i,:,:]/N_k[i]  # divide sigma of each mixture by N_k to compute sigma\n",
    "        \n",
    "        return self.pi, self.gam, self.mu, self.sigma\n",
    "    \n",
    "    def EM_Gauss(self):  # to compute log-likelihood and check convergence\n",
    "        error = 10\n",
    "        l_old = 0\n",
    "        iter = 0\n",
    "        while error>self.tol:\n",
    "            \n",
    "            self.pi, self.gam, self.mu, self.sigma = self.M_step()\n",
    "\n",
    "            l_new = 0.0\n",
    "            for i in range(self.N):\n",
    "                dum = 0.0\n",
    "                for j in range(self.K):\n",
    "                    dum += self.pi[j]*mult_gauss(self.mu[:,j], self.sigma[j,:,:]).pdf(self.X_Data[:,i])\n",
    "                dum = np.log(dum)\n",
    "                l_new += dum\n",
    "\n",
    "            error = abs(l_new-l_old)\n",
    "            l_old = l_new        \n",
    "            print('iter =', iter, ', error = ', error)\n",
    "            iter += 1\n",
    "        return np.array(self.pi), np.array(self.mu), np.array(self.sigma)"
   ]
  },
  {
   "cell_type": "markdown",
   "metadata": {},
   "source": [
    "## Generate data"
   ]
  },
  {
   "cell_type": "code",
   "execution_count": 3,
   "metadata": {},
   "outputs": [],
   "source": [
    "# def generate_data(mean, cov, pii, N):\n",
    "def generate_data(generators, N, pi):\n",
    "#     X_data = np.concatenate([np.random.multivariate_normal(mu, sigma, int(pi*N))\n",
    "#                     for pi, mu, sigma in zip(pii, mean, cov)])\n",
    "    draw = np.random.choice([0, 1, 2], N, p=pi.tolist())\n",
    "    unique, counts = np.unique(draw, return_counts=True)\n",
    "    \n",
    "    mixture_info = (dict(zip(unique, counts)))\n",
    "    \n",
    "    X_Data = [np.array(generators[i].rvs()) for i in draw]\n",
    "    X_Data = np.array(X_Data)\n",
    "    return X_Data.T, mixture_info\n",
    "\n",
    "def ploting(X_Data):\n",
    "\n",
    "    if X_Data.shape[1] == 2:\n",
    "        fig, ax = plt.subplots(num=1, clear=True)\n",
    "        handle = ax.plot(X_Data[:,0], X_Data[:,1], '.')\n",
    "        plt.axis('equal')\n",
    "#         plt.show()\n",
    "        \n",
    "    elif X_Data.shape[1] == 3:\n",
    "        fig = plt.figure()\n",
    "        ax = plt.axes(projection='3d')\n",
    "        ax.plot3D(X_Data[:,0], X_Data[:,1], X_Data[:,2], '.')\n",
    "        \n",
    "    else:\n",
    "        print(\"Can't plot dimension > 3 !!!\")\n",
    "\n",
    "    return None"
   ]
  },
  {
   "cell_type": "markdown",
   "metadata": {},
   "source": [
    "## Estimate the parametrs"
   ]
  },
  {
   "cell_type": "code",
   "execution_count": 4,
   "metadata": {
    "scrolled": false
   },
   "outputs": [
    {
     "name": "stdout",
     "output_type": "stream",
     "text": [
      "iter = 0 , error =  5651.731398446278\n",
      "iter = 1 , error =  4.7593437000241465\n",
      "iter = 2 , error =  1.3538327363685312\n",
      "iter = 3 , error =  0.8139821785662207\n",
      "iter = 4 , error =  0.6301046466232947\n",
      "iter = 5 , error =  0.5237546928447046\n",
      "iter = 6 , error =  0.4444594724700437\n",
      "iter = 7 , error =  0.38052784537103435\n",
      "iter = 8 , error =  0.3281910528176013\n",
      "iter = 9 , error =  0.28541536583907146\n",
      "iter = 10 , error =  0.2506192482305778\n",
      "iter = 11 , error =  0.22244189040793572\n",
      "iter = 12 , error =  0.19971630032341636\n",
      "iter = 13 , error =  0.18146329878709366\n",
      "iter = 14 , error =  0.16687580664802226\n",
      "iter = 15 , error =  0.15529489575237676\n",
      "iter = 16 , error =  0.14618282678202377\n",
      "iter = 17 , error =  0.13909660352055653\n",
      "iter = 18 , error =  0.13366374427914707\n",
      "iter = 19 , error =  0.12956091058913444\n",
      "iter = 20 , error =  0.1264956529976189\n",
      "iter = 21 , error =  0.12419160481931613\n",
      "iter = 22 , error =  0.12237777201698918\n",
      "iter = 23 , error =  0.1207829176537416\n",
      "iter = 24 , error =  0.11913618568996753\n",
      "iter = 25 , error =  0.11717478284117533\n",
      "iter = 26 , error =  0.11465854222024063\n",
      "iter = 27 , error =  0.11138954933812784\n",
      "iter = 28 , error =  0.10723312194022583\n",
      "iter = 29 , error =  0.10213506030322606\n",
      "iter = 30 , error =  0.09613006920608314\n",
      "iter = 31 , error =  0.08933801384591789\n",
      "iter = 32 , error =  0.08194781463862455\n",
      "iter = 33 , error =  0.07419214517813089\n",
      "iter = 34 , error =  0.06631834568997874\n",
      "iter = 35 , error =  0.05856132094595523\n",
      "iter = 36 , error =  0.051122798256983515\n",
      "iter = 37 , error =  0.044159011624287814\n",
      "iter = 38 , error =  0.03777663659730024\n",
      "iter = 39 , error =  0.032035277581599075\n",
      "iter = 40 , error =  0.02695418501025415\n",
      "iter = 41 , error =  0.022520974262988602\n",
      "iter = 42 , error =  0.01870061619047192\n",
      "iter = 43 , error =  0.015443581302861276\n",
      "iter = 44 , error =  0.012692570823674032\n",
      "iter = 45 , error =  0.010387670769887336\n",
      "iter = 46 , error =  0.008470020902677788\n",
      "iter = 47 , error =  0.006884218983032042\n",
      "iter = 48 , error =  0.0055797254217395675\n",
      "iter = 49 , error =  0.004511525187808729\n",
      "iter = 50 , error =  0.0036402699897735147\n",
      "iter = 51 , error =  0.0029320794656086946\n",
      "iter = 52 , error =  0.0023581379327879404\n",
      "iter = 53 , error =  0.0018941850530609372\n",
      "iter = 54 , error =  0.001519968022876128\n",
      "iter = 55 , error =  0.0012186996546006412\n",
      "iter = 56 , error =  0.0009765491677171667\n",
      "iter = 57 , error =  0.0007821797225915361\n",
      "iter = 58 , error =  0.0006263395052883425\n",
      "iter = 59 , error =  0.0005015065371480887\n",
      "iter = 60 , error =  0.00040158502270060126\n",
      "iter = 61 , error =  0.0003216486238670768\n",
      "iter = 62 , error =  0.00025772565368242795\n",
      "iter = 63 , error =  0.00020662058523157611\n",
      "iter = 64 , error =  0.00016576709913351806\n",
      "iter = 65 , error =  0.00013310712256497936\n",
      "iter = 66 , error =  0.00010699238828237867\n",
      "iter = 67 , error =  8.610434815636836e-05\n",
      "iter = 68 , error =  6.938900241948431e-05\n",
      "iter = 69 , error =  5.6004618272709195e-05\n",
      "iter = 70 , error =  4.527934652287513e-05\n",
      "iter = 71 , error =  3.667709643195849e-05\n",
      "iter = 72 , error =  2.9770389119221363e-05\n",
      "iter = 73 , error =  2.42183150476194e-05\n",
      "iter = 74 , error =  1.9749080820474774e-05\n",
      "iter = 75 , error =  1.614604570931988e-05\n",
      "iter = 76 , error =  1.323635660810396e-05\n",
      "iter = 77 , error =  1.0882241440413054e-05\n",
      "iter = 78 , error =  8.97373138286639e-06\n",
      "iter = 79 , error =  7.423099305015057e-06\n",
      "iter = 80 , error =  6.160216798889451e-06\n",
      "iter = 81 , error =  5.12910628458485e-06\n",
      "iter = 82 , error =  4.284944225219078e-06\n",
      "iter = 83 , error =  3.5919074434787035e-06\n",
      "iter = 84 , error =  3.021194970642682e-06\n",
      "iter = 85 , error =  2.5498165996395983e-06\n",
      "iter = 86 , error =  2.1591886252281256e-06\n",
      "iter = 87 , error =  1.8344362615607679e-06\n",
      "iter = 88 , error =  1.5635459931218065e-06\n",
      "iter = 89 , error =  1.3367880455916747e-06\n",
      "iter = 90 , error =  1.1463507689768448e-06\n",
      "iter = 91 , error =  9.858877092483453e-07\n",
      "iter = 92 , error =  8.501601769239642e-07\n",
      "iter = 93 , error =  7.35039975552354e-07\n",
      "iter = 94 , error =  6.370510163833387e-07\n",
      "iter = 95 , error =  5.533693183679134e-07\n",
      "iter = 96 , error =  4.81707502331119e-07\n",
      "iter = 97 , error =  4.201574483886361e-07\n",
      "iter = 98 , error =  3.6712481232825667e-07\n",
      "iter = 99 , error =  3.213390300516039e-07\n",
      "iter = 100 , error =  2.816932465066202e-07\n",
      "iter = 101 , error =  2.4728342395974323e-07\n",
      "iter = 102 , error =  2.173437678720802e-07\n",
      "iter = 103 , error =  1.9129220163449645e-07\n",
      "iter = 104 , error =  1.684893504716456e-07\n",
      "iter = 105 , error =  1.4859142538625747e-07\n",
      "iter = 106 , error =  1.3114276953274384e-07\n",
      "iter = 107 , error =  1.1582687875488773e-07\n",
      "iter = 108 , error =  1.0237909009447321e-07\n",
      "iter = 109 , error =  9.054838301381096e-08\n",
      "\n",
      " ----------------- The converged parametrs are ----------------- \n",
      "\n",
      "pi_hat = \n",
      " [0.38226867 0.28231283 0.3354185 ] \n",
      "\n",
      "mu_hat = \n",
      " [[-10.00374521   1.9002145    1.25279147]\n",
      " [ 10.0366807   -4.93718465   0.31550499]] \n",
      "\n",
      "Sigma_hat = \n",
      " [[[ 5.34311584  0.19602214]\n",
      "  [ 0.19602214  7.45139834]]\n",
      "\n",
      " [[11.46189578  0.16776646]\n",
      "  [ 0.16776646  2.49335061]]\n",
      "\n",
      " [[ 5.04057174  0.37195782]\n",
      "  [ 0.37195782 16.72952072]]] \n",
      "\n"
     ]
    }
   ],
   "source": [
    "## ------ 2D data generation ------------ ##\n",
    "pi = np.array([0.4, 0.3, 0.3])\n",
    "generators = [\n",
    "    mult_gauss([-10, 10], [[5, 0], [0, 7]]),             \n",
    "    mult_gauss([2, -5], [[10, 0], [0, 3]]), \n",
    "    mult_gauss([1, 1], [[5, 0], [0, 15]])]\n",
    "\n",
    "## ------ 3D data generation ------------ ##\n",
    "# mean = np.array([[20,10,1], [-22,15,10], [-30, 10,1]])\n",
    "# cov = np.array([[[1, 0, 0], [0, 1, 0], [0, 0, 1]], [[2,0,0],[0,2,0], [0,0,2]], [[3,0,0],[0,3,0],[0,0,3]] ])\n",
    "# pi = np.array([0.3, 0.2, 0.1])\n",
    "\n",
    "\n",
    "\n",
    "\n",
    "N = 1000\n",
    "K = 3\n",
    "tol = 0.0000001\n",
    "Data, mixture_info =  generate_data(generators, N, pi)\n",
    "# X_data = input(\"Input X_data:\")\n",
    "# print(Data.shape)\n",
    "\n",
    "X_Data = Data\n",
    "\n",
    "obj = EM_Gaussian_Misture(X_Data, K, tol)\n",
    "pi_hat, mu_hat, sigma_hat = obj.EM_Gauss()\n",
    "\n",
    "print('\\n ----------------- The converged parametrs are ----------------- \\n')\n",
    "print('pi_hat = \\n', pi_hat, '\\n')\n",
    "print('mu_hat = \\n', mu_hat, '\\n')\n",
    "print('Sigma_hat = \\n', sigma_hat, '\\n')"
   ]
  },
  {
   "cell_type": "markdown",
   "metadata": {},
   "source": [
    "## Validate, visualize, and compare with original data:\n"
   ]
  },
  {
   "cell_type": "code",
   "execution_count": 5,
   "metadata": {},
   "outputs": [],
   "source": [
    "generators_hat = [\n",
    "    mult_gauss(mu_hat[:,0], sigma_hat[0,:,:]),             \n",
    "    mult_gauss(mu_hat[:,1], sigma_hat[1,:,:]), \n",
    "    mult_gauss(mu_hat[:,2], sigma_hat[2,:,:])]\n",
    "\n",
    "X_Data_hat, mixture_info_hat =  generate_data(generators_hat, N, pi_hat)"
   ]
  },
  {
   "cell_type": "markdown",
   "metadata": {},
   "source": [
    "### 1. Check if the Covarinaces are symmetric and positive definite:"
   ]
  },
  {
   "cell_type": "code",
   "execution_count": 6,
   "metadata": {},
   "outputs": [
    {
     "name": "stdout",
     "output_type": "stream",
     "text": [
      "(3, 2, 2)\n",
      "Sigma_hat_0 = \n",
      " [[5.34311584 0.19602214]\n",
      " [0.19602214 7.45139834]]  \n",
      " Eignevalues of Sigma_hat_0 = [5.32504514 7.46946904] \n",
      "\n",
      "Sigma_hat_1 = \n",
      " [[11.46189578  0.16776646]\n",
      " [ 0.16776646  2.49335061]]  \n",
      " Eignevalues of Sigma_hat_1 = [11.46503294  2.49021346] \n",
      "\n",
      "Sigma_hat_2 = \n",
      " [[ 5.04057174  0.37195782]\n",
      " [ 0.37195782 16.72952072]]  \n",
      " Eignevalues of Sigma_hat_2 = [ 5.02874751 16.74134495] \n",
      "\n"
     ]
    }
   ],
   "source": [
    "print(sigma_hat.shape)\n",
    "for i in range(sigma_hat.shape[0]):\n",
    "    ev, evec = LA.eig(sigma_hat[i,:,:])\n",
    "    print('Sigma_hat_' + str(i),'= \\n',sigma_hat[i,:,:],' \\n Eignevalues of Sigma_hat_'+str(i),'=',ev, '\\n')"
   ]
  },
  {
   "cell_type": "markdown",
   "metadata": {},
   "source": [
    "### 2. Check if the mixture size of the original data and the data generated by the estimated parameters are close:"
   ]
  },
  {
   "cell_type": "code",
   "execution_count": 7,
   "metadata": {},
   "outputs": [
    {
     "name": "stdout",
     "output_type": "stream",
     "text": [
      "mixture info of the original data: \n",
      " pi= [0.4 0.3 0.3] \n",
      " mixture_info =  {0: 382, 1: 315, 2: 303} \n",
      "\n",
      "mixture info of the estimated data: \n",
      " pi_hat= [0.38226867 0.28231283 0.3354185 ] \n",
      " mixture_info =  {0: 375, 1: 292, 2: 333} \n",
      "\n"
     ]
    }
   ],
   "source": [
    "print('mixture info of the original data: \\n', 'pi=', pi,'\\n','mixture_info = ', mixture_info, '\\n')\n",
    "print('mixture info of the estimated data: \\n', 'pi_hat=', pi_hat,'\\n','mixture_info = ', mixture_info_hat, '\\n')\n"
   ]
  },
  {
   "cell_type": "markdown",
   "metadata": {},
   "source": [
    "### 3. Plot the original data and the data generated by the estimated parameters:"
   ]
  },
  {
   "cell_type": "code",
   "execution_count": 8,
   "metadata": {},
   "outputs": [
    {
     "data": {
      "image/png": "[encoded data removed]",
      "text/plain": [
       "<Figure size 432x288 with 1 Axes>"
      ]
     },
     "metadata": {
      "needs_background": "light"
     },
     "output_type": "display_data"
    }
   ],
   "source": [
    "ploting(X_Data.T)"
   ]
  },
  {
   "cell_type": "code",
   "execution_count": 9,
   "metadata": {},
   "outputs": [
    {
     "data": {
      "image/png": "[encoded data removed]",
      "text/plain": [
       "<Figure size 432x288 with 1 Axes>"
      ]
     },
     "metadata": {
      "needs_background": "light"
     },
     "output_type": "display_data"
    }
   ],
   "source": [
    "ploting(X_Data_hat.T)"
   ]
  },
  {
   "cell_type": "code",
   "execution_count": 10,
   "metadata": {},
   "outputs": [
    {
     "name": "stdout",
     "output_type": "stream",
     "text": [
      "(2, 1000)\n",
      "[[-9.99119207  1.69987093  1.28095609]\n",
      " [10.04329178 -4.63510464  2.66388133]]\n"
     ]
    }
   ],
   "source": [
    "print(X_Data.shape)\n",
    "kmeans = KMeans(n_clusters=3, random_state=1).fit(X_Data.T)\n",
    "lables = kmeans.labels_\n",
    "print(np.array(kmeans.cluster_centers_).T)"
   ]
  },
  {
   "cell_type": "code",
   "execution_count": 11,
   "metadata": {},
   "outputs": [
    {
     "name": "stdout",
     "output_type": "stream",
     "text": [
      "[383 403 214]\n"
     ]
    }
   ],
   "source": [
    "unique, counts = np.unique(lables, return_counts=True)\n",
    "mixture_info = (((unique, counts)))\n",
    "\n",
    "# print(np.array(np.asarray(mixture_info)))\n",
    "print(counts)"
   ]
  },
  {
   "cell_type": "code",
   "execution_count": null,
   "metadata": {},
   "outputs": [],
   "source": []
  },
  {
   "cell_type": "code",
   "execution_count": null,
   "metadata": {},
   "outputs": [],
   "source": []
  },
  {
   "cell_type": "code",
   "execution_count": null,
   "metadata": {},
   "outputs": [],
   "source": []
  }
 ],
 "metadata": {
  "kernelspec": {
   "display_name": "Python 3",
   "language": "python",
   "name": "python3"
  },
  "language_info": {
   "codemirror_mode": {
    "name": "ipython",
    "version": 3
   },
   "file_extension": ".py",
   "mimetype": "text/x-python",
   "name": "python",
   "nbconvert_exporter": "python",
   "pygments_lexer": "ipython3",
   "version": "3.7.1"
  }
 },
 "nbformat": 4,
 "nbformat_minor": 2
}
