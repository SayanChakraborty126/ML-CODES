{
 "cells": [
  {
   "cell_type": "code",
   "execution_count": 1,
   "metadata": {},
   "outputs": [],
   "source": [
    "from scipy.stats import multivariate_normal as mult_gauss\n",
    "import numpy as np\n",
    "import random\n",
    "from numpy import linalg as LA\n",
    "import sklearn as sklearn\n",
    "import matplotlib.pyplot as plt\n",
    "from mpl_toolkits import mplot3d\n",
    "%matplotlib qt"
   ]
  },
  {
   "cell_type": "markdown",
   "metadata": {},
   "source": [
    "### The Expectation Maximization algorithm for a Gaussian mixture model is implemented as follows:"
   ]
  },
  {
   "cell_type": "code",
   "execution_count": 2,
   "metadata": {},
   "outputs": [],
   "source": [
    "class EM_Gaussian_Misture(object):\n",
    "    \n",
    "    def __init__(self, X_data, K, tol):\n",
    "        self.X_Data = X_data                       # X_data has dimension in the rows and observations in the coloumns\n",
    "        self.K = K                                 # Mixture size\n",
    "        self.d, self.N = self.X_Data.shape              # find the shape of the data\n",
    "        self.gam = np.zeros((self.N,self.K))            # initialize all gammas as zero\n",
    "        self.pi = np.random.uniform(0,1,self.K)         # initialize the contributions\n",
    "        self.mu = np.random.random((self.d,self.K))     # initialize the means\n",
    "        self.sigma =  np.array([np.eye(self.d)]*self.K) # initialize the covariances\n",
    "        self.tol = tol\n",
    "        \n",
    "\n",
    "    def E_step(self):  # compute the posteriori probabilities\n",
    "        for i in range(self.N):\n",
    "            for j in range(self.K):\n",
    "                self.gam[i,j] = self.pi[j]*mult_gauss(self.mu[:,j], self.sigma[j,:,:]).pdf(self.X_Data[:,i]) # first find the numerator for all n's in N and k's in K\n",
    "        sumd = self.gam.sum(1)     # to find the denominatior sum over all k's for a n in N\n",
    "        self.gam = self.gam.T/sumd # find the posterior probabilities  \n",
    "        return self.gam.T \n",
    "    \n",
    "    def M_step(self):\n",
    "        self.gam = self.E_step()  # get the gammas \n",
    "        N_k = self.gam.sum(0)    # compute Nk by summing all the rows of gamma\n",
    "        \n",
    "        self.pi = N_k/self.N     # compute pi\n",
    "        \n",
    "        self.mu = np.dot(self.gam.T, self.X_Data.T)\n",
    "        self.mu = self.mu.T/N_k  # compute mu       \n",
    "        \n",
    "        for i in range(self.K):                    # compute sigma\n",
    "            for j in range(self.N):\n",
    "                dum = np.reshape((self.X_Data[:,j] -  self.mu[:,i]), (self.d,1)) # compute (X_n-mu_n)\n",
    "                self.sigma[i,:,:] += self.gam[j,i]*np.dot(dum, dum.T)           # compute (X_n-mu_n)(X_n-mu_n)^T\n",
    "            self.sigma[i,:,:] = self.sigma[i,:,:]/N_k[i]  # divide sigma of each mixture by N_k to compute sigma\n",
    "        \n",
    "        return self.pi, self.gam, self.mu, self.sigma\n",
    "    \n",
    "    def EM_Gauss(self):  # to compute log-likelihood and check convergence\n",
    "        error = 10\n",
    "        l_old = 0\n",
    "        iter = 0\n",
    "        while error>self.tol:\n",
    "            \n",
    "            self.pi, self.gam, self.mu, self.sigma = self.M_step()\n",
    "\n",
    "            l_new = 0.0\n",
    "            for i in range(self.N):\n",
    "                dum = 0.0\n",
    "                for j in range(self.K):\n",
    "                    dum += self.pi[j]*mult_gauss(self.mu[:,j], self.sigma[j,:,:]).pdf(self.X_Data[:,i])\n",
    "                dum = np.log(dum)\n",
    "                l_new += dum\n",
    "\n",
    "            error = abs(l_new-l_old)\n",
    "            l_old = l_new        \n",
    "            print('iter =', iter, ' error = ', error)\n",
    "            iter += 1\n",
    "        return np.array(self.pi), np.array(self.mu), np.array(self.sigma)"
   ]
  },
  {
   "cell_type": "markdown",
   "metadata": {},
   "source": [
    "### Generate data"
   ]
  },
  {
   "cell_type": "code",
   "execution_count": 3,
   "metadata": {},
   "outputs": [],
   "source": [
    "# def generate_data(mean, cov, pii, N):\n",
    "def generate_data(generators, N, pi):\n",
    "#     X_data = np.concatenate([np.random.multivariate_normal(mu, sigma, int(pi*N))\n",
    "#                     for pi, mu, sigma in zip(pii, mean, cov)])\n",
    "    print(pi)\n",
    "    draw = np.random.choice([0, 1, 2], N, p=pi.tolist())\n",
    "    unique, counts = np.unique(draw, return_counts=True)\n",
    "    \n",
    "    print(dict(zip(unique, counts)))\n",
    "    \n",
    "    X_Data = [np.array(generators[i].rvs()) for i in draw]\n",
    "    X_Data = np.array(X_Data)\n",
    "    print(X_Data.shape[1])\n",
    "    if X_Data.shape[1] == 2:\n",
    "        plt.plot(X_Data[:,0], X_Data[:,1], '.')\n",
    "        plt.axis('equal')\n",
    "        plt.show()\n",
    "        \n",
    "    elif X_Data.shape[1] == 3:\n",
    "        fig = plt.figure()\n",
    "        ax = plt.axes(projection='3d')\n",
    "        # Data for a three-dimensional line\n",
    "        ax.plot3D(X_Data[:,0], X_Data[:,1], X_Data[:,2], '.')\n",
    "        \n",
    "    else:\n",
    "        print(\"Can't plot dimension > 3 !!!\")\n",
    "\n",
    "    return X_Data.T"
   ]
  },
  {
   "cell_type": "markdown",
   "metadata": {},
   "source": [
    "### Estimate the parametrs"
   ]
  },
  {
   "cell_type": "code",
   "execution_count": 4,
   "metadata": {
    "scrolled": false
   },
   "outputs": [
    {
     "name": "stdout",
     "output_type": "stream",
     "text": [
      "[0.3 0.2 0.5]\n",
      "{0: 313, 1: 206, 2: 481}\n",
      "2\n"
     ]
    },
    {
     "data": {
      "image/png": "[encoded data removed]",
      "text/plain": [
       "<Figure size 432x288 with 1 Axes>"
      ]
     },
     "metadata": {
      "needs_background": "light"
     },
     "output_type": "display_data"
    },
    {
     "name": "stdout",
     "output_type": "stream",
     "text": [
      "(2, 1000)\n",
      "iter = 0  error =  5416.174610661366\n",
      "iter = 1  error =  57.99815989563194\n",
      "iter = 2  error =  26.086508057594074\n",
      "iter = 3  error =  10.464039099129877\n",
      "iter = 4  error =  5.448777248057013\n",
      "iter = 5  error =  3.754434144520019\n",
      "iter = 6  error =  3.179010135734643\n",
      "iter = 7  error =  3.190890640276848\n",
      "iter = 8  error =  3.429763007992733\n",
      "iter = 9  error =  3.398666353634326\n",
      "iter = 10  error =  2.9440989350523523\n",
      "iter = 11  error =  2.376326016729763\n",
      "iter = 12  error =  2.0416787506155742\n",
      "iter = 13  error =  2.0246983321640073\n",
      "iter = 14  error =  2.3909838496874727\n",
      "iter = 15  error =  3.354547094099871\n",
      "iter = 16  error =  5.4654817502614605\n",
      "iter = 17  error =  10.082978394991187\n",
      "iter = 18  error =  21.14005830674705\n",
      "iter = 19  error =  53.184535850280554\n",
      "iter = 20  error =  105.59932498638591\n",
      "iter = 21  error =  54.08877382875744\n",
      "iter = 22  error =  35.743924288094604\n",
      "iter = 23  error =  53.298131420177015\n",
      "iter = 24  error =  73.76073148009255\n",
      "iter = 25  error =  18.861043776870247\n",
      "iter = 26  error =  0.00790287699419423\n",
      "iter = 27  error =  1.990172950172564e-05\n",
      "iter = 28  error =  1.0938492778223008e-07\n",
      "iter = 29  error =  7.139533408917487e-10\n",
      "pi = \n",
      " [0.20600001 0.48104495 0.31295504] \n",
      "\n",
      "mu = \n",
      " [[20.04167052 -1.01324032  9.99728748]\n",
      " [ 0.05770717 -1.00901346  0.98196569]] \n",
      "\n",
      "Sigma = \n",
      " [[[ 1.52385558 -0.0413644 ]\n",
      "  [-0.0413644   2.82004857]]\n",
      "\n",
      " [[ 5.457667   -0.12028729]\n",
      "  [-0.12028729  5.42620181]]\n",
      "\n",
      " [[ 1.09477445 -0.03307767]\n",
      "  [-0.03307767  0.98917113]]] \n",
      "\n"
     ]
    }
   ],
   "source": [
    "## ------ 2D data generation ------------ ##\n",
    "# mean = np.array([[20,1], [-2,15], [-3, 10]])\n",
    "# cov = np.array([[[1, 0], [0, 1]], [[2,0],[0,2]], [[3,0],[0,8]] ])\n",
    "pi = np.array([0.3, 0.2, 0.5])\n",
    "\n",
    "# mean = np.array([[20,1], [-2,15]])\n",
    "# cov = np.array([[[1, 0], [0, 1]], [[2,0],[0,2]] ])\n",
    "# pi = np.array([0.6, 0.8])\n",
    "\n",
    "generators = [\n",
    "    mult_gauss([10, 1], [[1, 0], [0, 1]]),             \n",
    "    mult_gauss([20, 0], [[2, 0], [0, 3]]), \n",
    "    mult_gauss([-1, -1], [[5, 0], [0, 5]])]\n",
    "\n",
    "## ------ 3D data generation ------------ ##\n",
    "# mean = np.array([[20,10,1], [-22,15,10], [-30, 10,1]])\n",
    "# cov = np.array([[[1, 0, 0], [0, 1, 0], [0, 0, 1]], [[2,0,0],[0,2,0], [0,0,2]], [[3,0,0],[0,3,0],[0,0,3]] ])\n",
    "# pi = np.array([0.3, 0.2, 0.1])\n",
    "\n",
    "\n",
    "\n",
    "\n",
    "N = 1000\n",
    "K = 3\n",
    "tol = 0.0000001\n",
    "# Data =  generate_data(mean, cov, pi, N)\n",
    "Data =  generate_data(generators, N, pi)\n",
    "# X_data = input(\"Input X_data:\")\n",
    "print(Data.shape)\n",
    "\n",
    "X_data = Data\n",
    "\n",
    "obj = EM_Gaussian_Misture(X_data, K, tol)\n",
    "pi, mu, sigma = obj.EM_Gauss()\n",
    "\n",
    "print('pi = \\n', pi, '\\n')\n",
    "print('mu = \\n', mu, '\\n')\n",
    "print('Sigma = \\n', sigma, '\\n')"
   ]
  },
  {
   "cell_type": "markdown",
   "metadata": {},
   "source": [
    "### Visualize"
   ]
  },
  {
   "cell_type": "code",
   "execution_count": 5,
   "metadata": {},
   "outputs": [
    {
     "data": {
      "image/png": "[encoded data removed]",
      "text/plain": [
       "<Figure size 432x288 with 1 Axes>"
      ]
     },
     "metadata": {
      "needs_background": "light"
     },
     "output_type": "display_data"
    }
   ],
   "source": [
    "generators = [\n",
    "    mult_gauss(mu[:,0], sigma[0,:,:]),             \n",
    "    mult_gauss(mu[:,1], sigma[1,:,:]), \n",
    "    mult_gauss(mu[:,2], sigma[2,:,:])]\n",
    "# print(pi.tolist())\n",
    "# print(pi.sum())\n",
    "draw = np.random.choice([0, 1, 2], N, p=pi.tolist())\n",
    "X_Data_hat = [np.array(generators[i].rvs()) for i in draw]\n",
    "X_Data_hat = np.array(X_Data_hat)\n",
    "X_Data_hat = X_Data_hat.T\n",
    "\n",
    "plt.plot(X_Data_hat[0,:], X_Data_hat[1,:], '.')\n",
    "plt.axis('equal')\n",
    "plt.show()\n",
    "\n",
    "\n",
    "# pis = pi\n",
    "# mus = mu\n",
    "# sigmas = sigma\n",
    "# X_data = np.concatenate([np.random.multivariate_normal(mu, sigma, int(pi*N))\n",
    "#                     for pi, mu, sigma in zip(pis, mus, sigmas)])\n",
    "\n",
    "\n",
    "\n",
    "# print(x.shape)\n",
    "# print(y.shape)"
   ]
  },
  {
   "cell_type": "code",
   "execution_count": 6,
   "metadata": {},
   "outputs": [
    {
     "data": {
      "text/plain": [
       "{0: 221, 1: 473, 2: 306}"
      ]
     },
     "execution_count": 6,
     "metadata": {},
     "output_type": "execute_result"
    }
   ],
   "source": [
    "unique, counts = np.unique(draw, return_counts=True)\n",
    "dict(zip(unique, counts))"
   ]
  },
  {
   "cell_type": "code",
   "execution_count": null,
   "metadata": {},
   "outputs": [],
   "source": []
  },
  {
   "cell_type": "code",
   "execution_count": null,
   "metadata": {},
   "outputs": [],
   "source": []
  },
  {
   "cell_type": "code",
   "execution_count": null,
   "metadata": {},
   "outputs": [],
   "source": []
  },
  {
   "cell_type": "code",
   "execution_count": 7,
   "metadata": {},
   "outputs": [
    {
     "name": "stdout",
     "output_type": "stream",
     "text": [
      "pi = \n",
      " [0.20600001 0.48104495 0.31295504] \n",
      "\n",
      "mu = \n",
      " [[20.04167052 -1.01324032  9.99728748]\n",
      " [ 0.05770717 -1.00901346  0.98196569]] \n",
      "\n",
      "Sigma = \n",
      " [[[ 1.52385558 -0.0413644 ]\n",
      "  [-0.0413644   2.82004857]]\n",
      "\n",
      " [[ 5.457667   -0.12028729]\n",
      "  [-0.12028729  5.42620181]]\n",
      "\n",
      " [[ 1.09477445 -0.03307767]\n",
      "  [-0.03307767  0.98917113]]] \n",
      "\n"
     ]
    }
   ],
   "source": [
    "print('pi = \\n', pi, '\\n')\n",
    "print('mu = \\n', mu, '\\n')\n",
    "print('Sigma = \\n', sigma, '\\n')"
   ]
  },
  {
   "cell_type": "code",
   "execution_count": 8,
   "metadata": {},
   "outputs": [
    {
     "name": "stdout",
     "output_type": "stream",
     "text": [
      "[[[0.55836977 0.79220105]\n",
      "  [0.97203332 0.1757101 ]]\n",
      "\n",
      " [[0.25811027 0.45791699]\n",
      "  [0.26802762 0.72401395]]\n",
      "\n",
      " [[0.84056084 0.54650307]\n",
      "  [0.3756374  0.52139455]]]\n"
     ]
    }
   ],
   "source": [
    "print(np.random.random((3,2,2)))"
   ]
  },
  {
   "cell_type": "code",
   "execution_count": 9,
   "metadata": {},
   "outputs": [
    {
     "name": "stdout",
     "output_type": "stream",
     "text": [
      "[[1. 0.]\n",
      " [0. 1.]]\n"
     ]
    }
   ],
   "source": [
    "I = np.array([np.eye(2)] * 3)\n",
    "print(I[1,:,:])"
   ]
  },
  {
   "cell_type": "markdown",
   "metadata": {},
   "source": [
    "#### For generating PSD matrix"
   ]
  },
  {
   "cell_type": "code",
   "execution_count": 10,
   "metadata": {},
   "outputs": [],
   "source": [
    "A = np.random.rand(1000, 1000)\n",
    "U, s, V = LA.svd(np.dot(A.T, A))\n",
    "X = np.dot(np.dot(U, 1.0 + np.diag(np.random.rand(1000))), V)\n",
    "# print(X)\n",
    "e,v = LA.eig(X)\n",
    "# print(e)"
   ]
  },
  {
   "cell_type": "code",
   "execution_count": 11,
   "metadata": {},
   "outputs": [
    {
     "name": "stdout",
     "output_type": "stream",
     "text": [
      "[0.76340975 0.14031536 0.93608764]\n"
     ]
    }
   ],
   "source": [
    "print(np.random.uniform(0,1,3))"
   ]
  },
  {
   "cell_type": "code",
   "execution_count": 12,
   "metadata": {},
   "outputs": [
    {
     "name": "stdout",
     "output_type": "stream",
     "text": [
      "[[1 2]\n",
      " [3 4]]\n",
      "[3 7]\n",
      "[[0.33333333 0.66666667]\n",
      " [0.42857143 0.57142857]]\n"
     ]
    }
   ],
   "source": [
    "A = np.array([[1,2], [3,4]])\n",
    "print(A)\n",
    "sumd = A.sum(1)\n",
    "print(sumd)\n",
    "A = (A.T/sumd)\n",
    "print(A.T)"
   ]
  },
  {
   "cell_type": "code",
   "execution_count": 13,
   "metadata": {},
   "outputs": [
    {
     "name": "stdout",
     "output_type": "stream",
     "text": [
      "[[0.25 0.4 ]\n",
      " [0.75 0.8 ]]\n"
     ]
    }
   ],
   "source": [
    "print(np.array([[1,2], [3,4]])/np.array([4, 5]))"
   ]
  },
  {
   "cell_type": "code",
   "execution_count": 14,
   "metadata": {},
   "outputs": [
    {
     "name": "stdout",
     "output_type": "stream",
     "text": [
      "A =  [[1 2 3]\n",
      " [4 5 6]\n",
      " [5 7 2]]\n",
      "B =  [[1 5]\n",
      " [2 4]\n",
      " [4 1]]\n"
     ]
    }
   ],
   "source": [
    "A = np.array([[1,2,3],[4,5,6],[5,7,2]])\n",
    "print('A = ', A)\n",
    "\n",
    "B = np.array([[1,5],[2,4],[4,1]])\n",
    "print('B = ', B)"
   ]
  },
  {
   "cell_type": "code",
   "execution_count": 15,
   "metadata": {},
   "outputs": [
    {
     "name": "stdout",
     "output_type": "stream",
     "text": [
      "[[17 16]\n",
      " [38 46]\n",
      " [27 55]]\n"
     ]
    }
   ],
   "source": [
    "w = np.dot(A,B)\n",
    "print(w)"
   ]
  },
  {
   "cell_type": "code",
   "execution_count": 16,
   "metadata": {},
   "outputs": [
    {
     "name": "stdout",
     "output_type": "stream",
     "text": [
      "[[ 0  2  4]\n",
      " [-3 -1  1]]\n"
     ]
    }
   ],
   "source": [
    "print( np.array([[1,3,5], [2,4,6]]) - np.array([[1],[5]]) )"
   ]
  },
  {
   "cell_type": "code",
   "execution_count": 17,
   "metadata": {},
   "outputs": [
    {
     "name": "stdout",
     "output_type": "stream",
     "text": [
      "[[1 2 3]\n",
      " [4 5 6]\n",
      " [5 7 2]]\n"
     ]
    }
   ],
   "source": [
    "print(A)"
   ]
  },
  {
   "cell_type": "code",
   "execution_count": 18,
   "metadata": {},
   "outputs": [
    {
     "name": "stdout",
     "output_type": "stream",
     "text": [
      "[[[4]]\n",
      "\n",
      " [[5]]\n",
      "\n",
      " [[6]]]\n"
     ]
    }
   ],
   "source": [
    "print(A[1,:,None, None])"
   ]
  },
  {
   "cell_type": "code",
   "execution_count": 19,
   "metadata": {},
   "outputs": [
    {
     "name": "stdout",
     "output_type": "stream",
     "text": [
      "[[4]\n",
      " [5]\n",
      " [6]]\n"
     ]
    }
   ],
   "source": [
    "print(np.reshape(A[1,:], (3,1)))"
   ]
  },
  {
   "cell_type": "code",
   "execution_count": 20,
   "metadata": {},
   "outputs": [
    {
     "name": "stdout",
     "output_type": "stream",
     "text": [
      "[[[0.97542225 0.86044486]\n",
      "  [0.61794497 0.92806658]]\n",
      "\n",
      " [[0.43614997 0.65392373]\n",
      "  [0.79142335 0.80671048]]\n",
      "\n",
      " [[0.41535884 0.59068857]\n",
      "  [0.47975155 0.52636553]]]\n"
     ]
    }
   ],
   "source": [
    "A = np.random.random((3,2,2))\n",
    "print(A)"
   ]
  },
  {
   "cell_type": "code",
   "execution_count": 21,
   "metadata": {},
   "outputs": [
    {
     "name": "stdout",
     "output_type": "stream",
     "text": [
      "[[0.97542225 0.86044486]\n",
      " [0.61794497 0.92806658]]\n"
     ]
    }
   ],
   "source": [
    "print(A[0])"
   ]
  },
  {
   "cell_type": "code",
   "execution_count": 22,
   "metadata": {},
   "outputs": [
    {
     "name": "stdout",
     "output_type": "stream",
     "text": [
      "[[[1. 0. 0.]\n",
      "  [0. 1. 0.]\n",
      "  [0. 0. 1.]]\n",
      "\n",
      " [[1. 0. 0.]\n",
      "  [0. 1. 0.]\n",
      "  [0. 0. 1.]]\n",
      "\n",
      " [[1. 0. 0.]\n",
      "  [0. 1. 0.]\n",
      "  [0. 0. 1.]]\n",
      "\n",
      " [[1. 0. 0.]\n",
      "  [0. 1. 0.]\n",
      "  [0. 0. 1.]]]\n"
     ]
    }
   ],
   "source": [
    "A = np.array([np.eye(3)]*4)\n",
    "print(A)"
   ]
  },
  {
   "cell_type": "code",
   "execution_count": 23,
   "metadata": {},
   "outputs": [
    {
     "name": "stdout",
     "output_type": "stream",
     "text": [
      "[[1. 0. 0.]\n",
      " [0. 1. 0.]\n",
      " [0. 0. 1.]]\n"
     ]
    }
   ],
   "source": [
    "print(A[0])"
   ]
  },
  {
   "cell_type": "code",
   "execution_count": 24,
   "metadata": {},
   "outputs": [
    {
     "name": "stdout",
     "output_type": "stream",
     "text": [
      "1\n"
     ]
    }
   ],
   "source": [
    "print(abs(-1))"
   ]
  },
  {
   "cell_type": "code",
   "execution_count": 25,
   "metadata": {},
   "outputs": [
    {
     "data": {
      "image/png": "[encoded data removed]",
      "text/plain": [
       "<Figure size 432x288 with 1 Axes>"
      ]
     },
     "metadata": {
      "needs_background": "light"
     },
     "output_type": "display_data"
    },
    {
     "name": "stdout",
     "output_type": "stream",
     "text": [
      "(100,)\n",
      "(100,)\n",
      "[[-9.86167033e-01  2.53362264e-02 -3.47182229e-03 -4.95554571e-01\n",
      "   4.71453253e-01  2.24023019e-01 -1.25753214e+00 -2.41142514e+00\n",
      "  -4.47495153e-01 -1.32075942e-01 -8.57605585e-01 -5.93939178e-01\n",
      "  -4.79703692e-01  2.99274338e-01 -5.17232944e-01  7.04351781e-01\n",
      "   1.50976396e+00  1.35577832e+00 -7.43298885e-01 -2.44608242e+00\n",
      "  -5.09348286e-01  2.92317633e-01  9.36583004e-01 -4.86594255e-01\n",
      "   5.40260625e-01  1.21972614e+00 -5.32413397e-01  1.60489215e+00\n",
      "   1.74246292e-01 -5.87792058e-03  1.14090738e+00 -1.18506749e+00\n",
      "   3.41120066e-01 -1.85666923e+00 -1.13361149e+00  3.82516288e-02\n",
      "   9.33922556e-01 -7.40526686e-01 -4.74631039e-01 -1.93408720e-01\n",
      "  -7.14612457e-01 -3.73518826e-01 -9.73334836e-01 -1.60948491e-01\n",
      "   1.97777683e-01 -3.58556158e-01 -3.93519319e-01 -1.47508877e+00\n",
      "   9.57325955e-01 -4.72912199e-01 -4.50332673e-01 -1.94628837e-01\n",
      "  -1.01897045e+00 -1.41740664e+00 -1.07288477e+00  3.06507239e-02\n",
      "   2.64991537e-01 -1.01113953e+00 -2.30749419e-01  1.07099355e+00\n",
      "   1.03315784e+00  1.36802567e+00  2.79930775e-01  7.25517477e-01\n",
      "  -7.21824670e-01  2.22783985e+00 -3.02621405e-01 -4.63810670e-01\n",
      "  -2.64731125e+00  4.02800089e-01  1.05039738e+00  7.15745691e-01\n",
      "   1.28194026e+00 -1.48532479e+00  2.46405186e-01  4.70954868e-01\n",
      "  -8.17948454e-01  9.30321970e-02 -1.17056491e+00 -3.53656800e-01\n",
      "  -1.61636333e+00  7.84762388e-01  1.77755204e+00  4.48989451e-01\n",
      "  -4.15119322e-01 -4.59615727e-01  5.77121503e-01 -4.30902836e-02\n",
      "  -5.29436666e-01 -7.64339496e-01  2.63584823e+00 -4.42070192e-01\n",
      "  -3.51350493e-02 -6.51168647e-01  1.13003101e+00  1.91043036e+00\n",
      "   1.50193842e-01 -9.30507387e-01 -8.73587543e-01 -4.66722529e-01]\n",
      " [ 1.44498681e+01  4.12584673e+00  8.40835098e+00  8.36392159e+00\n",
      "  -1.34113821e+01  1.04914993e+01  1.08151467e+00  2.18272687e+01\n",
      "   8.57027296e-01 -8.87198987e+00 -1.28062907e+01 -1.00172895e+01\n",
      "   1.80966927e+01  2.72121142e+00 -4.63503300e+00  1.04791775e-01\n",
      "   5.04887555e+00  1.03102449e+01 -6.01104262e-01  7.18258151e+00\n",
      "  -9.76393308e+00 -3.73338120e+00  1.24162586e+01  1.43577838e-01\n",
      "  -1.14990670e+01 -9.75643888e+00  1.63039264e+01  8.66526658e+00\n",
      "  -8.85397270e-01  7.59821943e+00  6.42142260e+00 -6.14291072e+00\n",
      "   2.14593091e+00  4.34598162e+00  3.13301263e+00 -2.11790706e+00\n",
      "  -4.64183997e+00 -2.52962974e+00  2.56770448e+01 -5.21755687e-01\n",
      "  -1.14960235e+01 -2.04690379e+00  1.45893695e+00 -1.34840967e+01\n",
      "  -1.35835355e-01 -1.00029984e-01 -6.98375456e+00  1.94910094e+01\n",
      "  -8.23136691e+00 -1.13019215e+01 -5.20958946e-03 -1.20729441e+01\n",
      "   9.51272973e+00  1.56342924e+00  4.79929833e+00 -3.68844917e+00\n",
      "   9.99059845e+00  6.12540591e+00 -1.45984707e+01 -8.68001071e+00\n",
      "   6.19710028e+00 -1.60123849e+00  1.02638773e+01  9.64322440e+00\n",
      "   1.49999052e+01  4.23573308e-01 -1.38227255e+01  1.58932466e+01\n",
      "  -2.24509910e+01 -3.15339250e+01 -6.28585408e+00 -1.10440034e+01\n",
      "  -3.74909946e+00  4.02795982e+00 -3.39477346e-01  7.28699425e+00\n",
      "  -5.42166763e+00 -9.16900659e+00  2.74760803e+00 -2.42153584e+00\n",
      "   3.71624469e+00  2.00592672e+00  1.59358698e+01 -2.28430156e+00\n",
      "   8.53724631e+00 -1.16531753e+01 -2.62193584e+00 -8.43845364e+00\n",
      "  -9.92851432e+00  3.91595922e+00  1.38674588e+01  1.39500630e+01\n",
      "  -2.48216593e+00 -7.09771162e+00  2.45892917e+00 -2.38172048e+01\n",
      "  -1.37321158e+01 -8.83443574e+00 -4.13188767e+00  2.21000905e+00]]\n"
     ]
    }
   ],
   "source": [
    "mean = [0, 0]\n",
    "cov = [[1, 0], [0, 100]] \n",
    "x, y = np.random.multivariate_normal(mean, cov, 100).T\n",
    "plt.plot(x, y, 'x')\n",
    "plt.axis('equal')\n",
    "plt.show()\n",
    "print(x.shape)\n",
    "print(y.shape)\n",
    "X_data = np.zeros((2, 100))\n",
    "X_data[0,:] = np.array(x)\n",
    "X_data[1,:] = np.array(y)\n",
    "print(X_data)"
   ]
  },
  {
   "cell_type": "code",
   "execution_count": 26,
   "metadata": {},
   "outputs": [],
   "source": [
    "n = 10000\n",
    "_mus = np.array([[0,10], [-2,0]])\n",
    "_sigmas = np.array([[[3, 0], [0, 0.5]], [[1,0],[0,2]]])\n",
    "_pis = np.array([0.6, 0.4])\n",
    "xs = np.concatenate([np.random.multivariate_normal(mu, sigma, int(pi*n))\n",
    "                    for pi, mu, sigma in zip(_pis, _mus, _sigmas)])"
   ]
  },
  {
   "cell_type": "code",
   "execution_count": 27,
   "metadata": {},
   "outputs": [
    {
     "data": {
      "image/png": "[encoded data removed]",
      "text/plain": [
       "<Figure size 432x288 with 1 Axes>"
      ]
     },
     "metadata": {
      "needs_background": "light"
     },
     "output_type": "display_data"
    },
    {
     "name": "stdout",
     "output_type": "stream",
     "text": [
      "(100,)\n",
      "(100,)\n"
     ]
    }
   ],
   "source": [
    "plt.plot(xs[:,0], xs[:,1], 'x')\n",
    "plt.axis('equal')\n",
    "plt.show()\n",
    "print(x.shape)\n",
    "print(y.shape)"
   ]
  },
  {
   "cell_type": "code",
   "execution_count": 28,
   "metadata": {},
   "outputs": [
    {
     "name": "stdout",
     "output_type": "stream",
     "text": [
      "[[[3.  0. ]\n",
      "  [0.  0.5]]\n",
      "\n",
      " [[1.  0. ]\n",
      "  [0.  2. ]]]\n"
     ]
    }
   ],
   "source": [
    "print(_sigmas)"
   ]
  },
  {
   "cell_type": "code",
   "execution_count": 29,
   "metadata": {},
   "outputs": [
    {
     "data": {
      "text/plain": [
       "[<mpl_toolkits.mplot3d.art3d.Line3D at 0x1c0a3a546d8>]"
      ]
     },
     "execution_count": 29,
     "metadata": {},
     "output_type": "execute_result"
    },
    {
     "data": {
      "image/png": "[encoded data removed]",
      "text/plain": [
       "<Figure size 432x288 with 1 Axes>"
      ]
     },
     "metadata": {
      "needs_background": "light"
     },
     "output_type": "display_data"
    }
   ],
   "source": [
    "fig = plt.figure()\n",
    "ax = plt.axes(projection='3d')\n",
    "# Data for a three-dimensional line\n",
    "zline = np.linspace(0, 15, 1000)\n",
    "xline = np.sin(zline)\n",
    "yline = np.cos(zline)\n",
    "ax.plot3D(xline, yline, zline, 'gray')"
   ]
  },
  {
   "cell_type": "code",
   "execution_count": 30,
   "metadata": {},
   "outputs": [
    {
     "ename": "TypeError",
     "evalue": "generate_data() takes 3 positional arguments but 4 were given",
     "output_type": "error",
     "traceback": [
      "\u001b[1;31m---------------------------------------------------------------------------\u001b[0m",
      "\u001b[1;31mTypeError\u001b[0m                                 Traceback (most recent call last)",
      "\u001b[1;32m<ipython-input-30-8e0a89833a78>\u001b[0m in \u001b[0;36m<module>\u001b[1;34m\u001b[0m\n\u001b[0;32m     11\u001b[0m \u001b[0mK\u001b[0m \u001b[1;33m=\u001b[0m \u001b[1;36m2\u001b[0m\u001b[1;33m\u001b[0m\u001b[1;33m\u001b[0m\u001b[0m\n\u001b[0;32m     12\u001b[0m \u001b[0mtol\u001b[0m \u001b[1;33m=\u001b[0m \u001b[1;36m0.0000001\u001b[0m\u001b[1;33m\u001b[0m\u001b[1;33m\u001b[0m\u001b[0m\n\u001b[1;32m---> 13\u001b[1;33m \u001b[0mData\u001b[0m \u001b[1;33m=\u001b[0m  \u001b[0mgenerate_data\u001b[0m\u001b[1;33m(\u001b[0m\u001b[0mmean\u001b[0m\u001b[1;33m,\u001b[0m \u001b[0mcov\u001b[0m\u001b[1;33m,\u001b[0m \u001b[0mpi\u001b[0m\u001b[1;33m,\u001b[0m \u001b[0mN\u001b[0m\u001b[1;33m)\u001b[0m\u001b[1;33m\u001b[0m\u001b[1;33m\u001b[0m\u001b[0m\n\u001b[0m",
      "\u001b[1;31mTypeError\u001b[0m: generate_data() takes 3 positional arguments but 4 were given"
     ]
    }
   ],
   "source": [
    "mean = np.array([[20,1], [-2,15]])\n",
    "cov = np.array([[[1, 0], [0, 1]], [[2,0],[0,2]] ])\n",
    "pi = np.array([0.6, 0.8])\n",
    "\n",
    "## ------ 3D data generation ------------ ##\n",
    "# mean = np.array([[20,10,1], [-22,15,10], [-30, 10,1]])\n",
    "# cov = np.array([[[1, 0, 0], [0, 1, 0], [0, 0, 1]], [[2,0,0],[0,2,0], [0,0,2]], [[3,0,0],[0,3,0],[0,0,3]] ])\n",
    "# pi = np.array([0.3, 0.2, 0.1])\n",
    "\n",
    "N = 10000\n",
    "K = 2\n",
    "tol = 0.0000001\n",
    "Data =  generate_data(mean, cov, pi, N)"
   ]
  },
  {
   "cell_type": "code",
   "execution_count": null,
   "metadata": {},
   "outputs": [],
   "source": [
    "print(Data.shape)"
   ]
  },
  {
   "cell_type": "code",
   "execution_count": null,
   "metadata": {},
   "outputs": [],
   "source": []
  }
 ],
 "metadata": {
  "kernelspec": {
   "display_name": "Python 3",
   "language": "python",
   "name": "python3"
  },
  "language_info": {
   "codemirror_mode": {
    "name": "ipython",
    "version": 3
   },
   "file_extension": ".py",
   "mimetype": "text/x-python",
   "name": "python",
   "nbconvert_exporter": "python",
   "pygments_lexer": "ipython3",
   "version": "3.7.1"
  }
 },
 "nbformat": 4,
 "nbformat_minor": 2
}
