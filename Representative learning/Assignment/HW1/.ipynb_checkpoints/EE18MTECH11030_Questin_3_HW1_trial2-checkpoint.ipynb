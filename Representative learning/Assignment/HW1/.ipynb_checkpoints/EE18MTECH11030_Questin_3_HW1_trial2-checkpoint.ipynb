{
 "cells": [
  {
   "cell_type": "code",
   "execution_count": 13,
   "metadata": {},
   "outputs": [],
   "source": [
    "from scipy.stats import multivariate_normal as mult_gauss\n",
    "import numpy as np\n",
    "import random\n",
    "from numpy import linalg as LA\n",
    "import sklearn as sklearn\n",
    "import matplotlib.pyplot as plt\n",
    "from mpl_toolkits import mplot3d\n",
    "from pylab import *\n",
    "from sklearn.cluster import KMeans\n",
    "# %matplotlib qt"
   ]
  },
  {
   "cell_type": "markdown",
   "metadata": {},
   "source": [
    "## The Expectation Maximization algorithm for a Gaussian mixture model is implemented as follows:"
   ]
  },
  {
   "cell_type": "code",
   "execution_count": 21,
   "metadata": {},
   "outputs": [],
   "source": [
    "class EM_Gaussian_Misture(object):\n",
    "    \n",
    "    def __init__(self, X_data, K, tol):\n",
    "        self.X_Data = X_data                       # X_data has dimension in the rows and observations in the coloumns\n",
    "        self.K = K                                 # Mixture size\n",
    "        self.d, self.N = self.X_Data.shape              # find the shape of the data\n",
    "        self.gam = np.zeros((self.N,self.K))            # initialize all gammas as zero\n",
    "        \n",
    "        kmeans = KMeans(n_clusters=self.K, random_state=1).fit(self.X_Data.T)\n",
    "        lables = kmeans.labels_\n",
    "        unique, counts = np.unique(lables, return_counts=True)\n",
    "        \n",
    "#         self.pi = np.random.uniform(0,1,self.K)         # initialize the contributions\n",
    "        self.pi = np.array(counts)\n",
    "#         self.mu = np.random.random((self.d,self.K))     # initialize the means\n",
    "        self.mu = np.array(kmeans.cluster_centers_).T\n",
    "        print(self.mu)\n",
    "        self.sigma =  np.array([np.eye(self.d)]*self.K) # initialize the covariances\n",
    "        self.tol = tol\n",
    "        \n",
    "\n",
    "    def E_step(self):  # compute the posteriori probabilities\n",
    "        for i in range(self.N):\n",
    "            for j in range(self.K):\n",
    "                self.gam[i,j] = self.pi[j]*mult_gauss(self.mu[:,j], self.sigma[j,:,:]).pdf(self.X_Data[:,i]) # first find the numerator for all n's in N and k's in K\n",
    "        sumd = self.gam.sum(1)     # to find the denominatior sum over all k's for a n in N\n",
    "        self.gam = self.gam.T/sumd # find the posterior probabilities  \n",
    "        return self.gam.T \n",
    "    \n",
    "    def M_step(self):\n",
    "        self.gam = self.E_step()  # get the gammas \n",
    "        N_k = self.gam.sum(0)    # compute Nk by summing all the rows of gamma\n",
    "        \n",
    "        self.pi = N_k/self.N     # compute pi\n",
    "        \n",
    "        self.mu = np.dot(self.gam.T, self.X_Data.T)\n",
    "        self.mu = self.mu.T/N_k  # compute mu       \n",
    "        \n",
    "        for i in range(self.K):                    # compute sigma\n",
    "            for j in range(self.N):\n",
    "                dum = np.reshape((self.X_Data[:,j] -  self.mu[:,i]), (self.d,1)) # compute (X_n-mu_n)\n",
    "                self.sigma[i,:,:] += self.gam[j,i]*np.dot(dum, dum.T)           # compute (X_n-mu_n)(X_n-mu_n)^T\n",
    "            self.sigma[i,:,:] = self.sigma[i,:,:]/N_k[i]  # divide sigma of each mixture by N_k to compute sigma\n",
    "        \n",
    "        return self.pi, self.gam, self.mu, self.sigma\n",
    "    \n",
    "    def EM_Gauss(self):  # to compute log-likelihood and check convergence\n",
    "        error = 10\n",
    "        l_old = 0\n",
    "        iter = 0\n",
    "        while error>self.tol:\n",
    "            \n",
    "            self.pi, self.gam, self.mu, self.sigma = self.M_step()\n",
    "\n",
    "            l_new = 0.0\n",
    "            for i in range(self.N):\n",
    "                dum = 0.0\n",
    "                for j in range(self.K):\n",
    "                    dum += self.pi[j]*mult_gauss(self.mu[:,j], self.sigma[j,:,:]).pdf(self.X_Data[:,i])\n",
    "                dum = np.log(dum)\n",
    "                l_new += dum\n",
    "\n",
    "            error = abs(l_new-l_old)\n",
    "            l_old = l_new        \n",
    "            print('iter =', iter, ', error = ', error)\n",
    "            iter += 1\n",
    "        return np.array(self.pi), np.array(self.mu), np.array(self.sigma)"
   ]
  },
  {
   "cell_type": "markdown",
   "metadata": {},
   "source": [
    "## Generate data"
   ]
  },
  {
   "cell_type": "code",
   "execution_count": 3,
   "metadata": {},
   "outputs": [],
   "source": [
    "# def generate_data(mean, cov, pii, N):\n",
    "def generate_data(generators, N, pi):\n",
    "#     X_data = np.concatenate([np.random.multivariate_normal(mu, sigma, int(pi*N))\n",
    "#                     for pi, mu, sigma in zip(pii, mean, cov)])\n",
    "    draw = np.random.choice([0, 1, 2], N, p=pi.tolist())\n",
    "    unique, counts = np.unique(draw, return_counts=True)\n",
    "    \n",
    "    mixture_info = (dict(zip(unique, counts)))\n",
    "    \n",
    "    X_Data = [np.array(generators[i].rvs()) for i in draw]\n",
    "    X_Data = np.array(X_Data)\n",
    "    return X_Data.T, mixture_info\n",
    "\n",
    "def ploting(X_Data):\n",
    "\n",
    "    if X_Data.shape[1] == 2:\n",
    "        fig, ax = plt.subplots(num=1, clear=True)\n",
    "        handle = ax.plot(X_Data[:,0], X_Data[:,1], '.')\n",
    "        plt.axis('equal')\n",
    "#         plt.show()\n",
    "        \n",
    "    elif X_Data.shape[1] == 3:\n",
    "        fig = plt.figure()\n",
    "        ax = plt.axes(projection='3d')\n",
    "        ax.plot3D(X_Data[:,0], X_Data[:,1], X_Data[:,2], '.')\n",
    "        \n",
    "    else:\n",
    "        print(\"Can't plot dimension > 3 !!!\")\n",
    "\n",
    "    return None"
   ]
  },
  {
   "cell_type": "markdown",
   "metadata": {},
   "source": [
    "## Estimate the parametrs"
   ]
  },
  {
   "cell_type": "code",
   "execution_count": 22,
   "metadata": {
    "scrolled": false
   },
   "outputs": [
    {
     "name": "stdout",
     "output_type": "stream",
     "text": [
      "[[0.05769612 0.54593049 0.17084351]\n",
      " [0.78689245 0.64525789 0.49422898]]\n",
      "iter = 0 , error =  5818.532307869228\n",
      "iter = 1 , error =  131.3475461909402\n"
     ]
    },
    {
     "ename": "KeyboardInterrupt",
     "evalue": "",
     "output_type": "error",
     "traceback": [
      "\u001b[1;31m---------------------------------------------------------------------------\u001b[0m",
      "\u001b[1;31mKeyboardInterrupt\u001b[0m                         Traceback (most recent call last)",
      "\u001b[1;32m<ipython-input-22-50f5c9018145>\u001b[0m in \u001b[0;36m<module>\u001b[1;34m\u001b[0m\n\u001b[0;32m     24\u001b[0m \u001b[1;33m\u001b[0m\u001b[0m\n\u001b[0;32m     25\u001b[0m \u001b[0mobj\u001b[0m \u001b[1;33m=\u001b[0m \u001b[0mEM_Gaussian_Misture\u001b[0m\u001b[1;33m(\u001b[0m\u001b[0mX_Data\u001b[0m\u001b[1;33m,\u001b[0m \u001b[0mK\u001b[0m\u001b[1;33m,\u001b[0m \u001b[0mtol\u001b[0m\u001b[1;33m)\u001b[0m\u001b[1;33m\u001b[0m\u001b[1;33m\u001b[0m\u001b[0m\n\u001b[1;32m---> 26\u001b[1;33m \u001b[0mpi_hat\u001b[0m\u001b[1;33m,\u001b[0m \u001b[0mmu_hat\u001b[0m\u001b[1;33m,\u001b[0m \u001b[0msigma_hat\u001b[0m \u001b[1;33m=\u001b[0m \u001b[0mobj\u001b[0m\u001b[1;33m.\u001b[0m\u001b[0mEM_Gauss\u001b[0m\u001b[1;33m(\u001b[0m\u001b[1;33m)\u001b[0m\u001b[1;33m\u001b[0m\u001b[1;33m\u001b[0m\u001b[0m\n\u001b[0m\u001b[0;32m     27\u001b[0m \u001b[1;33m\u001b[0m\u001b[0m\n\u001b[0;32m     28\u001b[0m \u001b[0mprint\u001b[0m\u001b[1;33m(\u001b[0m\u001b[1;34m'\\n ----------------- The converged parametrs are ----------------- \\n'\u001b[0m\u001b[1;33m)\u001b[0m\u001b[1;33m\u001b[0m\u001b[1;33m\u001b[0m\u001b[0m\n",
      "\u001b[1;32m<ipython-input-21-d420d193d7d6>\u001b[0m in \u001b[0;36mEM_Gauss\u001b[1;34m(self)\u001b[0m\n\u001b[0;32m     50\u001b[0m                 \u001b[0mdum\u001b[0m \u001b[1;33m=\u001b[0m \u001b[1;36m0.0\u001b[0m\u001b[1;33m\u001b[0m\u001b[1;33m\u001b[0m\u001b[0m\n\u001b[0;32m     51\u001b[0m                 \u001b[1;32mfor\u001b[0m \u001b[0mj\u001b[0m \u001b[1;32min\u001b[0m \u001b[0mrange\u001b[0m\u001b[1;33m(\u001b[0m\u001b[0mself\u001b[0m\u001b[1;33m.\u001b[0m\u001b[0mK\u001b[0m\u001b[1;33m)\u001b[0m\u001b[1;33m:\u001b[0m\u001b[1;33m\u001b[0m\u001b[1;33m\u001b[0m\u001b[0m\n\u001b[1;32m---> 52\u001b[1;33m                     \u001b[0mdum\u001b[0m \u001b[1;33m+=\u001b[0m \u001b[0mself\u001b[0m\u001b[1;33m.\u001b[0m\u001b[0mpi\u001b[0m\u001b[1;33m[\u001b[0m\u001b[0mj\u001b[0m\u001b[1;33m]\u001b[0m\u001b[1;33m*\u001b[0m\u001b[0mmult_gauss\u001b[0m\u001b[1;33m(\u001b[0m\u001b[0mself\u001b[0m\u001b[1;33m.\u001b[0m\u001b[0mmu\u001b[0m\u001b[1;33m[\u001b[0m\u001b[1;33m:\u001b[0m\u001b[1;33m,\u001b[0m\u001b[0mj\u001b[0m\u001b[1;33m]\u001b[0m\u001b[1;33m,\u001b[0m \u001b[0mself\u001b[0m\u001b[1;33m.\u001b[0m\u001b[0msigma\u001b[0m\u001b[1;33m[\u001b[0m\u001b[0mj\u001b[0m\u001b[1;33m,\u001b[0m\u001b[1;33m:\u001b[0m\u001b[1;33m,\u001b[0m\u001b[1;33m:\u001b[0m\u001b[1;33m]\u001b[0m\u001b[1;33m)\u001b[0m\u001b[1;33m.\u001b[0m\u001b[0mpdf\u001b[0m\u001b[1;33m(\u001b[0m\u001b[0mself\u001b[0m\u001b[1;33m.\u001b[0m\u001b[0mX_Data\u001b[0m\u001b[1;33m[\u001b[0m\u001b[1;33m:\u001b[0m\u001b[1;33m,\u001b[0m\u001b[0mi\u001b[0m\u001b[1;33m]\u001b[0m\u001b[1;33m)\u001b[0m\u001b[1;33m\u001b[0m\u001b[1;33m\u001b[0m\u001b[0m\n\u001b[0m\u001b[0;32m     53\u001b[0m                 \u001b[0mdum\u001b[0m \u001b[1;33m=\u001b[0m \u001b[0mnp\u001b[0m\u001b[1;33m.\u001b[0m\u001b[0mlog\u001b[0m\u001b[1;33m(\u001b[0m\u001b[0mdum\u001b[0m\u001b[1;33m)\u001b[0m\u001b[1;33m\u001b[0m\u001b[1;33m\u001b[0m\u001b[0m\n\u001b[0;32m     54\u001b[0m                 \u001b[0ml_new\u001b[0m \u001b[1;33m+=\u001b[0m \u001b[0mdum\u001b[0m\u001b[1;33m\u001b[0m\u001b[1;33m\u001b[0m\u001b[0m\n",
      "\u001b[1;32m~\\Anaconda3\\lib\\site-packages\\scipy\\stats\\_multivariate.py\u001b[0m in \u001b[0;36m__call__\u001b[1;34m(self, mean, cov, allow_singular, seed)\u001b[0m\n\u001b[0;32m    356\u001b[0m         return multivariate_normal_frozen(mean, cov,\n\u001b[0;32m    357\u001b[0m                                           \u001b[0mallow_singular\u001b[0m\u001b[1;33m=\u001b[0m\u001b[0mallow_singular\u001b[0m\u001b[1;33m,\u001b[0m\u001b[1;33m\u001b[0m\u001b[1;33m\u001b[0m\u001b[0m\n\u001b[1;32m--> 358\u001b[1;33m                                           seed=seed)\n\u001b[0m\u001b[0;32m    359\u001b[0m \u001b[1;33m\u001b[0m\u001b[0m\n\u001b[0;32m    360\u001b[0m     \u001b[1;32mdef\u001b[0m \u001b[0m_process_parameters\u001b[0m\u001b[1;33m(\u001b[0m\u001b[0mself\u001b[0m\u001b[1;33m,\u001b[0m \u001b[0mdim\u001b[0m\u001b[1;33m,\u001b[0m \u001b[0mmean\u001b[0m\u001b[1;33m,\u001b[0m \u001b[0mcov\u001b[0m\u001b[1;33m)\u001b[0m\u001b[1;33m:\u001b[0m\u001b[1;33m\u001b[0m\u001b[1;33m\u001b[0m\u001b[0m\n",
      "\u001b[1;32m~\\Anaconda3\\lib\\site-packages\\scipy\\stats\\_multivariate.py\u001b[0m in \u001b[0;36m__init__\u001b[1;34m(self, mean, cov, allow_singular, seed, maxpts, abseps, releps)\u001b[0m\n\u001b[0;32m    726\u001b[0m         self.dim, self.mean, self.cov = self._dist._process_parameters(\n\u001b[0;32m    727\u001b[0m                                                             None, mean, cov)\n\u001b[1;32m--> 728\u001b[1;33m         \u001b[0mself\u001b[0m\u001b[1;33m.\u001b[0m\u001b[0mcov_info\u001b[0m \u001b[1;33m=\u001b[0m \u001b[0m_PSD\u001b[0m\u001b[1;33m(\u001b[0m\u001b[0mself\u001b[0m\u001b[1;33m.\u001b[0m\u001b[0mcov\u001b[0m\u001b[1;33m,\u001b[0m \u001b[0mallow_singular\u001b[0m\u001b[1;33m=\u001b[0m\u001b[0mallow_singular\u001b[0m\u001b[1;33m)\u001b[0m\u001b[1;33m\u001b[0m\u001b[1;33m\u001b[0m\u001b[0m\n\u001b[0m\u001b[0;32m    729\u001b[0m         \u001b[1;32mif\u001b[0m \u001b[1;32mnot\u001b[0m \u001b[0mmaxpts\u001b[0m\u001b[1;33m:\u001b[0m\u001b[1;33m\u001b[0m\u001b[1;33m\u001b[0m\u001b[0m\n\u001b[0;32m    730\u001b[0m             \u001b[0mmaxpts\u001b[0m \u001b[1;33m=\u001b[0m \u001b[1;36m1000000\u001b[0m \u001b[1;33m*\u001b[0m \u001b[0mself\u001b[0m\u001b[1;33m.\u001b[0m\u001b[0mdim\u001b[0m\u001b[1;33m\u001b[0m\u001b[1;33m\u001b[0m\u001b[0m\n",
      "\u001b[1;32m~\\Anaconda3\\lib\\site-packages\\scipy\\stats\\_multivariate.py\u001b[0m in \u001b[0;36m__init__\u001b[1;34m(self, M, cond, rcond, lower, check_finite, allow_singular)\u001b[0m\n\u001b[0;32m    150\u001b[0m         \u001b[1;31m# Note that eigh takes care of array conversion, chkfinite,\u001b[0m\u001b[1;33m\u001b[0m\u001b[1;33m\u001b[0m\u001b[1;33m\u001b[0m\u001b[0m\n\u001b[0;32m    151\u001b[0m         \u001b[1;31m# and assertion that the matrix is square.\u001b[0m\u001b[1;33m\u001b[0m\u001b[1;33m\u001b[0m\u001b[1;33m\u001b[0m\u001b[0m\n\u001b[1;32m--> 152\u001b[1;33m         \u001b[0ms\u001b[0m\u001b[1;33m,\u001b[0m \u001b[0mu\u001b[0m \u001b[1;33m=\u001b[0m \u001b[0mscipy\u001b[0m\u001b[1;33m.\u001b[0m\u001b[0mlinalg\u001b[0m\u001b[1;33m.\u001b[0m\u001b[0meigh\u001b[0m\u001b[1;33m(\u001b[0m\u001b[0mM\u001b[0m\u001b[1;33m,\u001b[0m \u001b[0mlower\u001b[0m\u001b[1;33m=\u001b[0m\u001b[0mlower\u001b[0m\u001b[1;33m,\u001b[0m \u001b[0mcheck_finite\u001b[0m\u001b[1;33m=\u001b[0m\u001b[0mcheck_finite\u001b[0m\u001b[1;33m)\u001b[0m\u001b[1;33m\u001b[0m\u001b[1;33m\u001b[0m\u001b[0m\n\u001b[0m\u001b[0;32m    153\u001b[0m \u001b[1;33m\u001b[0m\u001b[0m\n\u001b[0;32m    154\u001b[0m         \u001b[0meps\u001b[0m \u001b[1;33m=\u001b[0m \u001b[0m_eigvalsh_to_eps\u001b[0m\u001b[1;33m(\u001b[0m\u001b[0ms\u001b[0m\u001b[1;33m,\u001b[0m \u001b[0mcond\u001b[0m\u001b[1;33m,\u001b[0m \u001b[0mrcond\u001b[0m\u001b[1;33m)\u001b[0m\u001b[1;33m\u001b[0m\u001b[1;33m\u001b[0m\u001b[0m\n",
      "\u001b[1;32m~\\Anaconda3\\lib\\site-packages\\scipy\\linalg\\decomp.py\u001b[0m in \u001b[0;36meigh\u001b[1;34m(a, b, lower, eigvals_only, overwrite_a, overwrite_b, turbo, eigvals, type, check_finite)\u001b[0m\n\u001b[0;32m    430\u001b[0m         \u001b[1;32mif\u001b[0m \u001b[0meigvals\u001b[0m \u001b[1;32mis\u001b[0m \u001b[1;32mNone\u001b[0m\u001b[1;33m:\u001b[0m\u001b[1;33m\u001b[0m\u001b[1;33m\u001b[0m\u001b[0m\n\u001b[0;32m    431\u001b[0m             w, v, info = evr(a1, uplo=uplo, jobz=_job, range=\"A\", il=1,\n\u001b[1;32m--> 432\u001b[1;33m                              iu=a1.shape[0], overwrite_a=overwrite_a)\n\u001b[0m\u001b[0;32m    433\u001b[0m         \u001b[1;32melse\u001b[0m\u001b[1;33m:\u001b[0m\u001b[1;33m\u001b[0m\u001b[1;33m\u001b[0m\u001b[0m\n\u001b[0;32m    434\u001b[0m             \u001b[1;33m(\u001b[0m\u001b[0mlo\u001b[0m\u001b[1;33m,\u001b[0m \u001b[0mhi\u001b[0m\u001b[1;33m)\u001b[0m \u001b[1;33m=\u001b[0m \u001b[0meigvals\u001b[0m\u001b[1;33m\u001b[0m\u001b[1;33m\u001b[0m\u001b[0m\n",
      "\u001b[1;31mKeyboardInterrupt\u001b[0m: "
     ]
    }
   ],
   "source": [
    "## ------ 2D data generation ------------ ##\n",
    "pi = np.array([0.4, 0.3, 0.3])\n",
    "generators = [\n",
    "    mult_gauss([-10, 10], [[5, 0], [0, 7]]),             \n",
    "    mult_gauss([2, -5], [[10, 0], [0, 3]]), \n",
    "    mult_gauss([1, 0], [[5, 0], [0, 15]])]\n",
    "\n",
    "## ------ 3D data generation ------------ ##\n",
    "# mean = np.array([[20,10,1], [-22,15,10], [-30, 10,1]])\n",
    "# cov = np.array([[[1, 0, 0], [0, 1, 0], [0, 0, 1]], [[2,0,0],[0,2,0], [0,0,2]], [[3,0,0],[0,3,0],[0,0,3]] ])\n",
    "# pi = np.array([0.3, 0.2, 0.1])\n",
    "\n",
    "\n",
    "\n",
    "\n",
    "N = 1000\n",
    "K = 3\n",
    "tol = 0.0000001\n",
    "Data, mixture_info =  generate_data(generators, N, pi)\n",
    "# X_data = input(\"Input X_data:\")\n",
    "# print(Data.shape)\n",
    "\n",
    "X_Data = Data\n",
    "\n",
    "obj = EM_Gaussian_Misture(X_Data, K, tol)\n",
    "pi_hat, mu_hat, sigma_hat = obj.EM_Gauss()\n",
    "\n",
    "print('\\n ----------------- The converged parametrs are ----------------- \\n')\n",
    "print('pi_hat = \\n', pi_hat, '\\n')\n",
    "print('mu_hat = \\n', mu_hat, '\\n')\n",
    "print('Sigma_hat = \\n', sigma_hat, '\\n')"
   ]
  },
  {
   "cell_type": "markdown",
   "metadata": {},
   "source": [
    "## Validate, visualize, and compare with original data:\n"
   ]
  },
  {
   "cell_type": "code",
   "execution_count": 5,
   "metadata": {},
   "outputs": [],
   "source": [
    "generators_hat = [\n",
    "    mult_gauss(mu_hat[:,0], sigma_hat[0,:,:]),             \n",
    "    mult_gauss(mu_hat[:,1], sigma_hat[1,:,:]), \n",
    "    mult_gauss(mu_hat[:,2], sigma_hat[2,:,:])]\n",
    "\n",
    "X_Data_hat, mixture_info_hat =  generate_data(generators_hat, N, pi_hat)"
   ]
  },
  {
   "cell_type": "markdown",
   "metadata": {},
   "source": [
    "### 1. Check if the Covarinaces are symmetric and positive definite:"
   ]
  },
  {
   "cell_type": "code",
   "execution_count": 6,
   "metadata": {},
   "outputs": [
    {
     "name": "stdout",
     "output_type": "stream",
     "text": [
      "(3, 2, 2)\n",
      "Sigma_hat_0 = \n",
      " [[4.30878194 0.31068457]\n",
      " [0.31068457 6.78427697]]  \n",
      " Eignevalues of Sigma_hat_0 = [4.27038534 6.82267357] \n",
      "\n",
      "Sigma_hat_1 = \n",
      " [[10.23366209  0.17495183]\n",
      " [ 0.17495183  3.10537652]]  \n",
      " Eignevalues of Sigma_hat_1 = [10.2379534   3.10108521] \n",
      "\n",
      "Sigma_hat_2 = \n",
      " [[ 5.46086769  0.24965129]\n",
      " [ 0.24965129 13.21201622]]  \n",
      " Eignevalues of Sigma_hat_2 = [ 5.45283517 13.22004874] \n",
      "\n"
     ]
    }
   ],
   "source": [
    "print(sigma_hat.shape)\n",
    "for i in range(sigma_hat.shape[0]):\n",
    "    ev, evec = LA.eig(sigma_hat[i,:,:])\n",
    "    print('Sigma_hat_' + str(i),'= \\n',sigma_hat[i,:,:],' \\n Eignevalues of Sigma_hat_'+str(i),'=',ev, '\\n')"
   ]
  },
  {
   "cell_type": "markdown",
   "metadata": {},
   "source": [
    "### 2. Check if the mixture size of the original data and the data generated by the estimated parameters are close:"
   ]
  },
  {
   "cell_type": "code",
   "execution_count": 7,
   "metadata": {},
   "outputs": [
    {
     "name": "stdout",
     "output_type": "stream",
     "text": [
      "mixture info of the original data: \n",
      " pi= [0.4 0.3 0.3] \n",
      " mixture_info =  {0: 397, 1: 301, 2: 302} \n",
      "\n",
      "mixture info of the estimated data: \n",
      " pi_hat= [0.39686094 0.33433119 0.26880787] \n",
      " mixture_info =  {0: 378, 1: 348, 2: 274} \n",
      "\n"
     ]
    }
   ],
   "source": [
    "print('mixture info of the original data: \\n', 'pi=', pi,'\\n','mixture_info = ', mixture_info, '\\n')\n",
    "print('mixture info of the estimated data: \\n', 'pi_hat=', pi_hat,'\\n','mixture_info = ', mixture_info_hat, '\\n')\n"
   ]
  },
  {
   "cell_type": "markdown",
   "metadata": {},
   "source": [
    "### 3. Plot the original data and the data generated by the estimated parameters:"
   ]
  },
  {
   "cell_type": "code",
   "execution_count": 8,
   "metadata": {},
   "outputs": [
    {
     "data": {
      "image/png": "[encoded data removed]",
      "text/plain": [
       "<Figure size 432x288 with 1 Axes>"
      ]
     },
     "metadata": {
      "needs_background": "light"
     },
     "output_type": "display_data"
    }
   ],
   "source": [
    "ploting(X_Data.T)"
   ]
  },
  {
   "cell_type": "code",
   "execution_count": 9,
   "metadata": {},
   "outputs": [
    {
     "data": {
      "image/png": "[encoded data removed]",
      "text/plain": [
       "<Figure size 432x288 with 1 Axes>"
      ]
     },
     "metadata": {
      "needs_background": "light"
     },
     "output_type": "display_data"
    }
   ],
   "source": [
    "ploting(X_Data_hat.T)"
   ]
  },
  {
   "cell_type": "code",
   "execution_count": 32,
   "metadata": {},
   "outputs": [
    {
     "name": "stdout",
     "output_type": "stream",
     "text": [
      "(2, 1000)\n",
      "[[-9.83804751  1.67035816  1.27584582]\n",
      " [ 9.82152241 -4.5455488   2.50316297]]\n"
     ]
    }
   ],
   "source": [
    "print(X_Data.shape)\n",
    "kmeans = KMeans(n_clusters=3, random_state=1).fit(X_Data.T)\n",
    "lables = kmeans.labels_\n",
    "print(np.array(kmeans.cluster_centers_).T)"
   ]
  },
  {
   "cell_type": "code",
   "execution_count": 42,
   "metadata": {},
   "outputs": [
    {
     "name": "stdout",
     "output_type": "stream",
     "text": [
      "[417 416 167]\n"
     ]
    }
   ],
   "source": [
    "unique, counts = np.unique(lables, return_counts=True)\n",
    "mixture_info = (((unique, counts)))\n",
    "\n",
    "# print(np.array(np.asarray(mixture_info)))\n",
    "print(counts)"
   ]
  },
  {
   "cell_type": "code",
   "execution_count": null,
   "metadata": {},
   "outputs": [],
   "source": []
  },
  {
   "cell_type": "code",
   "execution_count": null,
   "metadata": {},
   "outputs": [],
   "source": []
  },
  {
   "cell_type": "code",
   "execution_count": null,
   "metadata": {},
   "outputs": [],
   "source": []
  }
 ],
 "metadata": {
  "kernelspec": {
   "display_name": "Python 3",
   "language": "python",
   "name": "python3"
  },
  "language_info": {
   "codemirror_mode": {
    "name": "ipython",
    "version": 3
   },
   "file_extension": ".py",
   "mimetype": "text/x-python",
   "name": "python",
   "nbconvert_exporter": "python",
   "pygments_lexer": "ipython3",
   "version": "3.7.1"
  }
 },
 "nbformat": 4,
 "nbformat_minor": 2
}
