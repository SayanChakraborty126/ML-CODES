{
 "cells": [
  {
   "cell_type": "code",
   "execution_count": 1,
   "metadata": {},
   "outputs": [],
   "source": [
    "from scipy.stats import multivariate_normal as mult_gauss\n",
    "import numpy as np\n",
    "import random\n",
    "from numpy import linalg as LA\n",
    "import sklearn as sklearn\n",
    "import matplotlib.pyplot as plt\n",
    "from mpl_toolkits import mplot3d\n",
    "from pylab import *\n",
    "from sklearn.cluster import KMeans\n",
    "# %matplotlib qt"
   ]
  },
  {
   "cell_type": "markdown",
   "metadata": {},
   "source": [
    "## The Expectation Maximization algorithm for a Gaussian mixture model is implemented as follows:"
   ]
  },
  {
   "cell_type": "code",
   "execution_count": 2,
   "metadata": {},
   "outputs": [],
   "source": [
    "class EM_Gaussian_Misture(object):\n",
    "    \n",
    "    def __init__(self, X_data, K, tol):\n",
    "        self.X_Data = X_data                       # X_data has dimension in the rows and observations in the coloumns\n",
    "        self.K = K                                 # Mixture size\n",
    "        self.d, self.N = self.X_Data.shape              # find the shape of the data\n",
    "        self.gam = np.zeros((self.N,self.K))            # initialize all gammas as zero\n",
    "        \n",
    "        kmeans = KMeans(n_clusters=self.K, random_state=1).fit(self.X_Data.T)\n",
    "        lables = kmeans.labels_\n",
    "        unique, counts = np.unique(lables, return_counts=True)\n",
    "        \n",
    "#         self.pi = np.random.uniform(0,1,self.K)         # initialize the contributions\n",
    "        self.pi = np.array(counts)\n",
    "#         self.mu = np.random.random((self.d,self.K))     # initialize the means\n",
    "        self.mu = np.array(kmeans.cluster_centers_).T\n",
    "        self.sigma =  np.array([np.eye(self.d)]*self.K) # initialize the covariances\n",
    "        self.tol = tol\n",
    "        \n",
    "\n",
    "    def E_step(self):  # compute the posteriori probabilities\n",
    "        for i in range(self.N):\n",
    "            for j in range(self.K):\n",
    "                self.gam[i,j] = self.pi[j]*mult_gauss(self.mu[:,j], self.sigma[j,:,:]).pdf(self.X_Data[:,i]) # first find the numerator for all n's in N and k's in K\n",
    "        sumd = self.gam.sum(1)     # to find the denominatior sum over all k's for a n in N\n",
    "        self.gam = self.gam.T/sumd # find the posterior probabilities  \n",
    "        return self.gam.T \n",
    "    \n",
    "    def M_step(self):\n",
    "        self.gam = self.E_step()  # get the gammas \n",
    "        N_k = self.gam.sum(0)    # compute Nk by summing all the rows of gamma\n",
    "        \n",
    "        self.pi = N_k/self.N     # compute pi\n",
    "        \n",
    "        self.mu = np.dot(self.gam.T, self.X_Data.T)\n",
    "        self.mu = self.mu.T/N_k  # compute mu       \n",
    "        \n",
    "        for i in range(self.K):                    # compute sigma\n",
    "            for j in range(self.N):\n",
    "                dum = np.reshape((self.X_Data[:,j] -  self.mu[:,i]), (self.d,1)) # compute (X_n-mu_n)\n",
    "                self.sigma[i,:,:] += self.gam[j,i]*np.dot(dum, dum.T)           # compute (X_n-mu_n)(X_n-mu_n)^T\n",
    "            self.sigma[i,:,:] = self.sigma[i,:,:]/N_k[i]  # divide sigma of each mixture by N_k to compute sigma\n",
    "        \n",
    "        return self.pi, self.gam, self.mu, self.sigma\n",
    "    \n",
    "    def EM_Gauss(self):  # to compute log-likelihood and check convergence\n",
    "        error = 10\n",
    "        l_old = 0\n",
    "        iter = 0\n",
    "        while error>self.tol:\n",
    "            \n",
    "            self.pi, self.gam, self.mu, self.sigma = self.M_step()\n",
    "\n",
    "            l_new = 0.0\n",
    "            for i in range(self.N):\n",
    "                dum = 0.0\n",
    "                for j in range(self.K):\n",
    "                    dum += self.pi[j]*mult_gauss(self.mu[:,j], self.sigma[j,:,:]).pdf(self.X_Data[:,i])\n",
    "                dum = np.log(dum)\n",
    "                l_new += dum\n",
    "\n",
    "            error = abs(l_new-l_old)\n",
    "            l_old = l_new        \n",
    "            print('iter =', iter, ', error = ', error)\n",
    "            iter += 1\n",
    "        return np.array(self.pi), np.array(self.mu), np.array(self.sigma)"
   ]
  },
  {
   "cell_type": "markdown",
   "metadata": {},
   "source": [
    "## Generate data"
   ]
  },
  {
   "cell_type": "code",
   "execution_count": 3,
   "metadata": {},
   "outputs": [],
   "source": [
    "# def generate_data(mean, cov, pii, N):\n",
    "def generate_data(generators, N, pi):\n",
    "#     X_data = np.concatenate([np.random.multivariate_normal(mu, sigma, int(pi*N))\n",
    "#                     for pi, mu, sigma in zip(pii, mean, cov)])\n",
    "    draw = np.random.choice([0, 1, 2], N, p=pi.tolist())\n",
    "    unique, counts = np.unique(draw, return_counts=True)\n",
    "    \n",
    "    mixture_info = (dict(zip(unique, counts)))\n",
    "    \n",
    "    X_Data = [np.array(generators[i].rvs()) for i in draw]\n",
    "    X_Data = np.array(X_Data)\n",
    "    return X_Data.T, mixture_info\n",
    "\n",
    "def ploting(X_Data):\n",
    "\n",
    "    if X_Data.shape[1] == 2:\n",
    "        fig, ax = plt.subplots(num=1, clear=True)\n",
    "        handle = ax.plot(X_Data[:,0], X_Data[:,1], '.')\n",
    "        plt.axis('equal')\n",
    "#         plt.show()\n",
    "        \n",
    "    elif X_Data.shape[1] == 3:\n",
    "        fig = plt.figure()\n",
    "        ax = plt.axes(projection='3d')\n",
    "        ax.plot3D(X_Data[:,0], X_Data[:,1], X_Data[:,2], '.')\n",
    "        \n",
    "    else:\n",
    "        print(\"Can't plot dimension > 3 !!!\")\n",
    "\n",
    "    return None"
   ]
  },
  {
   "cell_type": "markdown",
   "metadata": {},
   "source": [
    "## Estimate the parametrs"
   ]
  },
  {
   "cell_type": "code",
   "execution_count": null,
   "metadata": {
    "scrolled": false
   },
   "outputs": [
    {
     "name": "stdout",
     "output_type": "stream",
     "text": [
      "iter = 0 , error =  5611.233506575269\n",
      "iter = 1 , error =  4.939062457987347\n",
      "iter = 2 , error =  1.2190280422328215\n",
      "iter = 3 , error =  0.6889031714099474\n",
      "iter = 4 , error =  0.5372922534015743\n",
      "iter = 5 , error =  0.46126670141984505\n",
      "iter = 6 , error =  0.40644831392182823\n",
      "iter = 7 , error =  0.3601530253417877\n",
      "iter = 8 , error =  0.31896054692242615\n",
      "iter = 9 , error =  0.2818298412666991\n",
      "iter = 10 , error =  0.24835441859795537\n",
      "iter = 11 , error =  0.21827966394175746\n",
      "iter = 12 , error =  0.19137088426577975\n",
      "iter = 13 , error =  0.16738521589013544\n",
      "iter = 14 , error =  0.1460735507107529\n",
      "iter = 15 , error =  0.12718903259155923\n",
      "iter = 16 , error =  0.11049476667812996\n",
      "iter = 17 , error =  0.0957688903563394\n",
      "iter = 18 , error =  0.0828070678990116\n",
      "iter = 19 , error =  0.07142305305296759\n",
      "iter = 20 , error =  0.06144802974540653\n",
      "iter = 21 , error =  0.05272931771378353\n",
      "iter = 22 , error =  0.04512885684562207\n",
      "iter = 23 , error =  0.03852172413826338\n",
      "iter = 24 , error =  0.03279481086701708\n",
      "iter = 25 , error =  0.02784570131370856\n",
      "iter = 26 , error =  0.023581743333124905\n",
      "iter = 27 , error =  0.01991927452672826\n",
      "iter = 28 , error =  0.016782961686658382\n",
      "iter = 29 , error =  0.014105213949733297\n",
      "iter = 30 , error =  0.01182563894053601\n",
      "iter = 31 , error =  0.009890521452689427\n",
      "iter = 32 , error =  0.008252313003140443\n",
      "iter = 33 , error =  0.006869127700156241\n",
      "iter = 34 , error =  0.005704245669221564\n",
      "iter = 35 , error =  0.004725627289190015\n",
      "iter = 36 , error =  0.003905443471921899\n",
      "iter = 37 , error =  0.00321962675479881\n",
      "iter = 38 , error =  0.0026474481619516155\n",
      "iter = 39 , error =  0.00217112296832056\n",
      "iter = 40 , error =  0.0017754474811226828\n",
      "iter = 41 , error =  0.0014474685685854638\n",
      "iter = 42 , error =  0.0011761850937546114\n",
      "iter = 43 , error =  0.0009522812861177954\n",
      "iter = 44 , error =  0.0007678900756218354\n",
      "iter = 45 , error =  0.0006163848102005431\n",
      "iter = 46 , error =  0.0004921969566566986\n",
      "iter = 47 , error =  0.0003906576230292558\n",
      "iter = 48 , error =  0.0003078604686379549\n",
      "iter = 49 , error =  0.00024054365349002182\n",
      "iter = 50 , error =  0.0001859886306192493\n",
      "iter = 51 , error =  0.00014193370952853002\n",
      "iter = 52 , error =  0.00010650073727447307\n",
      "iter = 53 , error =  7.813243792043068e-05\n",
      "iter = 54 , error =  5.5539937420689967e-05\n",
      "iter = 55 , error =  3.7658177461707965e-05\n",
      "iter = 56 , error =  2.3608500669070054e-05\n",
      "iter = 57 , error =  1.2667295777646359e-05\n",
      "iter = 58 , error =  4.239514055370819e-06\n",
      "iter = 59 , error =  2.16306398215238e-06\n",
      "iter = 60 , error =  6.940526873222552e-06\n",
      "iter = 61 , error =  1.0419868885946926e-05\n",
      "iter = 62 , error =  1.2867913937952835e-05\n",
      "iter = 63 , error =  1.4501823898172006e-05\n",
      "iter = 64 , error =  1.5497917956963647e-05\n",
      "iter = 65 , error =  1.5998919479898177e-05\n",
      "iter = 66 , error =  1.6120059626700822e-05\n",
      "iter = 67 , error =  1.5953934052959085e-05\n",
      "iter = 68 , error =  1.5574762073811144e-05\n",
      "iter = 69 , error =  1.5041665392345749e-05\n",
      "iter = 70 , error =  1.4401516637008172e-05\n",
      "iter = 71 , error =  1.3691201274923515e-05\n",
      "iter = 72 , error =  1.293962759518763e-05\n",
      "iter = 73 , error =  1.2169010005891323e-05\n",
      "iter = 74 , error =  1.1396473382774275e-05\n",
      "iter = 75 , error =  1.063479339791229e-05\n",
      "iter = 76 , error =  9.893477908917703e-06\n",
      "iter = 77 , error =  9.179246262647212e-06\n",
      "iter = 78 , error =  8.496766895405017e-06\n",
      "iter = 79 , error =  7.84901112638181e-06\n",
      "iter = 80 , error =  7.237688805616926e-06\n",
      "iter = 81 , error =  6.663406566076446e-06\n",
      "iter = 82 , error =  6.126154403318651e-06\n",
      "iter = 83 , error =  5.625252924801316e-06\n",
      "iter = 84 , error =  5.1596089178929105e-06\n",
      "iter = 85 , error =  4.727869963971898e-06\n",
      "iter = 86 , error =  4.328463546698913e-06\n",
      "iter = 87 , error =  3.959702553402167e-06\n",
      "iter = 88 , error =  3.6197916415403597e-06\n",
      "iter = 89 , error =  3.3069927667384036e-06\n",
      "iter = 90 , error =  3.019540599780157e-06\n",
      "iter = 91 , error =  2.7556334316614084e-06\n",
      "iter = 92 , error =  2.5136714612017386e-06\n",
      "iter = 93 , error =  2.291987584612798e-06\n",
      "iter = 94 , error =  2.0890993255306967e-06\n",
      "iter = 95 , error =  1.9035287550650537e-06\n",
      "iter = 96 , error =  1.7339125406579114e-06\n",
      "iter = 97 , error =  1.5789837561897002e-06\n",
      "iter = 98 , error =  1.4375318642123602e-06\n",
      "iter = 99 , error =  1.3084745660307817e-06\n",
      "iter = 100 , error =  1.1907659427379258e-06\n",
      "iter = 101 , error =  1.0834210115717724e-06\n",
      "iter = 102 , error =  9.856221367954277e-07\n",
      "iter = 103 , error =  8.96506207936909e-07\n",
      "iter = 104 , error =  8.153247108566575e-07\n",
      "iter = 105 , error =  7.414355422952212e-07\n",
      "iter = 106 , error =  6.741265679011121e-07\n",
      "iter = 107 , error =  6.129012035671622e-07\n",
      "iter = 108 , error =  5.571655492531136e-07\n",
      "iter = 109 , error =  5.064666765974835e-07\n",
      "iter = 110 , error =  4.6032982936594635e-07\n",
      "iter = 111 , error =  4.183839337201789e-07\n",
      "iter = 112 , error =  3.8024427340133116e-07\n",
      "iter = 113 , error =  3.45538865076378e-07\n"
     ]
    }
   ],
   "source": [
    "## ------ 2D data generation ------------ ##\n",
    "pi = np.array([0.4, 0.3, 0.3])\n",
    "generators = [\n",
    "    mult_gauss([-10, 10], [[5, 0], [0, 7]]),             \n",
    "    mult_gauss([2, -5], [[10, 0], [0, 3]]), \n",
    "    mult_gauss([1, 1], [[5, 0], [0, 15]])]\n",
    "\n",
    "## ------ 3D data generation ------------ ##\n",
    "# mean = np.array([[20,10,1], [-22,15,10], [-30, 10,1]])\n",
    "# cov = np.array([[[1, 0, 0], [0, 1, 0], [0, 0, 1]], [[2,0,0],[0,2,0], [0,0,2]], [[3,0,0],[0,3,0],[0,0,3]] ])\n",
    "# pi = np.array([0.3, 0.2, 0.1])\n",
    "\n",
    "\n",
    "\n",
    "\n",
    "N = 1000\n",
    "K = 3\n",
    "tol = 0.0000001\n",
    "Data, mixture_info =  generate_data(generators, N, pi)\n",
    "# X_data = input(\"Input X_data:\")\n",
    "# print(Data.shape)\n",
    "\n",
    "X_Data = Data\n",
    "\n",
    "obj = EM_Gaussian_Misture(X_Data, K, tol)\n",
    "pi_hat, mu_hat, sigma_hat = obj.EM_Gauss()\n",
    "\n",
    "print('\\n ----------------- The converged parametrs are ----------------- \\n')\n",
    "print('pi_hat = \\n', pi_hat, '\\n')\n",
    "print('mu_hat = \\n', mu_hat, '\\n')\n",
    "print('Sigma_hat = \\n', sigma_hat, '\\n')"
   ]
  },
  {
   "cell_type": "markdown",
   "metadata": {},
   "source": [
    "## Validate, visualize, and compare with original data:\n"
   ]
  },
  {
   "cell_type": "code",
   "execution_count": null,
   "metadata": {},
   "outputs": [],
   "source": [
    "generators_hat = [\n",
    "    mult_gauss(mu_hat[:,0], sigma_hat[0,:,:]),             \n",
    "    mult_gauss(mu_hat[:,1], sigma_hat[1,:,:]), \n",
    "    mult_gauss(mu_hat[:,2], sigma_hat[2,:,:])]\n",
    "\n",
    "X_Data_hat, mixture_info_hat =  generate_data(generators_hat, N, pi_hat)"
   ]
  },
  {
   "cell_type": "markdown",
   "metadata": {},
   "source": [
    "### 1. Check if the Covarinaces are symmetric and positive definite:"
   ]
  },
  {
   "cell_type": "code",
   "execution_count": null,
   "metadata": {},
   "outputs": [],
   "source": [
    "print(sigma_hat.shape)\n",
    "for i in range(sigma_hat.shape[0]):\n",
    "    ev, evec = LA.eig(sigma_hat[i,:,:])\n",
    "    print('Sigma_hat_' + str(i),'= \\n',sigma_hat[i,:,:],' \\n Eignevalues of Sigma_hat_'+str(i),'=',ev, '\\n')"
   ]
  },
  {
   "cell_type": "markdown",
   "metadata": {},
   "source": [
    "### 2. Check if the mixture size of the original data and the data generated by the estimated parameters are close:"
   ]
  },
  {
   "cell_type": "code",
   "execution_count": null,
   "metadata": {},
   "outputs": [],
   "source": [
    "print('mixture info of the original data: \\n', 'pi=', pi,'\\n','mixture_info = ', mixture_info, '\\n')\n",
    "print('mixture info of the estimated data: \\n', 'pi_hat=', pi_hat,'\\n','mixture_info = ', mixture_info_hat, '\\n')\n"
   ]
  },
  {
   "cell_type": "markdown",
   "metadata": {},
   "source": [
    "### 3. Plot the original data and the data generated by the estimated parameters:"
   ]
  },
  {
   "cell_type": "code",
   "execution_count": null,
   "metadata": {},
   "outputs": [],
   "source": [
    "ploting(X_Data.T)"
   ]
  },
  {
   "cell_type": "code",
   "execution_count": null,
   "metadata": {},
   "outputs": [],
   "source": [
    "ploting(X_Data_hat.T)"
   ]
  },
  {
   "cell_type": "code",
   "execution_count": null,
   "metadata": {},
   "outputs": [],
   "source": [
    "print(X_Data.shape)\n",
    "kmeans = KMeans(n_clusters=3, random_state=1).fit(X_Data.T)\n",
    "lables = kmeans.labels_\n",
    "print(np.array(kmeans.cluster_centers_).T)"
   ]
  },
  {
   "cell_type": "code",
   "execution_count": null,
   "metadata": {},
   "outputs": [],
   "source": [
    "unique, counts = np.unique(lables, return_counts=True)\n",
    "mixture_info = (((unique, counts)))\n",
    "\n",
    "# print(np.array(np.asarray(mixture_info)))\n",
    "print(counts)"
   ]
  },
  {
   "cell_type": "code",
   "execution_count": null,
   "metadata": {},
   "outputs": [],
   "source": []
  },
  {
   "cell_type": "code",
   "execution_count": null,
   "metadata": {},
   "outputs": [],
   "source": []
  },
  {
   "cell_type": "code",
   "execution_count": null,
   "metadata": {},
   "outputs": [],
   "source": []
  }
 ],
 "metadata": {
  "kernelspec": {
   "display_name": "Python 3",
   "language": "python",
   "name": "python3"
  },
  "language_info": {
   "codemirror_mode": {
    "name": "ipython",
    "version": 3
   },
   "file_extension": ".py",
   "mimetype": "text/x-python",
   "name": "python",
   "nbconvert_exporter": "python",
   "pygments_lexer": "ipython3",
   "version": "3.7.1"
  }
 },
 "nbformat": 4,
 "nbformat_minor": 2
}
