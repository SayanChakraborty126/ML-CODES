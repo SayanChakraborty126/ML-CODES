{
 "cells": [
  {
   "cell_type": "code",
   "execution_count": 191,
   "metadata": {},
   "outputs": [],
   "source": [
    "from scipy.stats import multivariate_normal as mult_gauss\n",
    "import numpy as np\n",
    "import random\n",
    "from numpy import linalg as LA\n",
    "import sklearn as sklearn\n",
    "import matplotlib.pyplot as plt\n",
    "from mpl_toolkits import mplot3d\n"
   ]
  },
  {
   "cell_type": "markdown",
   "metadata": {},
   "source": [
    "### The Expectation Maximization algorithm for a Gaussian mixture model is implemented as follows:"
   ]
  },
  {
   "cell_type": "code",
   "execution_count": 278,
   "metadata": {},
   "outputs": [],
   "source": [
    "class EM_Gaussian_Misture(object):\n",
    "    \n",
    "    def __init__(self, X_data, K, tol):\n",
    "        self.X_Data = X_data                       # X_data has dimension in the rows and observations in the coloumns\n",
    "        self.K = K                                 # Mixture size\n",
    "        self.d, self.N = self.X_Data.shape              # find the shape of the data\n",
    "        self.gam = np.zeros((self.N,self.K))            # initialize all gammas as zero\n",
    "        self.pi = np.random.uniform(0,1,self.K)         # initialize the contributions\n",
    "        self.mu = np.random.random((self.d,self.K))     # initialize the means\n",
    "        self.sigma =  np.array([np.eye(self.d)]*self.K) # initialize the covariances\n",
    "        self.tol = tol\n",
    "        \n",
    "\n",
    "    def E_step(self):  # compute the posteriori probabilities\n",
    "        for i in range(self.N):\n",
    "            for j in range(self.K):\n",
    "                self.gam[i,j] = self.pi[j]*mult_gauss(self.mu[:,j], self.sigma[j,:,:]).pdf(self.X_Data[:,i]) # first find the numerator for all n's in N and k's in K\n",
    "        sumd = self.gam.sum(1)     # to find the denominatior sum over all k's for a n in N\n",
    "        self.gam = self.gam.T/sumd # find the posterior probabilities  \n",
    "        return self.gam.T \n",
    "    \n",
    "    def M_step(self):\n",
    "        self.gam = self.E_step()  # get the gammas \n",
    "        N_k = self.gam.sum(0)    # compute Nk by summing all the rows of gamma\n",
    "        \n",
    "        self.pi = N_k/self.N     # compute pi\n",
    "        \n",
    "        self.mu = np.dot(self.gam.T, self.X_Data.T)\n",
    "        self.mu = self.mu.T/N_k  # compute mu       \n",
    "        \n",
    "        for i in range(self.K):                    # compute sigma\n",
    "            for j in range(self.N):\n",
    "                dum = np.reshape((self.X_Data[:,j] -  self.mu[:,i]), (self.d,1)) # compute (X_n-mu_n)\n",
    "                self.sigma[i,:,:] += self.gam[j,i]*np.dot(dum, dum.T)           # compute (X_n-mu_n)(X_n-mu_n)^T\n",
    "            self.sigma[i,:,:] = self.sigma[i,:,:]/N_k[i]  # divide sigma of each mixture by N_k to compute sigma\n",
    "        \n",
    "        return self.pi, self.gam, self.mu, self.sigma\n",
    "    \n",
    "    def EM_Gauss(self):  # to compute log-likelihood and check convergence\n",
    "        error = 10\n",
    "        l_old = 0\n",
    "        iter = 0\n",
    "        while error>self.tol:\n",
    "            \n",
    "            self.pi, self.gam, self.mu, self.sigma = self.M_step()\n",
    "\n",
    "            l_new = 0.0\n",
    "            for i in range(self.N):\n",
    "                dum = 0.0\n",
    "                for j in range(self.K):\n",
    "                    dum += self.pi[j]*mult_gauss(self.mu[:,j], self.sigma[j,:,:]).pdf(self.X_Data[:,i])\n",
    "                dum = np.log(dum)\n",
    "                l_new += dum\n",
    "\n",
    "            error = abs(l_new-l_old)\n",
    "            l_old = l_new        \n",
    "            print('iter =', iter, ' error = ', error)\n",
    "            iter += 1\n",
    "        return self.pi, self.mu, self.sigma"
   ]
  },
  {
   "cell_type": "markdown",
   "metadata": {},
   "source": [
    "### Generate data"
   ]
  },
  {
   "cell_type": "code",
   "execution_count": 288,
   "metadata": {},
   "outputs": [],
   "source": [
    "def generate_data(mean, cov, pi, N):\n",
    "    X_data = np.concatenate([np.random.multivariate_normal(mu, sigma, int(pi*N))\n",
    "                    for pi, mu, sigma in zip(pi, mean, cov)])\n",
    "    \n",
    "#     if mean.shape[1] == 2:\n",
    "#         plt.plot(xs[:,0], xs[:,1], '.')\n",
    "#         plt.axis('equal')\n",
    "#         plt.show()\n",
    "#         print(x.shape)\n",
    "#         print(y.shape)\n",
    "        \n",
    "#     elif mean.shape[1] == 3:\n",
    "#         fig = plt.figure()\n",
    "#         ax = plt.axes(projection='3d')\n",
    "#         # Data for a three-dimensional line\n",
    "#         ax.plot3D(X_data[:,0], X_data[:,1], X_data[:,2], '.')\n",
    "        \n",
    "#     else:\n",
    "#         print(\"Can't plot dimension > 3 !!!\")\n",
    "\n",
    "    return X_data.T"
   ]
  },
  {
   "cell_type": "code",
   "execution_count": 290,
   "metadata": {
    "scrolled": false
   },
   "outputs": [
    {
     "name": "stdout",
     "output_type": "stream",
     "text": [
      "iter = 0  error =  91440.91029188025\n",
      "iter = 1  error =  13225.703743711652\n",
      "iter = 2  error =  519.2860607750627\n",
      "iter = 3  error =  4.1524835978634655e-05\n",
      "iter = 4  error =  3.1868694350123405e-09\n",
      "[0.5 0.5]\n",
      "[[-1.99667833 19.99694555]\n",
      " [14.99229598  0.98596108]]\n",
      "[[[ 2.01780661  0.0109826 ]\n",
      "  [ 0.0109826   1.98420776]]\n",
      "\n",
      " [[ 1.02408276 -0.01334885]\n",
      "  [-0.01334885  1.00467317]]]\n"
     ]
    }
   ],
   "source": [
    "## ------ 2D data generation ------------ ##\n",
    "# mean = np.array([[20,1], [-2,15], [-3, 10]])\n",
    "# cov = np.array([[[1, 0], [0, 1]], [[2,0],[0,2]], [[3,0],[0,8]] ])\n",
    "# pi = np.array([0.3, 0.2, 0.1])\n",
    "\n",
    "mean = np.array([[20,1], [-2,15]])\n",
    "cov = np.array([[[1, 0], [0, 1]], [[2,0],[0,2]] ])\n",
    "pi = np.array([0.6, 0.8])\n",
    "\n",
    "## ------ 3D data generation ------------ ##\n",
    "# mean = np.array([[20,10,1], [-22,15,10], [-30, 10,1]])\n",
    "# cov = np.array([[[1, 0, 0], [0, 1, 0], [0, 0, 1]], [[2,0,0],[0,2,0], [0,0,2]], [[3,0,0],[0,3,0],[0,0,3]] ])\n",
    "# pi = np.array([0.3, 0.2, 0.1])\n",
    "\n",
    "N = 10000\n",
    "K = 2\n",
    "tol = 0.000001\n",
    "Data =  generate_data(mean, cov, pi, N)\n",
    "# X_data = input(\"Input X_data:\")\n",
    "# print(X_data)\n",
    "X_data = Data\n",
    "\n",
    "obj = EM_Gaussian_Misture(X_data, K, tol)\n",
    "pi, mu, sigma = obj.EM_Gauss()\n",
    "\n",
    "print(pi)\n",
    "print(mu)\n",
    "print(sigma)"
   ]
  },
  {
   "cell_type": "code",
   "execution_count": 31,
   "metadata": {},
   "outputs": [
    {
     "name": "stdout",
     "output_type": "stream",
     "text": [
      "[[[0.16447555 0.40396606]\n",
      "  [0.49864922 0.66637907]]\n",
      "\n",
      " [[0.76324    0.71510217]\n",
      "  [0.56781979 0.52877205]]\n",
      "\n",
      " [[0.85689994 0.86678098]\n",
      "  [0.06187937 0.27014491]]]\n"
     ]
    }
   ],
   "source": [
    "print(np.random.random((3,2,2)))"
   ]
  },
  {
   "cell_type": "code",
   "execution_count": 100,
   "metadata": {},
   "outputs": [
    {
     "name": "stdout",
     "output_type": "stream",
     "text": [
      "[[1. 0.]\n",
      " [0. 1.]]\n"
     ]
    }
   ],
   "source": [
    "I = np.array([np.eye(2)] * 3)\n",
    "print(I[1,:,:])"
   ]
  },
  {
   "cell_type": "markdown",
   "metadata": {},
   "source": [
    "#### For generating PSD matrix"
   ]
  },
  {
   "cell_type": "code",
   "execution_count": 88,
   "metadata": {},
   "outputs": [],
   "source": [
    "A = np.random.rand(1000, 1000)\n",
    "U, s, V = LA.svd(np.dot(A.T, A))\n",
    "X = np.dot(np.dot(U, 1.0 + np.diag(np.random.rand(1000))), V)\n",
    "# print(X)\n",
    "e,v = LA.eig(X)\n",
    "# print(e)"
   ]
  },
  {
   "cell_type": "code",
   "execution_count": 104,
   "metadata": {},
   "outputs": [
    {
     "name": "stdout",
     "output_type": "stream",
     "text": [
      "[0.46425126 0.23096421 0.83840486]\n"
     ]
    }
   ],
   "source": [
    "print(np.random.uniform(0,1,3))"
   ]
  },
  {
   "cell_type": "code",
   "execution_count": 116,
   "metadata": {},
   "outputs": [
    {
     "name": "stdout",
     "output_type": "stream",
     "text": [
      "[[1 2]\n",
      " [3 4]]\n",
      "[3 7]\n",
      "[[0.33333333 0.66666667]\n",
      " [0.42857143 0.57142857]]\n"
     ]
    }
   ],
   "source": [
    "A = np.array([[1,2], [3,4]])\n",
    "print(A)\n",
    "sumd = A.sum(1)\n",
    "print(sumd)\n",
    "A = (A.T/sumd)\n",
    "print(A.T)"
   ]
  },
  {
   "cell_type": "code",
   "execution_count": 117,
   "metadata": {},
   "outputs": [
    {
     "name": "stdout",
     "output_type": "stream",
     "text": [
      "[[0.25 0.4 ]\n",
      " [0.75 0.8 ]]\n"
     ]
    }
   ],
   "source": [
    "print(np.array([[1,2], [3,4]])/np.array([4, 5]))"
   ]
  },
  {
   "cell_type": "code",
   "execution_count": 119,
   "metadata": {},
   "outputs": [
    {
     "name": "stdout",
     "output_type": "stream",
     "text": [
      "A =  [[1 2 3]\n",
      " [4 5 6]\n",
      " [5 7 2]]\n",
      "B =  [[1 5]\n",
      " [2 4]\n",
      " [4 1]]\n"
     ]
    }
   ],
   "source": [
    "A = np.array([[1,2,3],[4,5,6],[5,7,2]])\n",
    "print('A = ', A)\n",
    "\n",
    "B = np.array([[1,5],[2,4],[4,1]])\n",
    "print('B = ', B)"
   ]
  },
  {
   "cell_type": "code",
   "execution_count": 126,
   "metadata": {},
   "outputs": [
    {
     "name": "stdout",
     "output_type": "stream",
     "text": [
      "[[17 16]\n",
      " [38 46]\n",
      " [27 55]]\n"
     ]
    }
   ],
   "source": [
    "w = np.dot(A,B)\n",
    "print(w)"
   ]
  },
  {
   "cell_type": "code",
   "execution_count": 128,
   "metadata": {},
   "outputs": [
    {
     "name": "stdout",
     "output_type": "stream",
     "text": [
      "[[ 0  2  4]\n",
      " [-3 -1  1]]\n"
     ]
    }
   ],
   "source": [
    "print( np.array([[1,3,5], [2,4,6]]) - np.array([[1],[5]]) )"
   ]
  },
  {
   "cell_type": "code",
   "execution_count": 132,
   "metadata": {},
   "outputs": [
    {
     "name": "stdout",
     "output_type": "stream",
     "text": [
      "[[1 2 3]\n",
      " [4 5 6]\n",
      " [5 7 2]]\n"
     ]
    }
   ],
   "source": [
    "print(A)"
   ]
  },
  {
   "cell_type": "code",
   "execution_count": 130,
   "metadata": {},
   "outputs": [
    {
     "name": "stdout",
     "output_type": "stream",
     "text": [
      "[[[4]]\n",
      "\n",
      " [[5]]\n",
      "\n",
      " [[6]]]\n"
     ]
    }
   ],
   "source": [
    "print(A[1,:,None, None])"
   ]
  },
  {
   "cell_type": "code",
   "execution_count": 137,
   "metadata": {},
   "outputs": [
    {
     "name": "stdout",
     "output_type": "stream",
     "text": [
      "[[4]\n",
      " [5]\n",
      " [6]]\n"
     ]
    }
   ],
   "source": [
    "print(np.reshape(A[1,:], (3,1)))"
   ]
  },
  {
   "cell_type": "code",
   "execution_count": 139,
   "metadata": {},
   "outputs": [
    {
     "name": "stdout",
     "output_type": "stream",
     "text": [
      "[[[0.75027048 0.59593832]\n",
      "  [0.83678287 0.45111493]]\n",
      "\n",
      " [[0.619744   0.04700463]\n",
      "  [0.20982713 0.20641056]]\n",
      "\n",
      " [[0.99067    0.15452588]\n",
      "  [0.01511437 0.98780496]]]\n"
     ]
    }
   ],
   "source": [
    "A = np.random.random((3,2,2))\n",
    "print(A)"
   ]
  },
  {
   "cell_type": "code",
   "execution_count": 141,
   "metadata": {},
   "outputs": [
    {
     "name": "stdout",
     "output_type": "stream",
     "text": [
      "[[0.75027048 0.59593832]\n",
      " [0.83678287 0.45111493]]\n"
     ]
    }
   ],
   "source": [
    "print(A[0])"
   ]
  },
  {
   "cell_type": "code",
   "execution_count": 142,
   "metadata": {},
   "outputs": [
    {
     "name": "stdout",
     "output_type": "stream",
     "text": [
      "[[[1. 0. 0.]\n",
      "  [0. 1. 0.]\n",
      "  [0. 0. 1.]]\n",
      "\n",
      " [[1. 0. 0.]\n",
      "  [0. 1. 0.]\n",
      "  [0. 0. 1.]]\n",
      "\n",
      " [[1. 0. 0.]\n",
      "  [0. 1. 0.]\n",
      "  [0. 0. 1.]]\n",
      "\n",
      " [[1. 0. 0.]\n",
      "  [0. 1. 0.]\n",
      "  [0. 0. 1.]]]\n"
     ]
    }
   ],
   "source": [
    "A = np.array([np.eye(3)]*4)\n",
    "print(A)"
   ]
  },
  {
   "cell_type": "code",
   "execution_count": 143,
   "metadata": {},
   "outputs": [
    {
     "name": "stdout",
     "output_type": "stream",
     "text": [
      "[[1. 0. 0.]\n",
      " [0. 1. 0.]\n",
      " [0. 0. 1.]]\n"
     ]
    }
   ],
   "source": [
    "print(A[0])"
   ]
  },
  {
   "cell_type": "code",
   "execution_count": 144,
   "metadata": {},
   "outputs": [
    {
     "name": "stdout",
     "output_type": "stream",
     "text": [
      "1\n"
     ]
    }
   ],
   "source": [
    "print(abs(-1))"
   ]
  },
  {
   "cell_type": "code",
   "execution_count": 160,
   "metadata": {},
   "outputs": [
    {
     "data": {
      "image/png": "[encoded data removed]",
      "text/plain": [
       "<Figure size 432x288 with 1 Axes>"
      ]
     },
     "metadata": {
      "needs_background": "light"
     },
     "output_type": "display_data"
    },
    {
     "name": "stdout",
     "output_type": "stream",
     "text": [
      "(100,)\n",
      "(100,)\n",
      "[[-3.27476948e-01  1.89664270e+00  1.00804474e+00  3.83764044e-01\n",
      "   6.46656122e-01 -1.85971873e-02 -3.44976107e-01  1.67255763e+00\n",
      "   1.33521397e+00  9.23867943e-01 -9.71380760e-01 -1.79005306e+00\n",
      "  -1.37531727e+00 -8.41078775e-02 -8.16494426e-01  9.71912387e-01\n",
      "   1.84124916e-01  2.32375061e+00 -1.07845848e+00  1.35257045e+00\n",
      "   1.09164311e-01 -4.20886645e-01 -1.58369964e+00  1.28874289e+00\n",
      "  -2.44686909e+00  1.32915304e+00  4.98268576e-01  1.00328132e+00\n",
      "  -1.06241223e+00 -1.03770780e+00 -1.27544500e+00 -4.52306985e-01\n",
      "   1.73360202e-01 -4.99291782e-01  5.00593564e-01  1.43743070e+00\n",
      "   8.33144671e-01 -3.35162214e-01 -2.40844814e-01 -9.25875379e-01\n",
      "  -1.40176348e+00 -1.07414252e+00 -2.77973507e-01 -1.39718263e+00\n",
      "  -2.04792978e+00 -1.07486416e+00  1.33789204e-01  5.86695227e-02\n",
      "  -9.27372784e-01 -1.06271801e+00 -1.66630626e+00 -2.74974010e-01\n",
      "   4.34986575e-01 -9.11129736e-01 -5.71112327e-01  8.79998396e-01\n",
      "   2.55669660e-01  1.13187313e+00  6.73221514e-01 -1.24865353e-01\n",
      "  -8.21531256e-01  5.16214036e-01  1.81608168e+00  6.90044144e-01\n",
      "  -1.77416250e+00  9.70223451e-02 -1.28816709e+00 -7.46459979e-01\n",
      "   1.44144579e+00 -8.80818561e-02 -3.30074235e-01 -7.18967094e-01\n",
      "  -1.88408987e-01  8.23266376e-01 -6.09596572e-01  1.73548510e-01\n",
      "   1.54848105e-01 -4.27202039e-01  8.32768980e-01 -1.08143153e-01\n",
      "  -7.89211087e-01  1.39471538e+00 -6.66420751e-01  3.07956634e-01\n",
      "   4.02660340e-02 -7.39151034e-01 -1.07008428e+00  1.75419588e-01\n",
      "   1.55763267e+00 -1.40824636e+00 -2.28039986e-01  3.04766756e+00\n",
      "  -2.45741735e+00  4.56392298e-01  7.20670469e-01  6.82265911e-01\n",
      "   3.01676600e-01  1.07161292e+00 -1.37580603e+00 -1.60714092e-01]\n",
      " [ 1.03881691e+01  4.08163463e+00 -2.07834366e+00 -1.19398558e+01\n",
      "  -9.17220928e+00  7.12523180e+00 -4.15949846e-01 -3.69821009e+00\n",
      "  -2.18323161e+01  3.22525387e+00  4.63753514e+00 -5.05290344e+00\n",
      "   4.29080849e+00 -2.78696047e+00  1.49123843e+00 -2.29412762e+00\n",
      "  -9.09157951e+00  4.27113417e+00  1.35567150e+01  6.64602038e-01\n",
      "   1.98497594e+00  3.47046820e+00 -6.04465661e+00  7.89522341e-01\n",
      "  -5.16442867e+00 -8.30884378e+00 -9.42665610e+00 -7.57966196e+00\n",
      "  -1.30606439e+01 -1.18628993e+01 -1.57379086e+01 -1.07340494e+01\n",
      "   5.65205691e+00 -5.08973025e+00  3.84317555e+00  6.54568863e+00\n",
      "   6.53597785e+00  1.03270914e+01 -2.31292805e+00  2.31336668e+01\n",
      "   6.44856032e+00 -7.63251966e+00  4.58743585e+00  9.96973277e+00\n",
      "   4.63814174e+00  8.77828923e+00 -5.67310416e+00  1.20497187e+01\n",
      "   1.01230298e+01 -1.33762739e+01  6.91129314e+00  3.21152343e+00\n",
      "   6.18582565e+00  1.07943348e+00 -5.61674303e+00 -2.05637758e+01\n",
      "   6.29616561e+00 -1.00392866e+00 -6.82994915e-03 -1.03582882e+01\n",
      "  -3.40665126e+00  2.74697209e+00 -1.96057883e+01  1.31728029e-01\n",
      "  -3.99798065e+00 -7.29482928e+00  3.41984411e+00 -2.44285811e-01\n",
      "   7.82100365e+00 -8.96061473e+00  3.76469581e+00 -1.11516319e+01\n",
      "  -4.00158164e+00 -6.58342186e+00 -8.85164941e+00  6.34759161e+00\n",
      "  -2.05096285e+01 -4.87900625e+00  2.19478289e+00 -1.80576802e+01\n",
      "   6.70488764e-02 -6.51293833e+00 -1.27657729e+01  1.16217915e+00\n",
      "  -2.70714066e+00 -1.34393618e+01 -1.57075103e+00 -8.79466874e+00\n",
      "  -1.93238635e+00  8.31719427e-01  1.84921600e+01  3.98631563e+00\n",
      "   4.27710369e+00 -6.24562239e+00 -4.26470512e+00  4.82101291e+00\n",
      "   1.44650580e+00 -7.07969830e+00 -9.44157414e+00  6.69985790e+00]]\n"
     ]
    }
   ],
   "source": [
    "mean = [0, 0]\n",
    "cov = [[1, 0], [0, 100]] \n",
    "x, y = np.random.multivariate_normal(mean, cov, 100).T\n",
    "plt.plot(x, y, 'x')\n",
    "plt.axis('equal')\n",
    "plt.show()\n",
    "print(x.shape)\n",
    "print(y.shape)\n",
    "X_data = np.zeros((2, 100))\n",
    "X_data[0,:] = np.array(x)\n",
    "X_data[1,:] = np.array(y)\n",
    "print(X_data)"
   ]
  },
  {
   "cell_type": "code",
   "execution_count": 173,
   "metadata": {},
   "outputs": [],
   "source": [
    "n = 10000\n",
    "_mus = np.array([[0,10], [-2,0]])\n",
    "_sigmas = np.array([[[3, 0], [0, 0.5]], [[1,0],[0,2]]])\n",
    "_pis = np.array([0.6, 0.4])\n",
    "xs = np.concatenate([np.random.multivariate_normal(mu, sigma, int(pi*n))\n",
    "                    for pi, mu, sigma in zip(_pis, _mus, _sigmas)])"
   ]
  },
  {
   "cell_type": "code",
   "execution_count": 174,
   "metadata": {},
   "outputs": [
    {
     "data": {
      "image/png": "[encoded data removed]",
      "text/plain": [
       "<Figure size 432x288 with 1 Axes>"
      ]
     },
     "metadata": {
      "needs_background": "light"
     },
     "output_type": "display_data"
    },
    {
     "name": "stdout",
     "output_type": "stream",
     "text": [
      "(100,)\n",
      "(100,)\n"
     ]
    }
   ],
   "source": [
    "plt.plot(xs[:,0], xs[:,1], 'x')\n",
    "plt.axis('equal')\n",
    "plt.show()\n",
    "print(x.shape)\n",
    "print(y.shape)"
   ]
  },
  {
   "cell_type": "code",
   "execution_count": 175,
   "metadata": {},
   "outputs": [
    {
     "name": "stdout",
     "output_type": "stream",
     "text": [
      "[[[3.  0. ]\n",
      "  [0.  0.5]]\n",
      "\n",
      " [[1.  0. ]\n",
      "  [0.  2. ]]]\n"
     ]
    }
   ],
   "source": [
    "print(_sigmas)"
   ]
  },
  {
   "cell_type": "code",
   "execution_count": 195,
   "metadata": {},
   "outputs": [
    {
     "data": {
      "text/plain": [
       "[<mpl_toolkits.mplot3d.art3d.Line3D at 0x240496ead30>]"
      ]
     },
     "execution_count": 195,
     "metadata": {},
     "output_type": "execute_result"
    },
    {
     "data": {
      "image/png": "[encoded data removed]",
      "text/plain": [
       "<Figure size 432x288 with 1 Axes>"
      ]
     },
     "metadata": {
      "needs_background": "light"
     },
     "output_type": "display_data"
    }
   ],
   "source": [
    "fig = plt.figure()\n",
    "ax = plt.axes(projection='3d')\n",
    "# Data for a three-dimensional line\n",
    "zline = np.linspace(0, 15, 1000)\n",
    "xline = np.sin(zline)\n",
    "yline = np.cos(zline)\n",
    "ax.plot3D(xline, yline, zline, 'gray')"
   ]
  }
 ],
 "metadata": {
  "kernelspec": {
   "display_name": "Python 3",
   "language": "python",
   "name": "python3"
  },
  "language_info": {
   "codemirror_mode": {
    "name": "ipython",
    "version": 3
   },
   "file_extension": ".py",
   "mimetype": "text/x-python",
   "name": "python",
   "nbconvert_exporter": "python",
   "pygments_lexer": "ipython3",
   "version": "3.7.1"
  }
 },
 "nbformat": 4,
 "nbformat_minor": 2
}
