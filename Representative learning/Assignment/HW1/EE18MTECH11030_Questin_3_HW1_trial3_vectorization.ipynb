{
 "cells": [
  {
   "cell_type": "code",
   "execution_count": 1,
   "metadata": {},
   "outputs": [],
   "source": [
    "from scipy.stats import multivariate_normal as mult_gauss\n",
    "import numpy as np\n",
    "import random\n",
    "from numpy import linalg as LA\n",
    "import sklearn as sklearn\n",
    "import matplotlib.pyplot as plt\n",
    "from mpl_toolkits import mplot3d\n",
    "from pylab import *\n",
    "from sklearn.cluster import KMeans\n",
    "# %matplotlib qt"
   ]
  },
  {
   "cell_type": "markdown",
   "metadata": {},
   "source": [
    "## The Expectation Maximization algorithm for a Gaussian mixture model is implemented as follows:"
   ]
  },
  {
   "cell_type": "code",
   "execution_count": 2,
   "metadata": {},
   "outputs": [],
   "source": [
    "class EM_Gaussian_Misture(object):\n",
    "    \n",
    "    def __init__(self, X_data, K, tol):\n",
    "        self.X_Data = X_data                       # X_data has dimension in the rows and observations in the coloumns\n",
    "        self.K = K                                 # Mixture size\n",
    "        self.d, self.N = self.X_Data.shape              # find the shape of the data\n",
    "        self.gam = np.zeros((self.N,self.K))            # initialize all gammas as zero\n",
    "        \n",
    "        kmeans = KMeans(n_clusters=self.K, random_state=1).fit(self.X_Data.T)\n",
    "        lables = kmeans.labels_\n",
    "        unique, counts = np.unique(lables, return_counts=True)\n",
    "        \n",
    "#         self.pi = np.random.uniform(0,1,self.K)         # initialize the contributions\n",
    "#         self.mu = np.random.random((self.d,self.K))     # initialize the means\n",
    "\n",
    "        self.pi = np.array(counts)/self.N                 # initialize the contributions\n",
    "        self.mu = np.array(kmeans.cluster_centers_).T     # initialize the means\n",
    "        self.sigma =  np.array([np.eye(self.d)]*self.K) # initialize the covariances\n",
    "        self.tol = tol\n",
    "        \n",
    "\n",
    "#     def E_step(self):  # compute the posteriori probabilities\n",
    "#         for i in range(self.N):\n",
    "#             for j in range(self.K):\n",
    "#                 self.gam[i,j] = self.pi[j]*mult_gauss(self.mu[:,j], self.sigma[j,:,:]).pdf(self.X_Data[:,i]) # first find the numerator for all n's in N and k's in K\n",
    "#         sumd = self.gam.sum(1)     # to find the denominatior sum over all k's for a n in N\n",
    "#         self.gam = self.gam.T/sumd # find the posterior probabilities  \n",
    "#         return self.gam.T \n",
    "\n",
    "    def E_step(self):  # compute the posteriori probabilities\n",
    "        \n",
    "        \n",
    "        self.gam = [(self.pi[j]*mult_gauss.pdf(self.X_Data.T, self.mu[:,j], self.sigma[j,:,:]))\n",
    "            for j in range(K)]\n",
    "        self.gam = np.array(self.gam)\n",
    "        \n",
    "        sumd = self.gam.sum(0)     # to find the denominatior sum over all k's for a n in N\n",
    "        self.gam = self.gam/sumd   # find the posterior probabilities  \n",
    "        \n",
    "        return self.gam.T \n",
    "    \n",
    "#     def M_step(self):\n",
    "#         self.gam = self.E_step()  # get the gammas \n",
    "#         N_k = self.gam.sum(0)    # compute Nk by summing all the rows of gamma\n",
    "        \n",
    "#         self.pi = N_k/self.N     # compute pi\n",
    "        \n",
    "#         self.mu = np.dot(self.gam.T, self.X_Data.T)\n",
    "#         self.mu = self.mu.T/N_k  # compute mu       \n",
    "        \n",
    "#         for i in range(self.K):                    # compute sigma\n",
    "#             for j in range(self.N):\n",
    "#                 dum = np.reshape((self.X_Data[:,j] -  self.mu[:,i]), (self.d,1)) # compute (X_n-mu_n)\n",
    "#                 self.sigma[i,:,:] += self.gam[j,i]*np.dot(dum, dum.T)           # compute (X_n-mu_n)(X_n-mu_n)^T\n",
    "#             self.sigma[i,:,:] = self.sigma[i,:,:]/N_k[i]  # divide sigma of each mixture by N_k to compute sigma\n",
    "        \n",
    "#         return self.pi, self.gam, self.mu, self.sigma\n",
    "\n",
    "    def M_step(self):\n",
    "        self.gam = self.E_step()  # get the gammas \n",
    "        N_k = self.gam.sum(0)    # compute Nk by summing all the rows of gamma\n",
    "        \n",
    "        self.pi = N_k/self.N     # compute pi\n",
    "        \n",
    "        self.mu = np.dot(self.gam.T, self.X_Data.T)\n",
    "        self.mu = self.mu.T/N_k  # compute mu       \n",
    "        \n",
    "        for j in range(self.K):                    # compute sigma\n",
    "            dum = self.X_Data - np.reshape(self.mu[:,j], (self.d,1))\n",
    "            dum = dum.T\n",
    "            self.sigma[j,:,:] = ((np.reshape(self.gam[:,j],(self.N,1,1))*(reshape(dum,(self.N,self.d,1))*reshape(dum,(self.N,1,self.d)))).sum(0))/N_k[j]\n",
    "      \n",
    "        \n",
    "        return self.pi, self.gam, self.mu, self.sigma\n",
    "    \n",
    "#     def EM_Gauss(self):  # to compute log-likelihood and check convergence\n",
    "#         error = 10\n",
    "#         l_old = 0\n",
    "#         iter = 0\n",
    "#         while error>self.tol:\n",
    "            \n",
    "#             self.pi, self.gam, self.mu, self.sigma = self.M_step()\n",
    "\n",
    "#             l_new = 0.0\n",
    "#             for i in range(self.N):\n",
    "#                 dum = 0.0\n",
    "#                 for j in range(self.K):\n",
    "#                     dum += self.pi[j]*mult_gauss(self.mu[:,j], self.sigma[j,:,:]).pdf(self.X_Data[:,i])\n",
    "#                 dum = np.log(dum)\n",
    "#                 l_new += dum\n",
    "\n",
    "#             error = abs(l_new-l_old)\n",
    "#             l_old = l_new        \n",
    "#             print('iter =', iter, ', error = ', error)\n",
    "#             iter += 1\n",
    "#         return np.array(self.pi), np.array(self.mu), np.array(self.sigma)\n",
    "\n",
    "    def EM_Gauss(self):  # to compute log-likelihood and check convergence\n",
    "        error = 10\n",
    "        l_old = 0\n",
    "        iter = 0\n",
    "        while error>self.tol:\n",
    "                        \n",
    "            self.pi, self.gam, self.mu, self.sigma = self.M_step()\n",
    "            l_new = 0\n",
    "\n",
    "#         for i in range(N):\n",
    "#             dum = 0.0\n",
    "#             for j in range(K):\n",
    "#                 dum += pi[j]*mult_gauss(mu[:,j], sigma[j,:,:]).pdf(X_Data[:,i])\n",
    "#             dum = np.log(dum)\n",
    "#             l_new += dum\n",
    "            \n",
    "            dum = [(self.pi[j]*mult_gauss.pdf(self.X_Data.T, self.mu[:,j], self.sigma[j,:,:]))\n",
    "               for j in range(K)]\n",
    "            dum = np.array(dum)\n",
    "            l_new = np.log(dum.sum(0)).sum()\n",
    "            \n",
    "            \n",
    "\n",
    "            error = abs(l_new-l_old)\n",
    "            l_old = l_new        \n",
    "            print('iter =', iter, ', error = ', error)\n",
    "            iter += 1\n",
    "        return np.array(self.pi), np.array(self.mu), np.array(self.sigma)"
   ]
  },
  {
   "cell_type": "markdown",
   "metadata": {},
   "source": [
    "## Generate data"
   ]
  },
  {
   "cell_type": "code",
   "execution_count": 3,
   "metadata": {},
   "outputs": [],
   "source": [
    "# def generate_data(mean, cov, pii, N):\n",
    "def generate_data(generators, N, pi):\n",
    "#     X_data = np.concatenate([np.random.multivariate_normal(mu, sigma, int(pi*N))\n",
    "#                     for pi, mu, sigma in zip(pii, mean, cov)])\n",
    "    draw = np.random.choice([0, 1, 2], N, p=pi.tolist())\n",
    "    unique, counts = np.unique(draw, return_counts=True)\n",
    "    \n",
    "    mixture_info = (dict(zip(unique, counts)))\n",
    "    \n",
    "    X_Data = [np.array(generators[i].rvs()) for i in draw]\n",
    "    X_Data = np.array(X_Data)\n",
    "    return X_Data.T, mixture_info\n",
    "\n",
    "def ploting(X_Data):\n",
    "\n",
    "    if X_Data.shape[1] == 2:\n",
    "        fig, ax = plt.subplots(num=1, clear=True)\n",
    "        handle = ax.plot(X_Data[:,0], X_Data[:,1], '.')\n",
    "        plt.axis('equal')\n",
    "#         plt.show()\n",
    "        \n",
    "    elif X_Data.shape[1] == 3:\n",
    "        fig = plt.figure()\n",
    "        ax = plt.axes(projection='3d')\n",
    "        ax.plot3D(X_Data[:,0], X_Data[:,1], X_Data[:,2], '.')\n",
    "        \n",
    "    else:\n",
    "        print(\"Can't plot dimension > 3 !!!\")\n",
    "\n",
    "    return None"
   ]
  },
  {
   "cell_type": "markdown",
   "metadata": {},
   "source": [
    "## Estimate the parametrs"
   ]
  },
  {
   "cell_type": "code",
   "execution_count": 4,
   "metadata": {
    "scrolled": false
   },
   "outputs": [
    {
     "name": "stdout",
     "output_type": "stream",
     "text": [
      "iter = 0 , error =  56089.25933457786\n",
      "iter = 1 , error =  45.093996652743954\n",
      "iter = 2 , error =  12.389119848819973\n",
      "iter = 3 , error =  7.468416593488655\n",
      "iter = 4 , error =  5.803131741107791\n",
      "iter = 5 , error =  4.807149165972078\n",
      "iter = 6 , error =  4.048944296358968\n",
      "iter = 7 , error =  3.431164594949223\n",
      "iter = 8 , error =  2.919552193809068\n",
      "iter = 9 , error =  2.4940694858378265\n",
      "iter = 10 , error =  2.139405702604563\n",
      "iter = 11 , error =  1.8430037362631992\n",
      "iter = 12 , error =  1.5944896603032248\n",
      "iter = 13 , error =  1.3853369342104997\n",
      "iter = 14 , error =  1.2085734680586029\n",
      "iter = 15 , error =  1.0585163170399028\n",
      "iter = 16 , error =  0.9305397977950634\n",
      "iter = 17 , error =  0.8208792030782206\n",
      "iter = 18 , error =  0.7264680895605125\n",
      "iter = 19 , error =  0.6448050986946328\n",
      "iter = 20 , error =  0.5738457675179234\n",
      "iter = 21 , error =  0.5119150239406736\n",
      "iter = 22 , error =  0.4576365862376406\n",
      "iter = 23 , error =  0.40987607472925447\n",
      "iter = 24 , error =  0.36769519723020494\n",
      "iter = 25 , error =  0.3303148550330661\n",
      "iter = 26 , error =  0.2970854242594214\n",
      "iter = 27 , error =  0.2674628050153842\n",
      "iter = 28 , error =  0.2409891055431217\n",
      "iter = 29 , error =  0.21727705108060036\n",
      "iter = 30 , error =  0.19599738698889269\n",
      "iter = 31 , error =  0.17686868918099208\n",
      "iter = 32 , error =  0.15964911176706664\n",
      "iter = 33 , error =  0.1441296931297984\n",
      "iter = 34 , error =  0.13012891747348476\n",
      "iter = 35 , error =  0.11748828746203799\n",
      "iter = 36 , error =  0.10606871225172654\n",
      "iter = 37 , error =  0.09574755265930435\n",
      "iter = 38 , error =  0.08641619701666059\n",
      "iter = 39 , error =  0.0779780653610942\n",
      "iter = 40 , error =  0.0703469598738593\n",
      "iter = 41 , error =  0.06344569524662802\n",
      "iter = 42 , error =  0.05720495586137986\n",
      "iter = 43 , error =  0.05156233708112268\n",
      "iter = 44 , error =  0.04646153582871193\n",
      "iter = 45 , error =  0.04185166306706378\n",
      "iter = 46 , error =  0.03768665574170882\n",
      "iter = 47 , error =  0.03392477046872955\n",
      "iter = 48 , error =  0.030528144241543487\n",
      "iter = 49 , error =  0.027462411104352213\n",
      "iter = 50 , error =  0.024696364911505952\n",
      "iter = 51 , error =  0.022201661209692247\n",
      "iter = 52 , error =  0.019952552000177093\n",
      "iter = 53 , error =  0.017925648353411816\n",
      "iter = 54 , error =  0.016099707172543276\n",
      "iter = 55 , error =  0.014455438831646461\n",
      "iter = 56 , error =  0.012975332916539628\n",
      "iter = 57 , error =  0.011643500132777262\n",
      "iter = 58 , error =  0.010445528183481656\n",
      "iter = 59 , error =  0.0093683506565867\n",
      "iter = 60 , error =  0.008400127102504484\n",
      "iter = 61 , error =  0.00753013353823917\n",
      "iter = 62 , error =  0.006748662315658294\n",
      "iter = 63 , error =  0.006046930437150877\n",
      "iter = 64 , error =  0.0054169959330465645\n",
      "iter = 65 , error =  0.004851680976571515\n",
      "iter = 66 , error =  0.004344502012827434\n",
      "iter = 67 , error =  0.00388960559212137\n",
      "iter = 68 , error =  0.0034817098930943757\n",
      "iter = 69 , error =  0.0031160512880887836\n",
      "iter = 70 , error =  0.002788335674267728\n",
      "iter = 71 , error =  0.0024946939811343327\n",
      "iter = 72 , error =  0.0022316417525871657\n",
      "iter = 73 , error =  0.0019960423596785404\n",
      "iter = 74 , error =  0.001785073363862466\n",
      "iter = 75 , error =  0.0015961962926667184\n",
      "iter = 76 , error =  0.0014271288382587954\n",
      "iter = 77 , error =  0.0012758198427036405\n",
      "iter = 78 , error =  0.00114042658242397\n",
      "iter = 79 , error =  0.0010192941699642688\n",
      "iter = 80 , error =  0.0009109368693316355\n",
      "iter = 81 , error =  0.0008140212739817798\n",
      "iter = 82 , error =  0.0007273510491359048\n",
      "iter = 83 , error =  0.0006498531583929434\n",
      "iter = 84 , error =  0.0005805654072901234\n",
      "iter = 85 , error =  0.0005186252819839865\n",
      "iter = 86 , error =  0.0004632596901501529\n",
      "iter = 87 , error =  0.0004137760115554556\n",
      "iter = 88 , error =  0.00036955381801817566\n",
      "iter = 89 , error =  0.0003300373427919112\n",
      "iter = 90 , error =  0.0002947290558950044\n",
      "iter = 91 , error =  0.0002631834940984845\n",
      "iter = 92 , error =  0.00023500192037317902\n",
      "iter = 93 , error =  0.00020982755086151883\n",
      "iter = 94 , error =  0.00018734111654339358\n",
      "iter = 95 , error =  0.00016725697787478566\n",
      "iter = 96 , error =  0.00014931964688003063\n",
      "iter = 97 , error =  0.00013330068031791598\n",
      "iter = 98 , error =  0.00011899567471118644\n",
      "iter = 99 , error =  0.00010622200352372602\n",
      "iter = 100 , error =  9.481630695518106e-05\n",
      "iter = 101 , error =  8.46326001919806e-05\n",
      "iter = 102 , error =  7.554036710644141e-05\n",
      "iter = 103 , error =  6.742298864992335e-05\n",
      "iter = 104 , error =  6.01762585574761e-05\n",
      "iter = 105 , error =  5.370704457163811e-05\n",
      "iter = 106 , error =  4.793211701326072e-05\n",
      "iter = 107 , error =  4.277718107914552e-05\n",
      "iter = 108 , error =  3.817579272435978e-05\n",
      "iter = 109 , error =  3.406868199817836e-05\n",
      "iter = 110 , error =  3.0402828997466713e-05\n",
      "iter = 111 , error =  2.7130932721775025e-05\n",
      "iter = 112 , error =  2.4210727133322507e-05\n",
      "iter = 113 , error =  2.1604493667837232e-05\n",
      "iter = 114 , error =  1.927850826177746e-05\n",
      "iter = 115 , error =  1.7202692106366158e-05\n",
      "iter = 116 , error =  1.535016781417653e-05\n",
      "iter = 117 , error =  1.3696982932742685e-05\n",
      "iter = 118 , error =  1.2221666111145169e-05\n",
      "iter = 119 , error =  1.0905139788519591e-05\n",
      "iter = 120 , error =  9.730334568303078e-06\n",
      "iter = 121 , error =  8.681985491421074e-06\n",
      "iter = 122 , error =  7.74651562096551e-06\n",
      "iter = 123 , error =  6.911766831763089e-06\n",
      "iter = 124 , error =  6.166934326756746e-06\n",
      "iter = 125 , error =  5.502304702531546e-06\n",
      "iter = 126 , error =  4.909270501229912e-06\n",
      "iter = 127 , error =  4.380126483738422e-06\n",
      "iter = 128 , error =  3.9079750422388315e-06\n",
      "iter = 129 , error =  3.4867043723352253e-06\n",
      "iter = 130 , error =  3.1108284019865096e-06\n",
      "iter = 131 , error =  2.7754504117183387e-06\n",
      "iter = 132 , error =  2.476219378877431e-06\n",
      "iter = 133 , error =  2.209249942097813e-06\n",
      "iter = 134 , error =  1.971020537894219e-06\n",
      "iter = 135 , error =  1.7585116438567638e-06\n",
      "iter = 136 , error =  1.5688783605583012e-06\n",
      "iter = 137 , error =  1.3997050700709224e-06\n",
      "iter = 138 , error =  1.248758053407073e-06\n",
      "iter = 139 , error =  1.1140946298837662e-06\n",
      "iter = 140 , error =  9.93932189885527e-07\n",
      "\n",
      " ----------------- The converged parametrs are ----------------- \n",
      "\n",
      "pi_hat = \n",
      " [0.38862908 0.31433766 0.29703326] \n",
      "\n",
      "mu_hat = \n",
      " [[-9.99290786  1.89318651  0.97844412]\n",
      " [10.01467268 -5.00042386  1.11519075]] \n",
      "\n",
      "Sigma_hat = \n",
      " [[[ 4.84279756e+00  8.47479725e-02]\n",
      "  [ 8.47479725e-02  6.88462803e+00]]\n",
      "\n",
      " [[ 9.87081669e+00  1.22097390e-02]\n",
      "  [ 1.22097390e-02  2.94623064e+00]]\n",
      "\n",
      " [[ 4.99821809e+00 -2.96613309e-01]\n",
      "  [-2.96613309e-01  1.43681306e+01]]] \n",
      "\n"
     ]
    }
   ],
   "source": [
    "## ------ 2D data generation ------------ ##\n",
    "pi = np.array([0.4, 0.3, 0.3])\n",
    "generators = [\n",
    "    mult_gauss([-10, 10], [[5, 0], [0, 7]]),             \n",
    "    mult_gauss([2, -5], [[10, 0], [0, 3]]), \n",
    "    mult_gauss([1, 1], [[5, 0], [0, 15]])]\n",
    "\n",
    "## ------ 3D data generation ------------ ##\n",
    "# mean = np.array([[20,10,1], [-22,15,10], [-30, 10,1]])\n",
    "# cov = np.array([[[1, 0, 0], [0, 1, 0], [0, 0, 1]], [[2,0,0],[0,2,0], [0,0,2]], [[3,0,0],[0,3,0],[0,0,3]] ])\n",
    "# pi = np.array([0.3, 0.2, 0.1])\n",
    "\n",
    "\n",
    "\n",
    "\n",
    "N = 10000\n",
    "K = 3\n",
    "tol = 0.000001\n",
    "Data, mixture_info =  generate_data(generators, N, pi)\n",
    "# X_data = input(\"Input X_data:\")\n",
    "# print(Data.shape)\n",
    "\n",
    "X_Data = Data\n",
    "\n",
    "obj = EM_Gaussian_Misture(X_Data, K, tol)\n",
    "pi_hat, mu_hat, sigma_hat = obj.EM_Gauss()\n",
    "\n",
    "print('\\n ----------------- The converged parametrs are ----------------- \\n')\n",
    "print('pi_hat = \\n', pi_hat, '\\n')\n",
    "print('mu_hat = \\n', mu_hat, '\\n')\n",
    "print('Sigma_hat = \\n', sigma_hat, '\\n')"
   ]
  },
  {
   "cell_type": "markdown",
   "metadata": {},
   "source": [
    "## Validate, visualize, and compare with original data:\n"
   ]
  },
  {
   "cell_type": "code",
   "execution_count": 24,
   "metadata": {},
   "outputs": [],
   "source": [
    "generators_hat = [\n",
    "    mult_gauss(mu_hat[:,0], sigma_hat[0,:,:]),             \n",
    "    mult_gauss(mu_hat[:,1], sigma_hat[1,:,:]), \n",
    "    mult_gauss(mu_hat[:,2], sigma_hat[2,:,:])]\n",
    "\n",
    "X_Data_hat, mixture_info_hat =  generate_data(generators_hat, N, pi_hat)"
   ]
  },
  {
   "cell_type": "markdown",
   "metadata": {},
   "source": [
    "### 1. Check if the Covarinaces are symmetric and positive definite:"
   ]
  },
  {
   "cell_type": "code",
   "execution_count": 25,
   "metadata": {},
   "outputs": [
    {
     "name": "stdout",
     "output_type": "stream",
     "text": [
      "(3, 2, 2)\n",
      "Sigma_hat_0 = \n",
      " [[4.84279756 0.08474797]\n",
      " [0.08474797 6.88462803]]  \n",
      " Eignevalues of Sigma_hat_0 = [4.83928606 6.88813953] \n",
      "\n",
      "Sigma_hat_1 = \n",
      " [[9.87081669 0.01220974]\n",
      " [0.01220974 2.94623064]]  \n",
      " Eignevalues of Sigma_hat_1 = [9.87083822 2.94620911] \n",
      "\n",
      "Sigma_hat_2 = \n",
      " [[ 4.99821809 -0.29661331]\n",
      " [-0.29661331 14.36813063]]  \n",
      " Eignevalues of Sigma_hat_2 = [ 4.98883791 14.37751081] \n",
      "\n"
     ]
    }
   ],
   "source": [
    "print(sigma_hat.shape)\n",
    "for i in range(sigma_hat.shape[0]):\n",
    "    ev, evec = LA.eig(sigma_hat[i,:,:])\n",
    "    print('Sigma_hat_' + str(i),'= \\n',sigma_hat[i,:,:],' \\n Eignevalues of Sigma_hat_'+str(i),'=',ev, '\\n')"
   ]
  },
  {
   "cell_type": "markdown",
   "metadata": {},
   "source": [
    "### 2. Check if the mixture size of the original data and the data generated by the estimated parameters are close:"
   ]
  },
  {
   "cell_type": "code",
   "execution_count": 7,
   "metadata": {},
   "outputs": [
    {
     "name": "stdout",
     "output_type": "stream",
     "text": [
      "mixture info of the original data: \n",
      " pi= [0.4 0.3 0.3] \n",
      " mixture_info =  {0: 3895, 1: 3075, 2: 3030} \n",
      "\n",
      "mixture info of the estimated data: \n",
      " pi_hat= [0.38862908 0.31433766 0.29703326] \n",
      " mixture_info =  {0: 3786, 1: 3145, 2: 3069} \n",
      "\n"
     ]
    }
   ],
   "source": [
    "print('mixture info of the original data: \\n', 'pi=', pi,'\\n','mixture_info = ', mixture_info, '\\n')\n",
    "print('mixture info of the estimated data: \\n', 'pi_hat=', pi_hat,'\\n','mixture_info = ', mixture_info_hat, '\\n')\n"
   ]
  },
  {
   "cell_type": "markdown",
   "metadata": {},
   "source": [
    "### 3. Plot the original data and the data generated by the estimated parameters:"
   ]
  },
  {
   "cell_type": "code",
   "execution_count": 8,
   "metadata": {},
   "outputs": [
    {
     "data": {
      "image/png": "[encoded data removed]",
      "text/plain": [
       "<Figure size 432x288 with 1 Axes>"
      ]
     },
     "metadata": {
      "needs_background": "light"
     },
     "output_type": "display_data"
    }
   ],
   "source": [
    "ploting(X_Data.T)"
   ]
  },
  {
   "cell_type": "code",
   "execution_count": 9,
   "metadata": {},
   "outputs": [
    {
     "data": {
      "image/png": "[encoded data removed]",
      "text/plain": [
       "<Figure size 432x288 with 1 Axes>"
      ]
     },
     "metadata": {
      "needs_background": "light"
     },
     "output_type": "display_data"
    }
   ],
   "source": [
    "ploting(X_Data_hat.T)"
   ]
  },
  {
   "cell_type": "code",
   "execution_count": 10,
   "metadata": {},
   "outputs": [
    {
     "name": "stdout",
     "output_type": "stream",
     "text": [
      "(2, 10000)\n",
      "[[-9.99834342  1.76391094  0.82325942]\n",
      " [10.0300581  -4.62867165  2.97667637]]\n"
     ]
    }
   ],
   "source": [
    "print(X_Data.shape)\n",
    "kmeans = KMeans(n_clusters=3, random_state=1).fit(X_Data.T)\n",
    "lables = kmeans.labels_\n",
    "print(np.array(kmeans.cluster_centers_).T)"
   ]
  },
  {
   "cell_type": "code",
   "execution_count": 11,
   "metadata": {},
   "outputs": [
    {
     "name": "stdout",
     "output_type": "stream",
     "text": [
      "[3881 4022 2097]\n"
     ]
    }
   ],
   "source": [
    "unique, counts = np.unique(lables, return_counts=True)\n",
    "mixture_info = (((unique, counts)))\n",
    "\n",
    "# print(np.array(np.asarray(mixture_info)))\n",
    "print(counts)"
   ]
  },
  {
   "cell_type": "code",
   "execution_count": null,
   "metadata": {},
   "outputs": [],
   "source": []
  },
  {
   "cell_type": "code",
   "execution_count": null,
   "metadata": {},
   "outputs": [],
   "source": []
  },
  {
   "cell_type": "code",
   "execution_count": null,
   "metadata": {},
   "outputs": [],
   "source": []
  },
  {
   "cell_type": "code",
   "execution_count": null,
   "metadata": {},
   "outputs": [],
   "source": []
  },
  {
   "cell_type": "code",
   "execution_count": null,
   "metadata": {},
   "outputs": [],
   "source": []
  },
  {
   "cell_type": "code",
   "execution_count": 12,
   "metadata": {},
   "outputs": [
    {
     "name": "stdout",
     "output_type": "stream",
     "text": [
      "(2, 10)\n",
      "[0.3 0.5 0.2]\n",
      "[[-8.65366801  0.34587275  1.35750512]\n",
      " [13.12542726 -4.38672234  6.90811082]]\n",
      "[[[1. 0.]\n",
      "  [0. 1.]]\n",
      "\n",
      " [[1. 0.]\n",
      "  [0. 1.]]\n",
      "\n",
      " [[1. 0.]\n",
      "  [0. 1.]]]\n"
     ]
    }
   ],
   "source": [
    "pi = np.array([0.4, 0.3, 0.3])\n",
    "\n",
    "generators = [\n",
    "    mult_gauss([-10, 10], [[5, 0], [0, 7]]),             \n",
    "    mult_gauss([2, -5], [[10, 0], [0, 3]]), \n",
    "    mult_gauss([1, 1], [[5, 0], [0, 15]])]\n",
    "N = 10\n",
    "K = 3\n",
    "tol = 0.000001\n",
    "Data, mixture_info =  generate_data(generators, N, pi)\n",
    "\n",
    "kmeans = KMeans(n_clusters=K, random_state=1).fit(Data.T)\n",
    "lables = kmeans.labels_\n",
    "unique, counts = np.unique(lables, return_counts=True)\n",
    "pi = np.array(counts)/N\n",
    "mu = np.array(kmeans.cluster_centers_).T\n",
    "sigma =  np.array([np.eye(2)]*K) # initialize the covariances\n",
    "print(Data.shape)\n",
    "print(pi)\n",
    "print(mu)\n",
    "print(sigma)"
   ]
  },
  {
   "cell_type": "code",
   "execution_count": 13,
   "metadata": {
    "scrolled": false
   },
   "outputs": [],
   "source": [
    "A = pi[1]*mult_gauss.pdf(Data.T, mu[:,1], sigma[1,:,:])\n",
    "# A = pi[1]*mult_gauss(mu[:,1], sigma[1,:,:]).pdf(Data.T)\n",
    "# print(A)\n",
    "# print(A.shape)\n",
    "# 9.10421022e-110 8.57736183e-102"
   ]
  },
  {
   "cell_type": "code",
   "execution_count": 14,
   "metadata": {},
   "outputs": [
    {
     "name": "stdout",
     "output_type": "stream",
     "text": [
      "[[ -1.34120558  -7.38734487 -10.35224068   0.56183174   0.63412213\n",
      "   -8.22141849   1.50123594   3.16312075   2.15317849  -2.22790948]\n",
      " [ -4.2924818   12.05500934  14.29203459   3.41238352   0.34518312\n",
      "   13.02923786  -5.05487403  -8.21214558  10.40383812  -4.71929341]]\n",
      "[-8.65366801 13.12542726]\n",
      "(2, 10)\n"
     ]
    }
   ],
   "source": [
    "print(Data)\n",
    "print( mu[:,0])\n",
    "Aa = Data - np.reshape(mu[:,0], (2,1))\n",
    "print( Aa.shape)"
   ]
  },
  {
   "cell_type": "code",
   "execution_count": 15,
   "metadata": {},
   "outputs": [
    {
     "name": "stdout",
     "output_type": "stream",
     "text": [
      "[[1 2]\n",
      " [3 4]\n",
      " [5 6]]\n"
     ]
    }
   ],
   "source": [
    "Bb = np.array([[1,2],[3,4],[5,6]])\n",
    "print(Bb)"
   ]
  },
  {
   "cell_type": "code",
   "execution_count": 16,
   "metadata": {},
   "outputs": [
    {
     "name": "stdout",
     "output_type": "stream",
     "text": [
      "[[[1]\n",
      "  [2]]\n",
      "\n",
      " [[3]\n",
      "  [4]]\n",
      "\n",
      " [[5]\n",
      "  [6]]]\n",
      "[[[1 2]]\n",
      "\n",
      " [[3 4]]\n",
      "\n",
      " [[5 6]]]\n"
     ]
    }
   ],
   "source": [
    "Br1 = np.reshape(Bb, (3,2,1))\n",
    "print(Br1)\n",
    "Br2 = np.reshape(Bb, (3,1,2))\n",
    "print(Br2)"
   ]
  },
  {
   "cell_type": "code",
   "execution_count": 17,
   "metadata": {},
   "outputs": [
    {
     "name": "stdout",
     "output_type": "stream",
     "text": [
      "[[[ 1  2]\n",
      "  [ 2  4]]\n",
      "\n",
      " [[ 9 12]\n",
      "  [12 16]]\n",
      "\n",
      " [[25 30]\n",
      "  [30 36]]]\n"
     ]
    }
   ],
   "source": [
    "Br12 = Br1*Br2\n",
    "print(Br12)"
   ]
  },
  {
   "cell_type": "code",
   "execution_count": 18,
   "metadata": {},
   "outputs": [
    {
     "name": "stdout",
     "output_type": "stream",
     "text": [
      "[[[  1   2]\n",
      "  [  2   4]]\n",
      "\n",
      " [[ 18  24]\n",
      "  [ 24  32]]\n",
      "\n",
      " [[ 75  90]\n",
      "  [ 90 108]]]\n"
     ]
    }
   ],
   "source": [
    "c = np.array([1, 2, 3])\n",
    "c = np.reshape(c,(3,1,1))\n",
    "Br12s = c*Br12\n",
    "print(Br12s)"
   ]
  },
  {
   "cell_type": "code",
   "execution_count": 19,
   "metadata": {},
   "outputs": [
    {
     "name": "stdout",
     "output_type": "stream",
     "text": [
      "[[ 94 116]\n",
      " [116 144]]\n"
     ]
    }
   ],
   "source": [
    "print(Br12s.sum(0))"
   ]
  },
  {
   "cell_type": "code",
   "execution_count": 20,
   "metadata": {},
   "outputs": [],
   "source": [
    "l_new = 0\n",
    "for i in range(N):\n",
    "    dum = 0.0\n",
    "    for j in range(K):\n",
    "        dum += pi[j]*mult_gauss(mu[:,j], sigma[j,:,:]).pdf(X_Data[:,i])\n",
    "    dum = np.log(dum)\n",
    "    l_new += dum"
   ]
  },
  {
   "cell_type": "code",
   "execution_count": 21,
   "metadata": {},
   "outputs": [
    {
     "name": "stdout",
     "output_type": "stream",
     "text": [
      "[[1.54425403e-079 1.20760118e-002 5.71357279e-003 5.63959208e-041\n",
      "  3.01642484e-056 4.32873041e-002 3.26612541e-096 3.10353441e-131\n",
      "  5.13268242e-029 3.67937639e-080]\n",
      " [1.90901738e-002 1.63409618e-073 1.93452073e-102 4.81341538e-015\n",
      "  1.04862295e-006 1.25415740e-083 3.26578626e-002 9.99112088e-007\n",
      "  4.87789585e-050 2.74354750e-003]\n",
      " [4.78107596e-031 1.39548839e-024 7.73836761e-044 5.15005678e-005\n",
      "  1.08705210e-011 2.76834854e-030 2.64100772e-033 1.41327414e-052\n",
      "  5.15005678e-005 2.25853122e-034]]\n"
     ]
    }
   ],
   "source": [
    "dum = np.zeros((N,1))\n",
    "results = [(pi[j]*mult_gauss.pdf(Data.T, mu[:,j], sigma[j,:,:]))\n",
    "           for j in range(K)]\n",
    "print(np.array(results))"
   ]
  },
  {
   "cell_type": "code",
   "execution_count": 22,
   "metadata": {},
   "outputs": [
    {
     "name": "stdout",
     "output_type": "stream",
     "text": [
      "(10,)\n"
     ]
    }
   ],
   "source": [
    "results = [(i, j)\n",
    "           for i in range(10)\n",
    "           for j in range(i)]\n",
    "print((pi[1]*mult_gauss.pdf(Data.T, mu[:,1], sigma[1,:,:])).shape)"
   ]
  },
  {
   "cell_type": "code",
   "execution_count": 23,
   "metadata": {},
   "outputs": [
    {
     "name": "stdout",
     "output_type": "stream",
     "text": [
      "[[1 0]\n",
      " [2 0]\n",
      " [2 1]\n",
      " [3 0]\n",
      " [3 1]\n",
      " [3 2]\n",
      " [4 0]\n",
      " [4 1]\n",
      " [4 2]\n",
      " [4 3]\n",
      " [5 0]\n",
      " [5 1]\n",
      " [5 2]\n",
      " [5 3]\n",
      " [5 4]\n",
      " [6 0]\n",
      " [6 1]\n",
      " [6 2]\n",
      " [6 3]\n",
      " [6 4]\n",
      " [6 5]\n",
      " [7 0]\n",
      " [7 1]\n",
      " [7 2]\n",
      " [7 3]\n",
      " [7 4]\n",
      " [7 5]\n",
      " [7 6]\n",
      " [8 0]\n",
      " [8 1]\n",
      " [8 2]\n",
      " [8 3]\n",
      " [8 4]\n",
      " [8 5]\n",
      " [8 6]\n",
      " [8 7]\n",
      " [9 0]\n",
      " [9 1]\n",
      " [9 2]\n",
      " [9 3]\n",
      " [9 4]\n",
      " [9 5]\n",
      " [9 6]\n",
      " [9 7]\n",
      " [9 8]]\n"
     ]
    }
   ],
   "source": [
    "print(np.array(results))"
   ]
  },
  {
   "cell_type": "code",
   "execution_count": null,
   "metadata": {},
   "outputs": [],
   "source": []
  }
 ],
 "metadata": {
  "kernelspec": {
   "display_name": "Python 3",
   "language": "python",
   "name": "python3"
  },
  "language_info": {
   "codemirror_mode": {
    "name": "ipython",
    "version": 3
   },
   "file_extension": ".py",
   "mimetype": "text/x-python",
   "name": "python",
   "nbconvert_exporter": "python",
   "pygments_lexer": "ipython3",
   "version": "3.7.1"
  }
 },
 "nbformat": 4,
 "nbformat_minor": 2
}
